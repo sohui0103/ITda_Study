{
 "cells": [
  {
   "cell_type": "markdown",
   "id": "a9dd95a7",
   "metadata": {},
   "source": [
    "# 1 : 입출력과 사칙연산"
   ]
  },
  {
   "cell_type": "code",
   "execution_count": 1,
   "id": "6b3beca4",
   "metadata": {},
   "outputs": [
    {
     "name": "stdout",
     "output_type": "stream",
     "text": [
      "Hello World!\n"
     ]
    }
   ],
   "source": [
    "#Hello World!를 화면에 출력하는 문제\n",
    "print(\"Hello World!\")"
   ]
  },
  {
   "cell_type": "code",
   "execution_count": 3,
   "id": "b1d1e236",
   "metadata": {},
   "outputs": [
    {
     "name": "stdout",
     "output_type": "stream",
     "text": [
      "강한친구 대한육군\n",
      "강한친구 대한육군\n"
     ]
    }
   ],
   "source": [
    "#두 줄에 걸쳐 \"강한친구 대한육군\"을 한 줄에 한 번씩 출력한다.\n",
    "print(\"강한친구 대한육군\")\n",
    "print(\"강한친구 대한육군\")"
   ]
  },
  {
   "cell_type": "code",
   "execution_count": 12,
   "id": "7e1d9913",
   "metadata": {},
   "outputs": [
    {
     "name": "stdout",
     "output_type": "stream",
     "text": [
      "\\    /\\\n",
      " )  ( ')\n",
      "(  /  )\n",
      "\\(__)|\n"
     ]
    }
   ],
   "source": [
    "#고양이를 출력한다.\n",
    "print(\"\\\\    /\\\\\")\n",
    "print(\" )  ( ')\")\n",
    "print(\"(  /  )\")\n",
    "print(\"\\\\(__)|\")"
   ]
  },
  {
   "cell_type": "code",
   "execution_count": 13,
   "id": "3c6e2317",
   "metadata": {},
   "outputs": [
    {
     "name": "stdout",
     "output_type": "stream",
     "text": [
      "|\\_/|\n",
      "|q p|   /}\n",
      "( 0 )\"\"\"\\\n",
      "|\"^\"`    |\n",
      "||_/=\\__|\n"
     ]
    }
   ],
   "source": [
    "#개를 출력한다.\n",
    "print(\"|\\_/|\")\n",
    "print(\"|q p|   /}\")\n",
    "print('( 0 )\"\"\"\\\\')\n",
    "print('|\"^\"`    |')\n",
    "print(\"||_/=\\\\__|\")"
   ]
  },
  {
   "cell_type": "code",
   "execution_count": 16,
   "id": "b47f8f78",
   "metadata": {},
   "outputs": [
    {
     "name": "stdout",
     "output_type": "stream",
     "text": [
      "1 2\n",
      "3\n"
     ]
    }
   ],
   "source": [
    "#첫째 줄에 A+B를 출력한다.\n",
    "a, b = map(int, input().split(' '))\n",
    "print(a + b)"
   ]
  },
  {
   "cell_type": "code",
   "execution_count": 18,
   "id": "fb51eb29",
   "metadata": {},
   "outputs": [
    {
     "name": "stdout",
     "output_type": "stream",
     "text": [
      "3 2\n",
      "1\n"
     ]
    }
   ],
   "source": [
    "#첫째 줄에 A-B를 출력한다.\n",
    "a, b = map(int, input().split(' '))\n",
    "print(a - b)"
   ]
  },
  {
   "cell_type": "code",
   "execution_count": 19,
   "id": "63fe21b8",
   "metadata": {},
   "outputs": [
    {
     "name": "stdout",
     "output_type": "stream",
     "text": [
      "1 2\n",
      "2\n"
     ]
    }
   ],
   "source": [
    "#첫째 줄에 A×B를 출력한다.\n",
    "a, b = map(int, input().split(' '))\n",
    "print(a * b)"
   ]
  },
  {
   "cell_type": "code",
   "execution_count": 21,
   "id": "8397f1c1",
   "metadata": {},
   "outputs": [
    {
     "name": "stdout",
     "output_type": "stream",
     "text": [
      "1 3\n",
      "0.3333333333333333\n"
     ]
    }
   ],
   "source": [
    "#첫째 줄에 A/B를 출력한다. 실제 정답과 출력값의 절대오차 또는 상대오차가 10-9 이하이면 정답이다.\n",
    "a, b = map(int, input().split(' '))\n",
    "print(a / b)"
   ]
  },
  {
   "cell_type": "code",
   "execution_count": 23,
   "id": "5b5ed97d",
   "metadata": {},
   "outputs": [
    {
     "name": "stdout",
     "output_type": "stream",
     "text": [
      "7 3\n",
      "10\n",
      "4\n",
      "21\n",
      "2\n",
      "1\n"
     ]
    }
   ],
   "source": [
    "#첫째 줄에 A+B, 둘째 줄에 A-B, 셋째 줄에 A*B, 넷째 줄에 A/B, 다섯째 줄에 A%B를 출력한다.\n",
    "a, b = map(int, input().split(' '))\n",
    "print(a + b)\n",
    "print(a - b)\n",
    "print(a * b)\n",
    "print(a // b)\n",
    "print(a % b)"
   ]
  },
  {
   "cell_type": "code",
   "execution_count": 24,
   "id": "b80e0d34",
   "metadata": {},
   "outputs": [
    {
     "name": "stdout",
     "output_type": "stream",
     "text": [
      "5 8 4\n",
      "1\n",
      "1\n",
      "0\n",
      "0\n"
     ]
    }
   ],
   "source": [
    "#첫째 줄에 (A+B)%C, 둘째 줄에 ((A%C) + (B%C))%C, 셋째 줄에 (A×B)%C, 넷째 줄에 ((A%C) × (B%C))%C를 출력한다.\n",
    "a, b, c = map(int, input().split(' '))\n",
    "print((a + b) % c)\n",
    "print(((a % c) + (b + c)) % c)\n",
    "print((a * b) % c)\n",
    "print(((a % c) * (b % c)) % c)"
   ]
  },
  {
   "cell_type": "code",
   "execution_count": 26,
   "id": "6d6db809",
   "metadata": {},
   "outputs": [
    {
     "name": "stdout",
     "output_type": "stream",
     "text": [
      "472\n",
      "385\n",
      "2360\n",
      "3776\n",
      "1416\n",
      "181720\n"
     ]
    }
   ],
   "source": [
    "#첫째 줄부터 넷째 줄까지 차례대로 (3), (4), (5), (6)에 들어갈 값을 출력한다.\n",
    "a = int(input())\n",
    "b = input()\n",
    "\n",
    "print(a * int(b[2]))\n",
    "print(a * int(b[1]))\n",
    "print(a * int(b[0]))\n",
    "print(a * int(b))"
   ]
  },
  {
   "cell_type": "markdown",
   "id": "95e87f1d",
   "metadata": {},
   "source": [
    "# 2 : if"
   ]
  },
  {
   "cell_type": "code",
   "execution_count": 48,
   "id": "038932d7",
   "metadata": {},
   "outputs": [
    {
     "name": "stdout",
     "output_type": "stream",
     "text": [
      "1 2\n",
      " < \n"
     ]
    }
   ],
   "source": [
    "a, b = map(int, input().split(' '))\n",
    "\n",
    "if a > b:\n",
    "    print(\" > \")\n",
    "if a < b:\n",
    "    print(\" < \")\n",
    "if a == b:\n",
    "    print(\" = \")"
   ]
  },
  {
   "cell_type": "code",
   "execution_count": 50,
   "id": "0e125d14",
   "metadata": {},
   "outputs": [
    {
     "name": "stdout",
     "output_type": "stream",
     "text": [
      "100\n",
      "A\n"
     ]
    }
   ],
   "source": [
    "s = int(input())\n",
    "\n",
    "if s >= 90 and s <= 100:\n",
    "    print('A')\n",
    "elif s >= 80 and s < 90:\n",
    "    print('B')\n",
    "elif s >= 70 and s < 80:\n",
    "    print('C')\n",
    "elif s >= 60 and s < 70:\n",
    "    print('D')\n",
    "else:\n",
    "    print('E')"
   ]
  },
  {
   "cell_type": "code",
   "execution_count": 55,
   "id": "cfb35a9a",
   "metadata": {},
   "outputs": [
    {
     "name": "stdout",
     "output_type": "stream",
     "text": [
      "1999\n",
      "0\n"
     ]
    }
   ],
   "source": [
    "a = int(input())\n",
    "\n",
    "if (a % 4 == 0 and (a % 100 != 0 or a % 400 == 0)):\n",
    "    print('1')\n",
    "else:\n",
    "    print('0')"
   ]
  },
  {
   "cell_type": "code",
   "execution_count": 58,
   "id": "02470abd",
   "metadata": {},
   "outputs": [
    {
     "name": "stdout",
     "output_type": "stream",
     "text": [
      "9\n",
      "-13\n",
      "4\n"
     ]
    }
   ],
   "source": [
    "a = int(input())\n",
    "b = int(input())\n",
    "\n",
    "if (a > 0 and b > 0):\n",
    "    print('1')\n",
    "elif (a < 0 and b > 0):\n",
    "    print('2')\n",
    "elif (a < 0 and b < 0):\n",
    "    print('3')\n",
    "elif (a > 0 and b < 0):\n",
    "    print('4')"
   ]
  },
  {
   "cell_type": "code",
   "execution_count": 63,
   "id": "3b582feb",
   "metadata": {},
   "outputs": [
    {
     "name": "stdout",
     "output_type": "stream",
     "text": [
      "0 30\n",
      "23 45\n"
     ]
    }
   ],
   "source": [
    "H, M = map(int, input().split(' '))\n",
    "\n",
    "if (M - 45 >= 0):\n",
    "    print(H, M - 45)\n",
    "elif (M - 45 < 0):\n",
    "    if H - 1 >= 0:\n",
    "        print(H - 1, M + 15)\n",
    "    else:\n",
    "        print(H + 23, M + 15)\n",
    "    "
   ]
  },
  {
   "cell_type": "code",
   "execution_count": 64,
   "id": "01e40d0a",
   "metadata": {},
   "outputs": [
    {
     "name": "stdout",
     "output_type": "stream",
     "text": [
      "10 10\n",
      "9 25\n"
     ]
    }
   ],
   "source": [
    "H, M = map(int, input().split(' '))\n",
    "\n",
    "if (M - 45 >= 0):\n",
    "    print(H, M - 45)\n",
    "elif (M - 45 < 0):\n",
    "    print(H - 1, M + 15)"
   ]
  },
  {
   "cell_type": "markdown",
   "id": "f01d6819",
   "metadata": {},
   "source": [
    "# 3 : for"
   ]
  },
  {
   "cell_type": "code",
   "execution_count": 6,
   "id": "8c403f78",
   "metadata": {},
   "outputs": [
    {
     "name": "stdout",
     "output_type": "stream",
     "text": [
      "2\n",
      "2  *  1  =  2\n",
      "2  *  2  =  4\n",
      "2  *  3  =  6\n",
      "2  *  4  =  8\n",
      "2  *  5  =  10\n",
      "2  *  6  =  12\n",
      "2  *  7  =  14\n",
      "2  *  8  =  16\n",
      "2  *  9  =  18\n"
     ]
    }
   ],
   "source": [
    "n = int(input())\n",
    "\n",
    "for i in range(1, 10):\n",
    "    print(n, \" * \", i, \" = \", n * i)"
   ]
  },
  {
   "cell_type": "code",
   "execution_count": 5,
   "id": "24306f53",
   "metadata": {},
   "outputs": [
    {
     "name": "stdout",
     "output_type": "stream",
     "text": [
      "5\n",
      "1 1\n",
      "2\n",
      "2 3\n",
      "5\n",
      "3 4\n",
      "7\n",
      "9 8\n",
      "17\n",
      "5 2\n",
      "7\n"
     ]
    }
   ],
   "source": [
    "n = int(input())\n",
    "\n",
    "for i in range(n):\n",
    "    a,b = map(int, input().split())\n",
    "    print(a+b)\n",
    "    i += 1\n",
    "    "
   ]
  },
  {
   "cell_type": "code",
   "execution_count": 12,
   "id": "42945293",
   "metadata": {},
   "outputs": [
    {
     "name": "stdout",
     "output_type": "stream",
     "text": [
      "3\n",
      "6\n"
     ]
    }
   ],
   "source": [
    "n = int(input())\n",
    "a = 0\n",
    "\n",
    "for i in range(0, n + 1):\n",
    "    a += i\n",
    "    i +=1\n",
    "print(a)"
   ]
  },
  {
   "cell_type": "code",
   "execution_count": null,
   "id": "b9dd58b3",
   "metadata": {},
   "outputs": [],
   "source": [
    "import sys\n",
    "\n",
    "n = int(input())\n",
    "for i in range(n):\n",
    "    a,b = map(int, sys.stdin.readline().split())\n",
    "    print(a+b)\n",
    "    i += 1"
   ]
  },
  {
   "cell_type": "code",
   "execution_count": 24,
   "id": "8dd84f2f",
   "metadata": {},
   "outputs": [
    {
     "name": "stdout",
     "output_type": "stream",
     "text": [
      "5\n",
      "1\n",
      "2\n",
      "3\n",
      "4\n",
      "5\n"
     ]
    }
   ],
   "source": [
    "n = int(input())\n",
    "for i in range(1, n + 1):\n",
    "    print(i)\n",
    "    i += 1"
   ]
  },
  {
   "cell_type": "code",
   "execution_count": 27,
   "id": "ba307f43",
   "metadata": {},
   "outputs": [
    {
     "name": "stdout",
     "output_type": "stream",
     "text": [
      "5\n",
      "5\n",
      "4\n",
      "3\n",
      "2\n",
      "1\n"
     ]
    }
   ],
   "source": [
    "n = int(input())\n",
    "for i in range(0, n):\n",
    "    print(n - i)\n",
    "    i += 1"
   ]
  },
  {
   "cell_type": "code",
   "execution_count": 29,
   "id": "a2521af8",
   "metadata": {},
   "outputs": [
    {
     "name": "stdout",
     "output_type": "stream",
     "text": [
      "5\n",
      "1 1\n",
      "Case #1:  2\n",
      "2 3\n",
      "Case #2:  5\n",
      "3 4\n",
      "Case #3:  7\n",
      "9 8\n",
      "Case #4:  17\n",
      "5 2\n",
      "Case #5:  7\n"
     ]
    }
   ],
   "source": [
    "n = int(input())\n",
    "\n",
    "for i in range(1, n+ 1):\n",
    "    a,b = map(int, input().split(' '))\n",
    "    print(\"Case #{0}: \".format(i), a + b)"
   ]
  },
  {
   "cell_type": "code",
   "execution_count": 31,
   "id": "3de962cd",
   "metadata": {},
   "outputs": [
    {
     "name": "stdout",
     "output_type": "stream",
     "text": [
      "5\n",
      "1 1\n",
      "Case #1: 1 + 1 = 2\n",
      "2 3\n",
      "Case #2: 2 + 3 = 5\n",
      "3 4\n",
      "Case #3: 3 + 4 = 7\n",
      "9 8\n",
      "Case #4: 9 + 8 = 17\n",
      "5 2\n",
      "Case #5: 5 + 2 = 7\n"
     ]
    }
   ],
   "source": [
    "n = int(input())\n",
    "\n",
    "for i in range(1, n+ 1):\n",
    "    a,b = map(int, input().split(' '))\n",
    "    print(\"Case #{0}: {1} + {2} = {3}\".format(i, a, b, a+b))"
   ]
  },
  {
   "cell_type": "code",
   "execution_count": 32,
   "id": "77f3e508",
   "metadata": {},
   "outputs": [
    {
     "name": "stdout",
     "output_type": "stream",
     "text": [
      "5\n",
      "*\n",
      "**\n",
      "***\n",
      "****\n",
      "*****\n"
     ]
    }
   ],
   "source": [
    "n = int(input())\n",
    "\n",
    "for i in range(1, n + 1):\n",
    "    print(\"*\" * i)"
   ]
  },
  {
   "cell_type": "code",
   "execution_count": 37,
   "id": "df41e13b",
   "metadata": {},
   "outputs": [
    {
     "name": "stdout",
     "output_type": "stream",
     "text": [
      "5\n",
      "    *\n",
      "   **\n",
      "  ***\n",
      " ****\n",
      "*****\n"
     ]
    }
   ],
   "source": [
    "n = int(input())\n",
    "\n",
    "for i in range(1, n + 1):\n",
    "    print(\" \" * (n - i) + \"*\" * i)"
   ]
  },
  {
   "cell_type": "code",
   "execution_count": 38,
   "id": "f5811976",
   "metadata": {},
   "outputs": [
    {
     "name": "stdout",
     "output_type": "stream",
     "text": [
      "5\n",
      "    *\n",
      "   **\n",
      "  ***\n",
      " ****\n",
      "*****\n"
     ]
    }
   ],
   "source": [
    "n = int(input())\n",
    "\n",
    "for i in range(1, n + 1):\n",
    "    print(\" \" * (n - i) , end = \"\")\n",
    "    print(\"*\" * i)"
   ]
  },
  {
   "cell_type": "code",
   "execution_count": 47,
   "id": "c3c32b27",
   "metadata": {},
   "outputs": [
    {
     "name": "stdout",
     "output_type": "stream",
     "text": [
      "10 5\n",
      "1 10 4 9 2 3 8 5 7 6\n",
      "1 4 2 3 "
     ]
    }
   ],
   "source": [
    "n, x = map(int, input().split(' '))\n",
    "num = list(map(int, input().split(' ')))\n",
    "\n",
    "for i in range (n):\n",
    "    if num[i] < x:\n",
    "        print(num[i], end=\" \")"
   ]
  },
  {
   "cell_type": "markdown",
   "id": "1b46300e",
   "metadata": {},
   "source": [
    "# 4 : while"
   ]
  },
  {
   "cell_type": "code",
   "execution_count": 68,
   "id": "abf83d2e",
   "metadata": {},
   "outputs": [
    {
     "name": "stdout",
     "output_type": "stream",
     "text": [
      "2 3\n",
      "5\n",
      "3 4\n",
      "7\n",
      "5 7\n",
      "12\n",
      "0 0\n"
     ]
    }
   ],
   "source": [
    "while (True):\n",
    "    a, b = map(int, input().split(' '))\n",
    "    if a != 0 and b != 0:\n",
    "        print(a + b)\n",
    "    \n",
    "    if a == 0 and b == 0:\n",
    "        break"
   ]
  },
  {
   "cell_type": "code",
   "execution_count": 74,
   "id": "1df461d2",
   "metadata": {},
   "outputs": [
    {
     "name": "stdout",
     "output_type": "stream",
     "text": [
      "1 1\n",
      "2\n",
      "2 3\n",
      "5\n",
      "9 8\n",
      "17\n",
      "5 2\n",
      "7\n",
      "0\n"
     ]
    }
   ],
   "source": [
    "while True:\n",
    "    try: #종속 문장 실행\n",
    "        a, b = map(int, input().split(' '))\n",
    "        print(a + b)\n",
    "    except: #종속 문장 외 실행\n",
    "        break \n",
    "        "
   ]
  },
  {
   "cell_type": "code",
   "execution_count": 79,
   "id": "b0f1326f",
   "metadata": {},
   "outputs": [
    {
     "name": "stdout",
     "output_type": "stream",
     "text": [
      "26\n",
      "4\n"
     ]
    }
   ],
   "source": [
    "n = int(input())\n",
    "temp = n\n",
    "count = 0\n",
    "\n",
    "while True :\n",
    "    left = temp // 10 #왼쪽자리 수 #한자리 수의 경우 10으로 나눈 몫이 0임\n",
    "    right = temp % 10 #오른쪽 자리 수 \n",
    "    add = (left + right) % 10 \n",
    "    temp = (right * 10) + add\n",
    "    \n",
    "    count += 1\n",
    "    if temp == n:\n",
    "        print(count)\n",
    "        break\n",
    "\n",
    "\n"
   ]
  },
  {
   "cell_type": "markdown",
   "id": "d6e8cab8",
   "metadata": {},
   "source": [
    "# 5 : 1차원 배열"
   ]
  },
  {
   "cell_type": "code",
   "execution_count": 80,
   "id": "2743121e",
   "metadata": {},
   "outputs": [
    {
     "name": "stdout",
     "output_type": "stream",
     "text": [
      "5\n",
      "20 10 35 30 7\n",
      "7 35\n"
     ]
    }
   ],
   "source": [
    "n = int(input())\n",
    "a = list(map(int, input().split()))\n",
    "\n",
    "print(min(a), max(a))"
   ]
  },
  {
   "cell_type": "code",
   "execution_count": 85,
   "id": "c6e92fbe",
   "metadata": {},
   "outputs": [
    {
     "name": "stdout",
     "output_type": "stream",
     "text": [
      "3\n",
      "29\n",
      "38\n",
      "12\n",
      "57\n",
      "74\n",
      "40\n",
      "85\n",
      "61\n",
      "85\n",
      "8\n"
     ]
    }
   ],
   "source": [
    "A = []\n",
    "\n",
    "for i in range(9):\n",
    "    a = int(input())\n",
    "    A.append(a)\n",
    "print(max(A))\n",
    "print(A.index(max(A)) + 1)"
   ]
  },
  {
   "cell_type": "code",
   "execution_count": 86,
   "id": "c05dbf66",
   "metadata": {},
   "outputs": [
    {
     "name": "stdout",
     "output_type": "stream",
     "text": [
      "150\n",
      "266\n",
      "427\n",
      "3\n",
      "1\n",
      "0\n",
      "2\n",
      "0\n",
      "0\n",
      "0\n",
      "2\n",
      "0\n",
      "0\n"
     ]
    }
   ],
   "source": [
    "a = int(input())\n",
    "b = int(input())\n",
    "c = int(input())\n",
    "\n",
    "d = a * b* c\n",
    "e = list(map(int, str(d)))\n",
    "\n",
    "for i in range(10):\n",
    "    f = 0\n",
    "    for j in e:\n",
    "        if (j == i):\n",
    "            f += 1\n",
    "            \n",
    "    print(f)\n",
    "\n"
   ]
  },
  {
   "cell_type": "code",
   "execution_count": 88,
   "id": "c024941d",
   "metadata": {},
   "outputs": [
    {
     "name": "stdout",
     "output_type": "stream",
     "text": [
      "1\n",
      "2\n",
      "3\n",
      "4\n",
      "5\n",
      "6\n",
      "7\n",
      "8\n",
      "9\n",
      "10\n",
      "10\n"
     ]
    }
   ],
   "source": [
    "nums = set()\n",
    "for i in range(10):\n",
    "    nums.add(int(input()) % 42)\n",
    "print(len(nums))"
   ]
  },
  {
   "cell_type": "code",
   "execution_count": 90,
   "id": "e477ea23",
   "metadata": {},
   "outputs": [
    {
     "name": "stdout",
     "output_type": "stream",
     "text": [
      "3\n",
      "40 80 60\n",
      "75.0\n"
     ]
    }
   ],
   "source": [
    "n = int(input(\"\"))\n",
    "score_w = input(\"\").split()\n",
    "score_n = [int(i) for i in score_w]\n",
    "total = 0\n",
    "\n",
    "for i in range(n):\n",
    "    total += score_n[i] / max(score_n) * 100\n",
    "    \n",
    "print(total / n)"
   ]
  },
  {
   "cell_type": "code",
   "execution_count": 95,
   "id": "3daf2ac1",
   "metadata": {},
   "outputs": [
    {
     "name": "stdout",
     "output_type": "stream",
     "text": [
      "5\n",
      "5 50 50 70 80 100\n",
      "40.000%\n",
      "7 100 95 90 80 70 60 50\n",
      "57.143%\n",
      "3 70 90 80\n",
      "33.333%\n",
      "3 70 90 81\n",
      "66.667%\n",
      "9 100 99 98 97 96 95 94 93 91\n",
      "55.556%\n"
     ]
    }
   ],
   "source": [
    "C = int(input())\n",
    "\n",
    "while C > 0:\n",
    "    n_good, percentage = 0, 0.0 #평균 넘는 학생 수 , 비율\n",
    "    \n",
    "    scores = v\n",
    "    n = scores.pop(0)\n",
    "    average = sum(scores) / n\n",
    "\n",
    "    for score in scores: \n",
    "        if score > average:\n",
    "            n_good += 1\n",
    "    percentage = n_good / n * 100\n",
    "\n",
    "    print(f\"{percentage:.3f}%\")\n",
    "    \n",
    "    C -= 1"
   ]
  },
  {
   "cell_type": "code",
   "execution_count": 97,
   "id": "62a83c71",
   "metadata": {},
   "outputs": [
    {
     "name": "stdout",
     "output_type": "stream",
     "text": [
      "5\n",
      "OOXXOXXOOO\n",
      "10\n",
      "OOXXOOXXOO\n",
      "9\n",
      "OXOXOXOXOXOXOX\n",
      "7\n",
      "OOOOOOOOOO\n",
      "55\n",
      "OOOOXOOOOXOOOOX\n",
      "30\n"
     ]
    }
   ],
   "source": [
    "for i in range(int(input())):\n",
    "    a = input()\n",
    "    score = 0\n",
    "    sumscore = 0\n",
    "    \n",
    "    for j in a:\n",
    "        if j == \"O\":\n",
    "            score += 1\n",
    "            sumscore += score\n",
    "        else:\n",
    "            score = 0\n",
    "    print(sumscore)"
   ]
  },
  {
   "cell_type": "markdown",
   "id": "f9b514c1",
   "metadata": {},
   "source": [
    "# 6 : 함수"
   ]
  },
  {
   "cell_type": "code",
   "execution_count": 27,
   "id": "fef8a743",
   "metadata": {},
   "outputs": [],
   "source": [
    "#정수 n개가 주어졌을 때, n개의 합을 구하는 함수를 작성하시오.\n",
    "def solve(a):\n",
    "    return(sum(a))"
   ]
  },
  {
   "cell_type": "code",
   "execution_count": 28,
   "id": "cf85eacc",
   "metadata": {},
   "outputs": [
    {
     "name": "stdout",
     "output_type": "stream",
     "text": [
      "1\n",
      "3\n",
      "5\n",
      "7\n",
      "9\n",
      "20\n",
      "31\n",
      "42\n",
      "53\n",
      "64\n",
      "75\n",
      "86\n",
      "97\n",
      "108\n",
      "110\n",
      "121\n",
      "132\n",
      "143\n",
      "154\n",
      "165\n",
      "176\n",
      "187\n",
      "198\n",
      "209\n",
      "211\n",
      "222\n",
      "233\n",
      "244\n",
      "255\n",
      "266\n",
      "277\n",
      "288\n",
      "299\n",
      "310\n",
      "312\n",
      "323\n",
      "334\n",
      "345\n",
      "356\n",
      "367\n",
      "378\n",
      "389\n",
      "400\n",
      "411\n",
      "413\n",
      "424\n",
      "435\n",
      "446\n",
      "457\n",
      "468\n",
      "479\n",
      "490\n",
      "501\n",
      "512\n",
      "514\n",
      "525\n",
      "536\n",
      "547\n",
      "558\n",
      "569\n",
      "580\n",
      "591\n",
      "602\n",
      "613\n",
      "615\n",
      "626\n",
      "637\n",
      "648\n",
      "659\n",
      "670\n",
      "681\n",
      "692\n",
      "703\n",
      "714\n",
      "716\n",
      "727\n",
      "738\n",
      "749\n",
      "760\n",
      "771\n",
      "782\n",
      "793\n",
      "804\n",
      "815\n",
      "817\n",
      "828\n",
      "839\n",
      "850\n",
      "861\n",
      "872\n",
      "883\n",
      "894\n",
      "905\n",
      "916\n",
      "918\n",
      "929\n",
      "940\n",
      "951\n",
      "962\n",
      "973\n",
      "984\n",
      "995\n",
      "1006\n",
      "1021\n",
      "1032\n",
      "1043\n",
      "1054\n",
      "1065\n",
      "1076\n",
      "1087\n",
      "1098\n",
      "1109\n",
      "1111\n",
      "1122\n",
      "1133\n",
      "1144\n",
      "1155\n",
      "1166\n",
      "1177\n",
      "1188\n",
      "1199\n",
      "1210\n",
      "1212\n",
      "1223\n",
      "1234\n",
      "1245\n",
      "1256\n",
      "1267\n",
      "1278\n",
      "1289\n",
      "1300\n",
      "1311\n",
      "1313\n",
      "1324\n",
      "1335\n",
      "1346\n",
      "1357\n",
      "1368\n",
      "1379\n",
      "1390\n",
      "1401\n",
      "1412\n",
      "1414\n",
      "1425\n",
      "1436\n",
      "1447\n",
      "1458\n",
      "1469\n",
      "1480\n",
      "1491\n",
      "1502\n",
      "1513\n",
      "1515\n",
      "1526\n",
      "1537\n",
      "1548\n",
      "1559\n",
      "1570\n",
      "1581\n",
      "1592\n",
      "1603\n",
      "1614\n",
      "1616\n",
      "1627\n",
      "1638\n",
      "1649\n",
      "1660\n",
      "1671\n",
      "1682\n",
      "1693\n",
      "1704\n",
      "1715\n",
      "1717\n",
      "1728\n",
      "1739\n",
      "1750\n",
      "1761\n",
      "1772\n",
      "1783\n",
      "1794\n",
      "1805\n",
      "1816\n",
      "1818\n",
      "1829\n",
      "1840\n",
      "1851\n",
      "1862\n",
      "1873\n",
      "1884\n",
      "1895\n",
      "1906\n",
      "1917\n",
      "1919\n",
      "1930\n",
      "1941\n",
      "1952\n",
      "1963\n",
      "1974\n",
      "1985\n",
      "1996\n",
      "2007\n",
      "2022\n",
      "2033\n",
      "2044\n",
      "2055\n",
      "2066\n",
      "2077\n",
      "2088\n",
      "2099\n",
      "2110\n",
      "2112\n",
      "2123\n",
      "2134\n",
      "2145\n",
      "2156\n",
      "2167\n",
      "2178\n",
      "2189\n",
      "2200\n",
      "2211\n",
      "2213\n",
      "2224\n",
      "2235\n",
      "2246\n",
      "2257\n",
      "2268\n",
      "2279\n",
      "2290\n",
      "2301\n",
      "2312\n",
      "2314\n",
      "2325\n",
      "2336\n",
      "2347\n",
      "2358\n",
      "2369\n",
      "2380\n",
      "2391\n",
      "2402\n",
      "2413\n",
      "2415\n",
      "2426\n",
      "2437\n",
      "2448\n",
      "2459\n",
      "2470\n",
      "2481\n",
      "2492\n",
      "2503\n",
      "2514\n",
      "2516\n",
      "2527\n",
      "2538\n",
      "2549\n",
      "2560\n",
      "2571\n",
      "2582\n",
      "2593\n",
      "2604\n",
      "2615\n",
      "2617\n",
      "2628\n",
      "2639\n",
      "2650\n",
      "2661\n",
      "2672\n",
      "2683\n",
      "2694\n",
      "2705\n",
      "2716\n",
      "2718\n",
      "2729\n",
      "2740\n",
      "2751\n",
      "2762\n",
      "2773\n",
      "2784\n",
      "2795\n",
      "2806\n",
      "2817\n",
      "2819\n",
      "2830\n",
      "2841\n",
      "2852\n",
      "2863\n",
      "2874\n",
      "2885\n",
      "2896\n",
      "2907\n",
      "2918\n",
      "2920\n",
      "2931\n",
      "2942\n",
      "2953\n",
      "2964\n",
      "2975\n",
      "2986\n",
      "2997\n",
      "3008\n",
      "3023\n",
      "3034\n",
      "3045\n",
      "3056\n",
      "3067\n",
      "3078\n",
      "3089\n",
      "3100\n",
      "3111\n",
      "3113\n",
      "3124\n",
      "3135\n",
      "3146\n",
      "3157\n",
      "3168\n",
      "3179\n",
      "3190\n",
      "3201\n",
      "3212\n",
      "3214\n",
      "3225\n",
      "3236\n",
      "3247\n",
      "3258\n",
      "3269\n",
      "3280\n",
      "3291\n",
      "3302\n",
      "3313\n",
      "3315\n",
      "3326\n",
      "3337\n",
      "3348\n",
      "3359\n",
      "3370\n",
      "3381\n",
      "3392\n",
      "3403\n",
      "3414\n",
      "3416\n",
      "3427\n",
      "3438\n",
      "3449\n",
      "3460\n",
      "3471\n",
      "3482\n",
      "3493\n",
      "3504\n",
      "3515\n",
      "3517\n",
      "3528\n",
      "3539\n",
      "3550\n",
      "3561\n",
      "3572\n",
      "3583\n",
      "3594\n",
      "3605\n",
      "3616\n",
      "3618\n",
      "3629\n",
      "3640\n",
      "3651\n",
      "3662\n",
      "3673\n",
      "3684\n",
      "3695\n",
      "3706\n",
      "3717\n",
      "3719\n",
      "3730\n",
      "3741\n",
      "3752\n",
      "3763\n",
      "3774\n",
      "3785\n",
      "3796\n",
      "3807\n",
      "3818\n",
      "3820\n",
      "3831\n",
      "3842\n",
      "3853\n",
      "3864\n",
      "3875\n",
      "3886\n",
      "3897\n",
      "3908\n",
      "3919\n",
      "3921\n",
      "3932\n",
      "3943\n",
      "3954\n",
      "3965\n",
      "3976\n",
      "3987\n",
      "3998\n",
      "4009\n",
      "4024\n",
      "4035\n",
      "4046\n",
      "4057\n",
      "4068\n",
      "4079\n",
      "4090\n",
      "4101\n",
      "4112\n",
      "4114\n",
      "4125\n",
      "4136\n",
      "4147\n",
      "4158\n",
      "4169\n",
      "4180\n",
      "4191\n",
      "4202\n",
      "4213\n",
      "4215\n",
      "4226\n",
      "4237\n",
      "4248\n",
      "4259\n",
      "4270\n",
      "4281\n",
      "4292\n",
      "4303\n",
      "4314\n",
      "4316\n",
      "4327\n",
      "4338\n",
      "4349\n",
      "4360\n",
      "4371\n",
      "4382\n",
      "4393\n",
      "4404\n",
      "4415\n",
      "4417\n",
      "4428\n",
      "4439\n",
      "4450\n",
      "4461\n",
      "4472\n",
      "4483\n",
      "4494\n",
      "4505\n",
      "4516\n",
      "4518\n",
      "4529\n",
      "4540\n",
      "4551\n",
      "4562\n",
      "4573\n",
      "4584\n",
      "4595\n",
      "4606\n",
      "4617\n",
      "4619\n",
      "4630\n",
      "4641\n",
      "4652\n",
      "4663\n",
      "4674\n",
      "4685\n",
      "4696\n",
      "4707\n",
      "4718\n",
      "4720\n",
      "4731\n",
      "4742\n",
      "4753\n",
      "4764\n",
      "4775\n",
      "4786\n",
      "4797\n",
      "4808\n",
      "4819\n",
      "4821\n",
      "4832\n",
      "4843\n",
      "4854\n",
      "4865\n",
      "4876\n",
      "4887\n",
      "4898\n",
      "4909\n",
      "4920\n",
      "4922\n",
      "4933\n",
      "4944\n",
      "4955\n",
      "4966\n",
      "4977\n",
      "4988\n",
      "4999\n",
      "5010\n",
      "5025\n",
      "5036\n",
      "5047\n",
      "5058\n",
      "5069\n",
      "5080\n",
      "5091\n",
      "5102\n",
      "5113\n",
      "5115\n",
      "5126\n",
      "5137\n",
      "5148\n",
      "5159\n",
      "5170\n",
      "5181\n",
      "5192\n",
      "5203\n",
      "5214\n",
      "5216\n",
      "5227\n",
      "5238\n",
      "5249\n",
      "5260\n",
      "5271\n",
      "5282\n",
      "5293\n",
      "5304\n",
      "5315\n",
      "5317\n",
      "5328\n",
      "5339\n",
      "5350\n",
      "5361\n",
      "5372\n",
      "5383\n",
      "5394\n",
      "5405\n",
      "5416\n",
      "5418\n",
      "5429\n",
      "5440\n",
      "5451\n",
      "5462\n",
      "5473\n",
      "5484\n",
      "5495\n",
      "5506\n",
      "5517\n",
      "5519\n",
      "5530\n",
      "5541\n",
      "5552\n",
      "5563\n",
      "5574\n",
      "5585\n",
      "5596\n",
      "5607\n",
      "5618\n",
      "5620\n",
      "5631\n",
      "5642\n",
      "5653\n",
      "5664\n",
      "5675\n",
      "5686\n",
      "5697\n",
      "5708\n",
      "5719\n",
      "5721\n",
      "5732\n",
      "5743\n",
      "5754\n",
      "5765\n",
      "5776\n",
      "5787\n",
      "5798\n",
      "5809\n",
      "5820\n",
      "5822\n",
      "5833\n",
      "5844\n",
      "5855\n",
      "5866\n",
      "5877\n",
      "5888\n",
      "5899\n",
      "5910\n",
      "5921\n",
      "5923\n",
      "5934\n",
      "5945\n",
      "5956\n",
      "5967\n",
      "5978\n",
      "5989\n",
      "6000\n",
      "6011\n",
      "6026\n",
      "6037\n",
      "6048\n",
      "6059\n",
      "6070\n",
      "6081\n",
      "6092\n",
      "6103\n",
      "6114\n",
      "6116\n",
      "6127\n",
      "6138\n",
      "6149\n",
      "6160\n",
      "6171\n",
      "6182\n",
      "6193\n",
      "6204\n",
      "6215\n",
      "6217\n",
      "6228\n",
      "6239\n",
      "6250\n",
      "6261\n",
      "6272\n",
      "6283\n",
      "6294\n",
      "6305\n",
      "6316\n",
      "6318\n",
      "6329\n",
      "6340\n",
      "6351\n",
      "6362\n",
      "6373\n",
      "6384\n",
      "6395\n",
      "6406\n",
      "6417\n",
      "6419\n",
      "6430\n",
      "6441\n",
      "6452\n",
      "6463\n",
      "6474\n",
      "6485\n",
      "6496\n",
      "6507\n",
      "6518\n",
      "6520\n",
      "6531\n",
      "6542\n",
      "6553\n",
      "6564\n",
      "6575\n",
      "6586\n",
      "6597\n",
      "6608\n",
      "6619\n",
      "6621\n",
      "6632\n",
      "6643\n",
      "6654\n",
      "6665\n",
      "6676\n",
      "6687\n",
      "6698\n",
      "6709\n",
      "6720\n",
      "6722\n",
      "6733\n",
      "6744\n",
      "6755\n",
      "6766\n",
      "6777\n",
      "6788\n",
      "6799\n",
      "6810\n",
      "6821\n",
      "6823\n",
      "6834\n",
      "6845\n",
      "6856\n",
      "6867\n",
      "6878\n",
      "6889\n",
      "6900\n",
      "6911\n",
      "6922\n",
      "6924\n",
      "6935\n",
      "6946\n",
      "6957\n",
      "6968\n",
      "6979\n",
      "6990\n",
      "7001\n",
      "7012\n",
      "7027\n",
      "7038\n",
      "7049\n",
      "7060\n",
      "7071\n",
      "7082\n",
      "7093\n",
      "7104\n",
      "7115\n",
      "7117\n",
      "7128\n",
      "7139\n",
      "7150\n",
      "7161\n",
      "7172\n",
      "7183\n",
      "7194\n",
      "7205\n",
      "7216\n",
      "7218\n",
      "7229\n",
      "7240\n",
      "7251\n",
      "7262\n",
      "7273\n",
      "7284\n",
      "7295\n",
      "7306\n",
      "7317\n",
      "7319\n",
      "7330\n",
      "7341\n",
      "7352\n",
      "7363\n",
      "7374\n",
      "7385\n",
      "7396\n",
      "7407\n",
      "7418\n",
      "7420\n",
      "7431\n",
      "7442\n",
      "7453\n",
      "7464\n",
      "7475\n",
      "7486\n",
      "7497\n",
      "7508\n",
      "7519\n",
      "7521\n",
      "7532\n",
      "7543\n",
      "7554\n",
      "7565\n",
      "7576\n",
      "7587\n",
      "7598\n",
      "7609\n",
      "7620\n",
      "7622\n",
      "7633\n",
      "7644\n",
      "7655\n",
      "7666\n",
      "7677\n",
      "7688\n",
      "7699\n",
      "7710\n",
      "7721\n",
      "7723\n",
      "7734\n",
      "7745\n",
      "7756\n",
      "7767\n",
      "7778\n",
      "7789\n",
      "7800\n",
      "7811\n",
      "7822\n",
      "7824\n",
      "7835\n",
      "7846\n",
      "7857\n",
      "7868\n",
      "7879\n",
      "7890\n",
      "7901\n",
      "7912\n",
      "7923\n",
      "7925\n",
      "7936\n",
      "7947\n",
      "7958\n",
      "7969\n",
      "7980\n",
      "7991\n",
      "8002\n",
      "8013\n",
      "8028\n",
      "8039\n",
      "8050\n",
      "8061\n",
      "8072\n",
      "8083\n",
      "8094\n",
      "8105\n",
      "8116\n",
      "8118\n",
      "8129\n",
      "8140\n",
      "8151\n",
      "8162\n",
      "8173\n",
      "8184\n",
      "8195\n",
      "8206\n",
      "8217\n",
      "8219\n",
      "8230\n",
      "8241\n",
      "8252\n",
      "8263\n",
      "8274\n",
      "8285\n",
      "8296\n",
      "8307\n",
      "8318\n",
      "8320\n",
      "8331\n",
      "8342\n",
      "8353\n",
      "8364\n",
      "8375\n",
      "8386\n",
      "8397\n",
      "8408\n",
      "8419\n",
      "8421\n",
      "8432\n",
      "8443\n",
      "8454\n",
      "8465\n",
      "8476\n",
      "8487\n",
      "8498\n",
      "8509\n",
      "8520\n",
      "8522\n",
      "8533\n",
      "8544\n",
      "8555\n",
      "8566\n",
      "8577\n",
      "8588\n",
      "8599\n",
      "8610\n",
      "8621\n",
      "8623\n",
      "8634\n",
      "8645\n",
      "8656\n",
      "8667\n",
      "8678\n",
      "8689\n",
      "8700\n",
      "8711\n",
      "8722\n",
      "8724\n",
      "8735\n",
      "8746\n",
      "8757\n",
      "8768\n",
      "8779\n",
      "8790\n",
      "8801\n",
      "8812\n",
      "8823\n",
      "8825\n",
      "8836\n",
      "8847\n",
      "8858\n",
      "8869\n",
      "8880\n",
      "8891\n",
      "8902\n",
      "8913\n",
      "8924\n",
      "8926\n",
      "8937\n",
      "8948\n",
      "8959\n",
      "8970\n",
      "8981\n",
      "8992\n",
      "9003\n",
      "9014\n",
      "9029\n",
      "9040\n",
      "9051\n",
      "9062\n",
      "9073\n",
      "9084\n",
      "9095\n",
      "9106\n",
      "9117\n",
      "9119\n",
      "9130\n",
      "9141\n",
      "9152\n",
      "9163\n",
      "9174\n",
      "9185\n",
      "9196\n",
      "9207\n",
      "9218\n",
      "9220\n",
      "9231\n",
      "9242\n",
      "9253\n",
      "9264\n",
      "9275\n",
      "9286\n",
      "9297\n",
      "9308\n",
      "9319\n",
      "9321\n",
      "9332\n",
      "9343\n",
      "9354\n",
      "9365\n",
      "9376\n",
      "9387\n",
      "9398\n",
      "9409\n",
      "9420\n",
      "9422\n",
      "9433\n",
      "9444\n",
      "9455\n",
      "9466\n",
      "9477\n",
      "9488\n",
      "9499\n",
      "9510\n",
      "9521\n",
      "9523\n",
      "9534\n",
      "9545\n",
      "9556\n",
      "9567\n",
      "9578\n",
      "9589\n",
      "9600\n",
      "9611\n",
      "9622\n",
      "9624\n",
      "9635\n",
      "9646\n",
      "9657\n",
      "9668\n",
      "9679\n",
      "9690\n",
      "9701\n",
      "9712\n",
      "9723\n",
      "9725\n",
      "9736\n",
      "9747\n",
      "9758\n",
      "9769\n",
      "9780\n",
      "9791\n",
      "9802\n",
      "9813\n",
      "9824\n",
      "9826\n",
      "9837\n",
      "9848\n",
      "9859\n",
      "9870\n",
      "9881\n",
      "9892\n",
      "9903\n",
      "9914\n",
      "9925\n",
      "9927\n",
      "9938\n",
      "9949\n",
      "9960\n",
      "9971\n",
      "9982\n",
      "9993\n"
     ]
    }
   ],
   "source": [
    "#**10,000보다 작거나 같은 셀프 넘버를 한 줄에 하나씩 증가하는 순서로 출력한다.\n",
    "def selfnumber(a):\n",
    "    a = a + sum(map(int, str(a)))\n",
    "    return a\n",
    "\n",
    "a = [0] * 10001\n",
    "\n",
    "for i in range(1, 10001):\n",
    "    a[i] = selfnumber(i)\n",
    "    \n",
    "for i in range(1, 10001):\n",
    "    if(i not in a):\n",
    "        print(i)"
   ]
  },
  {
   "cell_type": "code",
   "execution_count": 29,
   "id": "6e1a3467",
   "metadata": {},
   "outputs": [
    {
     "name": "stdout",
     "output_type": "stream",
     "text": [
      "110\n",
      "99\n"
     ]
    }
   ],
   "source": [
    "#첫째 줄에 1보다 크거나 같고, N보다 작거나 같은 한수의 개수를 출력한다.\n",
    "def hansu(n):\n",
    "    if n < 100:\n",
    "        return True\n",
    "\n",
    "    a = n // 100\n",
    "    b = n // 10 % 10\n",
    "    c = n % 10\n",
    "    return a + c == 2 * b\n",
    "\n",
    "n = int(input())\n",
    "\n",
    "count = 0\n",
    "for n in range(1, n + 1):\n",
    "    if hansu(n):\n",
    "        count += 1\n",
    "\n",
    "print(count)"
   ]
  },
  {
   "cell_type": "markdown",
   "id": "73f26482",
   "metadata": {},
   "source": [
    "# 7 : 문자열"
   ]
  },
  {
   "cell_type": "code",
   "execution_count": 30,
   "id": "a637a441",
   "metadata": {},
   "outputs": [
    {
     "name": "stdout",
     "output_type": "stream",
     "text": [
      "A\n",
      "65\n"
     ]
    }
   ],
   "source": [
    "#입력으로 주어진 글자의 아스키 코드 값을 출력한다.\n",
    "# ord : 문자의 유니코드 값을 돌려주는 내장함수\n",
    "# chr : 유니코드값을 입력받아 그 코드에 해당하는 문자를 출력하는 함수\n",
    "\n",
    "print(ord(input()))"
   ]
  },
  {
   "cell_type": "code",
   "execution_count": 36,
   "id": "45be2db5",
   "metadata": {},
   "outputs": [
    {
     "name": "stdout",
     "output_type": "stream",
     "text": [
      "11\n",
      "10987654321\n",
      "46\n"
     ]
    }
   ],
   "source": [
    "#입력으로 주어진 숫자 N개의 합을 출력한다.\n",
    "a = int(input())\n",
    "b = input()\n",
    "\n",
    "sum_b = 0\n",
    "for i in range(0, a):\n",
    "    sum_b += int(b[i])\n",
    "    \n",
    "print(sum_b)\n",
    "    "
   ]
  },
  {
   "cell_type": "code",
   "execution_count": 37,
   "id": "0e6e18cd",
   "metadata": {},
   "outputs": [
    {
     "name": "stdout",
     "output_type": "stream",
     "text": [
      "baekjoon\n",
      "1 0 -1 -1 2 -1 -1 -1 -1 4 3 -1 -1 7 5 -1 -1 -1 -1 -1 -1 -1 -1 -1 -1 -1 "
     ]
    }
   ],
   "source": [
    "#각각의 알파벳에 대해서, a가 처음 등장하는 위치, b가 처음 등장하는 위치, ... z가 처음 등장하는 위치를 공백으로 구분해서 출력한다.\n",
    "s = input()\n",
    "a = 'abcdefghijklmnopqrstuvwxyz'\n",
    "\n",
    "for i in a:\n",
    "    print(s.find(i), end = ' ')"
   ]
  },
  {
   "cell_type": "code",
   "execution_count": 44,
   "id": "90a8b3b0",
   "metadata": {},
   "outputs": [
    {
     "name": "stdout",
     "output_type": "stream",
     "text": [
      "2\n",
      "3 ABC\n",
      "AAABBBCCC5 /HTP\n",
      "/////HHHHHTTTTTPPPPP"
     ]
    }
   ],
   "source": [
    "## 문자열 S를 입력받은 후에, 각 문자를 R번 반복해 새 문자열 P를 만든 후 출력하는 프로그램을 작성하시오.\n",
    "a = int(input())\n",
    "for i in range(a):\n",
    "    n, s = map(str, input().split(' '))\n",
    "    for j in range(0, len(s)):\n",
    "        print(int(n)*s[j], end = '')"
   ]
  },
  {
   "cell_type": "code",
   "execution_count": 49,
   "id": "dd2b973a",
   "metadata": {},
   "outputs": [
    {
     "name": "stdout",
     "output_type": "stream",
     "text": [
      "baaa\n",
      "A\n"
     ]
    }
   ],
   "source": [
    "# 첫째 줄에 이 단어에서 가장 많이 사용된 알파벳을 대문자로 출력한다. 단, 가장 많이 사용된 알파벳이 여러 개 존재하는 경우에는 ?를 출력한다.\n",
    "s = input().upper()\n",
    "a = list(set(s))\n",
    "b = []\n",
    "\n",
    "for i in a:\n",
    "    count = s.count(i)\n",
    "    b.append(count)\n",
    "\n",
    "if b.count(max(b)) > 1:\n",
    "    print(\"?\")\n",
    "else:\n",
    "    print(a[b.index(max(b))])"
   ]
  },
  {
   "cell_type": "code",
   "execution_count": 56,
   "id": "782766db",
   "metadata": {},
   "outputs": [
    {
     "name": "stdout",
     "output_type": "stream",
     "text": [
      " The first character is a blank\n",
      "6\n"
     ]
    }
   ],
   "source": [
    "#영어 대소문자와 공백으로 이루어진 문자열이 주어진다. 이 문자열에는 몇 개의 단어가 있을까? 이를 구하는 프로그램을 작성하시오.\n",
    "s = input().split()\n",
    "print(len(s))"
   ]
  },
  {
   "cell_type": "code",
   "execution_count": 61,
   "id": "79efb843",
   "metadata": {},
   "outputs": [
    {
     "name": "stdout",
     "output_type": "stream",
     "text": [
      "839 237\n",
      "938\n"
     ]
    }
   ],
   "source": [
    "#첫째 줄에 상수의 대답을 출력한다.\n",
    "a, b = map(list, input().split(' '))\n",
    "num_a = list(a)\n",
    "num_b = list(b)\n",
    "\n",
    "num_a.reverse()\n",
    "num_b.reverse()\n",
    "\n",
    "x =int(num_a[0] + num_a[1] + num_a[2])\n",
    "y =int(num_b[0] + num_b[1] + num_b[2])\n",
    "\n",
    "if x > y:\n",
    "    print(x)\n",
    "else:\n",
    "    print(y)"
   ]
  },
  {
   "cell_type": "code",
   "execution_count": 63,
   "id": "1031904a",
   "metadata": {},
   "outputs": [
    {
     "name": "stdout",
     "output_type": "stream",
     "text": [
      "UNUCIC\n",
      "36\n"
     ]
    }
   ],
   "source": [
    "#첫째 줄에 다이얼을 걸기 위해서 필요한 최소 시간을 출력한다.\n",
    "number = ['ABC', 'DEF', 'GHI', 'JKL', 'MNO', 'PQRS', 'TUV', 'WXYZ']\n",
    "\n",
    "a = list(input())\n",
    "result = 0\n",
    "\n",
    "for i in a:\n",
    "    for j in number:\n",
    "        if i in j:\n",
    "            result += number.index(j) + 3\n",
    "            \n",
    "print(result)"
   ]
  },
  {
   "cell_type": "code",
   "execution_count": 68,
   "id": "11856d85",
   "metadata": {},
   "outputs": [
    {
     "name": "stdout",
     "output_type": "stream",
     "text": [
      "dz=ak\n",
      "3\n"
     ]
    }
   ],
   "source": [
    "#**입력으로 주어진 단어가 몇 개의 크로아티아 알파벳으로 이루어져 있는지 출력한다.\n",
    "a = 'c=', 'c-', 'dz=', 'd-', 'lj', 'nj', 's=', 'z='\n",
    "s = input()\n",
    "\n",
    "for i in a:\n",
    "    s = s.replace(i, '^')\n",
    "print(len(s))"
   ]
  },
  {
   "cell_type": "code",
   "execution_count": 71,
   "id": "e10f8ce7",
   "metadata": {},
   "outputs": [
    {
     "name": "stdout",
     "output_type": "stream",
     "text": [
      "3\n",
      "happy\n",
      "new\n",
      "year\n",
      "3\n"
     ]
    }
   ],
   "source": [
    "N=int(input())\n",
    "for i in range(N):\n",
    "    a=input()\n",
    "    if list(a)!=sorted(a,key=a.find):\n",
    "        N-=1\n",
    "print(N)"
   ]
  },
  {
   "cell_type": "markdown",
   "id": "fbe0e5b7",
   "metadata": {},
   "source": [
    "# 8 : 기본 수학1"
   ]
  },
  {
   "cell_type": "code",
   "execution_count": 7,
   "id": "712f7a5b",
   "metadata": {},
   "outputs": [
    {
     "name": "stdout",
     "output_type": "stream",
     "text": [
      "2100000000 9 10\n",
      "2100000001\n"
     ]
    }
   ],
   "source": [
    "#첫 번째 줄에 손익분기점 즉 최초로 이익이 발생하는 판매량을 출력한다. 손익분기점이 존재하지 않으면 -1을 출력한다\n",
    "a, b, c = map(int, input().split(' '))\n",
    "i = 0\n",
    "\n",
    "if b >= c :\n",
    "    print(\"-1\")\n",
    "else:\n",
    "    print(int(a/(c-b) + 1))"
   ]
  },
  {
   "cell_type": "code",
   "execution_count": 16,
   "id": "35099a65",
   "metadata": {},
   "outputs": [
    {
     "name": "stdout",
     "output_type": "stream",
     "text": [
      "13\n",
      "3\n"
     ]
    }
   ],
   "source": [
    "#중앙의 방 1부터 시작해서 이웃하는 방에 돌아가면서 1씩 증가하는 번호를 주소로 매길 수 있다.\n",
    "#숫자 N이 주어졌을 때, 벌집의 중앙 1에서 N번 방까지 최소 개수의 방을 지나서 갈 때 몇 개의 방을 지나가는지(시작과 끝을 포함하여)를 계산하는 프로그램을 작성하시오.\n",
    "\n",
    "a = int(input())\n",
    "num = 1\n",
    "count = 1\n",
    "\n",
    "while a > num: #입력 값이 벌집 숫자보다 작을 때 까지 반복\n",
    "    num += 6 * count\n",
    "    count += 1\n",
    "\n",
    "print(count)"
   ]
  },
  {
   "cell_type": "code",
   "execution_count": 15,
   "id": "8946ab3e",
   "metadata": {},
   "outputs": [
    {
     "name": "stdout",
     "output_type": "stream",
     "text": [
      "8\n",
      "2 3\n"
     ]
    }
   ],
   "source": [
    "# 분수 찾기 : X가 주어졌을 때, X번째 분수를 구하는 프로그램을 작성하시오.\n",
    "\n",
    "n = int(input())\n",
    "\n",
    "num = 0\n",
    "i = 0\n",
    "\n",
    "while num < n:\n",
    "    i += 1\n",
    "    num += i\n",
    "if i % 2 == 0:\n",
    "    a = i + n - num\n",
    "    b = 1 + num - n\n",
    "\n",
    "elif i % 2 != 0:\n",
    "    a = 1 + num - n\n",
    "    b = 1 + n - num\n",
    "\n",
    "print(a, b)"
   ]
  },
  {
   "cell_type": "code",
   "execution_count": 5,
   "id": "6cc4e550",
   "metadata": {},
   "outputs": [
    {
     "name": "stdout",
     "output_type": "stream",
     "text": [
      "100 99 1000000000\n",
      "999999901\n"
     ]
    }
   ],
   "source": [
    "#달팽이는 올라가고 싶다 : 높이가 V미터인 나무 막대를 올라갈 것이다.\n",
    "#달팽이는 낮에 A미터 올라갈 수 있다.\n",
    "#밤에 잠을 자는 동안 B미터 미끄러진다\n",
    "#첫째 줄에 달팽이가 나무 막대를 모두 올라가는데 며칠이 걸리는지 출력한다.\n",
    "\n",
    "a, b, v = map(int, input().split(' '))\n",
    "\n",
    "i = (v - a) / (a - b) + 1\n",
    "\n",
    "if (i == int(i)):\n",
    "    print(int(i))\n",
    "else:\n",
    "    print(int(i) + 1)"
   ]
  },
  {
   "cell_type": "code",
   "execution_count": 6,
   "id": "aa282b50",
   "metadata": {},
   "outputs": [
    {
     "name": "stdout",
     "output_type": "stream",
     "text": [
      "2\n",
      "6 12 10\n",
      "402\n",
      "30 50 72\n",
      "1203\n"
     ]
    }
   ],
   "source": [
    "# **\n",
    "# ACM 호텔 : 호텔 정문으로부터 걷는 거리가 가장 짧도록 방을 배정하는 프로그램\n",
    "# 엘레베이터거리x 단, 걷는 거리가 같을 때에는 아래층의 방을 더 선호\n",
    "# h : 호텔 층 수, w : 각 층의 방 수, n : 몇 번째 손님, t : 테스트 개수\n",
    "\n",
    "t = int(input())\n",
    "\n",
    "for i in range(t):\n",
    "    h, w, n = map(int, input().split(' '))\n",
    "    if n % h == 0:\n",
    "        if n // h > 9:\n",
    "            print(h,(n // h), sep = \"\")\n",
    "        else:\n",
    "            print(h, \"0\",(n // h), sep = \"\")\n",
    "    else:\n",
    "        if (n // h >= 9):\n",
    "            print(n % h, (n // h) + 1, sep = \"\")\n",
    "        else:\n",
    "           print(n % h, \"0\", (n // h) + 1, sep = \"\") "
   ]
  },
  {
   "cell_type": "code",
   "execution_count": 9,
   "id": "e4fead39",
   "metadata": {},
   "outputs": [
    {
     "name": "stdout",
     "output_type": "stream",
     "text": [
      "2\n",
      "6 12 10\n",
      "402\n",
      "30 50 72\n",
      "1203\n"
     ]
    }
   ],
   "source": [
    "# ACM 호텔 : zfill() 이용하기\n",
    "# zfill : 문자열.zfill(전체문자열의 길이)\n",
    "# \"1\".zfill(2) >> \"01\" 출력\n",
    "\n",
    "t = int(input())\n",
    "\n",
    "for i in range(t):\n",
    "    room_number = []\n",
    "    h, w, n = map(int, input().split())\n",
    "    for w in range(1, w + 1):\n",
    "        for h in range(1, h + 1):\n",
    "            room_number.append(str(h) + str(w).zfill(2))\n",
    "    print(room_number[n-1])"
   ]
  },
  {
   "cell_type": "code",
   "execution_count": 13,
   "id": "05b76c14",
   "metadata": {},
   "outputs": [
    {
     "name": "stdout",
     "output_type": "stream",
     "text": [
      "2\n",
      "1\n",
      "3\n",
      "6\n",
      "2\n",
      "3\n",
      "10\n"
     ]
    }
   ],
   "source": [
    "# 부녀회장이 될테야\n",
    "#“a층의 b호에 살려면 자신의 아래(a-1)층의 1호부터 b호까지 사람들의 수의 합만큼 사람들을 데려와\n",
    "# 주어지는 양의 정수 k와 n에 대해 k층에 n호에는 몇 명이 살고 있는지 출력하라.\n",
    "# 단, 아파트에는 0층부터 있고 각층에는 1호부터 있으며, 0층의 i호에는 i명이 산다.\n",
    "\n",
    "t = int(input())\n",
    "\n",
    "for i in range(t):\n",
    "    floor = [x for x in range(1, 16)]\n",
    "    building = []\n",
    "    \n",
    "    for y in range(15):\n",
    "        building.append(floor)\n",
    "    \n",
    "    a = int(input())\n",
    "    b = int(input())\n",
    "    \n",
    "    for j in range(1, 15):\n",
    "        if j > a:\n",
    "            break\n",
    "        \n",
    "        for k in range(1, 15):\n",
    "            building[j][k] = building[j - 1][k] + building[j][k - 1]\n",
    "    print(building[a][b-1])"
   ]
  },
  {
   "cell_type": "code",
   "execution_count": 16,
   "id": "438d4b42",
   "metadata": {},
   "outputs": [
    {
     "name": "stdout",
     "output_type": "stream",
     "text": [
      "4\n",
      "-1\n"
     ]
    }
   ],
   "source": [
    "# 설탕 배달 : 봉지는 3킬로그램 봉지와 5킬로그램 봉지가 있다.\n",
    "# 최대한 적은 봉지를 들고 가려고 한다.\n",
    "# 상근이가 설탕을 정확하게 N킬로그램 배달해야 할 때, 봉지 몇 개를 가져가면 되는지 그 수를 구하는 프로그램을 작성하시오.\n",
    "#상근이가 배달하는 봉지의 최소 개수를 출력한다. 만약, 정확하게 N킬로그램을 만들 수 없다면 -1을 출력한다.\n",
    "\n",
    "a = int(input())\n",
    "n = 0\n",
    "\n",
    "while a >= 0:\n",
    "    if a % 5 == 0:\n",
    "        print(a // 5 + n)\n",
    "        break\n",
    "    a -= 3\n",
    "    n += 1\n",
    "\n",
    "else:\n",
    "    print(-1)"
   ]
  },
  {
   "cell_type": "code",
   "execution_count": 17,
   "id": "e246fe0f",
   "metadata": {},
   "outputs": [
    {
     "name": "stdout",
     "output_type": "stream",
     "text": [
      "9223372036854775807 9223372036854775808\n",
      "18446744073709551615\n"
     ]
    }
   ],
   "source": [
    "# 두 정수 A와 B를 입력받은 다음, A+B를 출력하는 프로그램을 작성하시오.\n",
    "\n",
    "a, b = map(int, input().split(\" \"))\n",
    "print(a + b)"
   ]
  },
  {
   "cell_type": "code",
   "execution_count": 22,
   "id": "3a1170d9",
   "metadata": {},
   "outputs": [
    {
     "name": "stdout",
     "output_type": "stream",
     "text": [
      "3\n",
      "0 3\n",
      "3\n",
      "1 5\n",
      "3\n",
      "45 50\n",
      "4\n"
     ]
    }
   ],
   "source": [
    "# Fly me to the Alpha Centauri\n",
    "# 이전 작동시기에 k광년을 이동하였을 때는 k-1 , k 혹은 k+1 광년만을 다시 이동할 수 있다\n",
    "# x지점에서 y지점을 향해 최소한의 작동 횟수로 이동\n",
    "# x지점부터 정확히 y지점으로 이동하는데 필요한 공간 이동 장치 작동 횟수의 최솟값을 구하는 프로그램을 작성하라.\n",
    "\n",
    "t = int(input())\n",
    "\n",
    "for _ in range(t):\n",
    "    x, y = map(int, input().split(\" \"))\n",
    "    num = y - x\n",
    "    \n",
    "    i = 1\n",
    "    while True:\n",
    "        n = 2 * i -1\n",
    "        \n",
    "        if num == i ** 2:\n",
    "            break\n",
    "        elif num - i ** 2 <= i:\n",
    "            n += 1\n",
    "            break\n",
    "        elif num - i ** 2 < 2 * i + 1:\n",
    "            n += 2\n",
    "            break\n",
    "        else:\n",
    "            i += 1\n",
    "    print(n)"
   ]
  },
  {
   "cell_type": "markdown",
   "id": "12f776e4",
   "metadata": {},
   "source": [
    "# 9 : 기본 수학 2"
   ]
  },
  {
   "cell_type": "code",
   "execution_count": 26,
   "id": "fad6fe42",
   "metadata": {},
   "outputs": [
    {
     "name": "stdout",
     "output_type": "stream",
     "text": [
      "4\n",
      "1 3 5 7\n",
      "3\n"
     ]
    }
   ],
   "source": [
    "# 소수 찾기\n",
    "# 주어진 수 N개 중에서 소수가 몇 개인지 찾아서 출력하는 프로그램을 작성하시오.\n",
    "\n",
    "n = int(input())\n",
    "numbers = list(map(int, input().split()))\n",
    "count = 0\n",
    "\n",
    "for i in numbers:\n",
    "    a = 0\n",
    "    if i > 1:\n",
    "        for j in range(2, i):\n",
    "            if i % j == 0:\n",
    "                a = 1\n",
    "                break\n",
    "        if a == 0:\n",
    "            count += 1\n",
    "\n",
    "print(count)"
   ]
  },
  {
   "cell_type": "code",
   "execution_count": 29,
   "id": "6c8c82fb",
   "metadata": {},
   "outputs": [
    {
     "name": "stdout",
     "output_type": "stream",
     "text": [
      "64\n",
      "65\n",
      "-1\n"
     ]
    }
   ],
   "source": [
    "# 소수 \n",
    "# M이상 N이하의 자연수 중 소수인 것을 모두 찾아 첫째 줄에 그 합을, 둘째 줄에 그 중 최솟값을 출력한다. \n",
    "# 단, M이상 N이하의 자연수 중 소수가 없을 경우는 첫째 줄에 -1을 출력한다.\n",
    "\n",
    "m = int(input())\n",
    "n = int(input())\n",
    "\n",
    "list1 = [] #수 범위 내 모든 숫자\n",
    "list2 = [] #수 범위 내 소수\n",
    "\n",
    "for i in range(m, n + 1):\n",
    "    list1.append(i)\n",
    "    \n",
    "for j in list1:\n",
    "    check = 0\n",
    "    if j > 1:\n",
    "        for k in range(2, j):\n",
    "            if j % k == 0:\n",
    "                check = 1\n",
    "                break\n",
    "        if check == 0:\n",
    "            list2.append(j)\n",
    "if len(list2):\n",
    "    print(sum(list2))\n",
    "    print(min(list2))\n",
    "else:\n",
    "    print(-1)"
   ]
  },
  {
   "cell_type": "code",
   "execution_count": 31,
   "id": "0ce1c516",
   "metadata": {},
   "outputs": [
    {
     "name": "stdout",
     "output_type": "stream",
     "text": [
      "9991\n",
      "97\n",
      "103\n"
     ]
    }
   ],
   "source": [
    "# 소인수분해\n",
    "# 정수 N이 주어졌을 때, 소인수분해하는 프로그램을 작성하시오.\n",
    "\n",
    "n = int(input())\n",
    "a = 2\n",
    "m = n\n",
    "\n",
    "while True:\n",
    "    if a > m:\n",
    "        break\n",
    "    if m % a == 0:\n",
    "        print(a)\n",
    "        m = m // a\n",
    "    else:\n",
    "        a += 1"
   ]
  },
  {
   "cell_type": "code",
   "execution_count": 32,
   "id": "0fea621e",
   "metadata": {},
   "outputs": [
    {
     "name": "stdout",
     "output_type": "stream",
     "text": [
      "3 16\n",
      "3\n",
      "5\n",
      "7\n",
      "11\n",
      "13\n"
     ]
    }
   ],
   "source": [
    "# 소수 구하기\n",
    "# M이상 N이하의 소수를 모두 출력하는 프로그램을 작성하시오.\n",
    "\n",
    "m, n = map(int, input().split())\n",
    "\n",
    "list1 = []\n",
    "\n",
    "for i in range(m, n + 1):\n",
    "    list1.append(i)\n",
    "\n",
    "for j in list1:\n",
    "    check = 0\n",
    "    if j > 1:\n",
    "        for k in range(2, j):\n",
    "            if j % k == 0:\n",
    "                check = 1\n",
    "                break\n",
    "        if check == 0:\n",
    "            print(j)"
   ]
  },
  {
   "cell_type": "code",
   "execution_count": 33,
   "id": "eeccd5cc",
   "metadata": {},
   "outputs": [
    {
     "name": "stdout",
     "output_type": "stream",
     "text": [
      "1\n",
      "1\n",
      "10\n",
      "4\n",
      "13\n",
      "3\n",
      "100\n",
      "21\n",
      "1000\n",
      "135\n",
      "10000\n",
      "1033\n",
      "100000\n",
      "8392\n",
      "0\n"
     ]
    }
   ],
   "source": [
    "# **\n",
    "# 베르트랑 공준\n",
    "# 베르트랑 공준은 임의의 자연수 n에 대하여, n보다 크고, 2n보다 작거나 같은 소수는 적어도 하나 존재한다는 내용\n",
    "#  n보다 크고, 2n보다 작거나 같은 소수의 개수를 출력한다.\n",
    "\n",
    "max_number = 123456 * 2 + 1\n",
    "check_list = [True for i in range(max_number)]\n",
    "\n",
    "for i in range(2, int(max_number ** 0.5) + 1):\n",
    "    if check_list[i] == True:\n",
    "        j = 2\n",
    "        while i * j <= max_number:\n",
    "            check_list[i * j] = False\n",
    "            j += 1\n",
    "\n",
    "while True:\n",
    "    cnt = 0\n",
    "    a = int(input())\n",
    "    b = 2 * a\n",
    "    if a == 0:\n",
    "        break\n",
    "    \n",
    "    for i in range(a + 1, b + 1):\n",
    "        if check_list[i]:\n",
    "            cnt += 1\n",
    "    print(cnt)"
   ]
  },
  {
   "cell_type": "code",
   "execution_count": 37,
   "id": "972c9896",
   "metadata": {},
   "outputs": [
    {
     "name": "stdout",
     "output_type": "stream",
     "text": [
      "3\n",
      "8\n",
      "3 5\n",
      "10\n",
      "5 5\n",
      "16\n",
      "5 11\n"
     ]
    }
   ],
   "source": [
    "# **\n",
    "# 골드바흐의 추측 : 2보다 큰 모든 짝수는 두 소수의 합으로 나타낼 수 있다는 것\n",
    "# 2보다 큰 짝수 n이 주어졌을 때, n의 골드바흐 파티션을 출력하는 프로그램을 작성하시오.\n",
    "\n",
    "#함수 : 소수 판별\n",
    "def sosu(a):\n",
    "    if a==1:\n",
    "        return False\n",
    "    else:\n",
    "        for i in range(2,int(a**0.5)+1):\n",
    "            if a%i==0:\n",
    "                return False\n",
    "        return True\n",
    "#소수 리스트 생성\n",
    "list=[]#소수리스트\n",
    "for i in range(2,10001):\n",
    "    if sosu(i)==True:\n",
    "        list.append(i)\n",
    "\n",
    "#골드 바흐 파티션 함수\n",
    "def gold(n):\n",
    "    a=list[0]\n",
    "    for i in list:#소수중\n",
    "        x = a #새로운 파티션 원소의 직전 보관, 혹시나 새로운파티션(a)가 두 조건을 충족시키지 못할 것 대비\n",
    "        a = i# 첫 번째 파티션원소 지정\n",
    "        if n - a not in list:#조건1: 두 번째 원소가 소수여야됨. 이를 성립시키지 못하는 걸 거르기위한 조건\n",
    "           a = x# 조건 충족 안되서 보관되있던걸 다시 a로\n",
    "           continue\n",
    "        if a > n - a:#조건2: 두 번째 원소는 소수가 맞다만(첫번째 조건 충족),첫원소>두번째원소 기에 보관되있던(직전의 파티션)을 출력한다.\n",
    "                return print(x, n - x)\n",
    "        elif a == n - a:#조건2-2: 첫 번째 원소==두 번째 원소면은 그냥 지금 있는거 그대로(a,n-a)출력.\n",
    "            return print(a,n-a)\n",
    "\n",
    "#입력:t(testcase), 4<=n<=10000\n",
    "t = int(input())\n",
    "for i in range(t):\n",
    "    n = int(input())\n",
    "    gold(n)\n",
    "\n"
   ]
  },
  {
   "cell_type": "code",
   "execution_count": 40,
   "id": "2e57a516",
   "metadata": {},
   "outputs": [
    {
     "name": "stdout",
     "output_type": "stream",
     "text": [
      "161 181 762 375\n",
      "161\n"
     ]
    }
   ],
   "source": [
    "# 직사각형에서 탈출\n",
    "# 지금 위치는 (x, y)\n",
    "# 각 변이 좌표축에 평행하고, 왼쪽 아래 꼭짓점은 (0, 0), 오른쪽 위 꼭짓점은 (w, h)\n",
    "# 직사각형의 경계선까지 가는 거리의 최솟값을 구하는 프로그램을 작성하시오.\n",
    "\n",
    "x, y, w, h = map(int, input().split())\n",
    "\n",
    "result = min(x, y, w-x, h - y)\n",
    "\n",
    "print(result)\n"
   ]
  },
  {
   "cell_type": "code",
   "execution_count": 1,
   "id": "8ba56892",
   "metadata": {},
   "outputs": [
    {
     "name": "stdout",
     "output_type": "stream",
     "text": [
      "5 5\n",
      "5 7\n",
      "7 5\n",
      "7 7\n"
     ]
    }
   ],
   "source": [
    "# 네 번째 점\n",
    "# 세 점이 주어졌을 때, 축에 평행한 직사각형을 만들기 위해서 필요한 네 번째 점을 찾는 프로그램을 작성하시오.\n",
    "\n",
    "a = list(map(int, input().split(\" \")))\n",
    "b = list(map(int, input().split(\" \")))\n",
    "c = list(map(int, input().split(\" \")))\n",
    "\n",
    "if a[0] == b[0]:\n",
    "    x = c[0]\n",
    "elif a[0] == c[0]:\n",
    "    x = b[0]\n",
    "else:\n",
    "    x = a[0]\n",
    "    \n",
    "if a[1] == b[1]:\n",
    "    y = c[1]\n",
    "elif a[1] == c[1]:\n",
    "    y = b[1]\n",
    "else:\n",
    "    y = a[1]\n",
    "    \n",
    "print(x, y)"
   ]
  },
  {
   "cell_type": "code",
   "execution_count": 5,
   "id": "d5b322a0",
   "metadata": {},
   "outputs": [
    {
     "name": "stdout",
     "output_type": "stream",
     "text": [
      "6 8 10\n",
      "right\n",
      "25 52 60\n",
      "wrong\n",
      "5 12 13\n",
      "right\n",
      "0 0 0\n"
     ]
    }
   ],
   "source": [
    "# 직각삼각형\n",
    "# 주어진 세변의 길이로 삼각형이 직각인지 아닌지 구분하시오.\n",
    "# 각 입력에 대해 직각 삼각형이 맞다면 \"right\", 아니라면 \"wrong\"을 출력한다.\n",
    "\n",
    "while True:\n",
    "    n = list(map(int, input().split()))\n",
    "    \n",
    "    if (n[0] == 0 and n[1] == 0 and n[2] == 0):\n",
    "        break\n",
    "    \n",
    "    n.sort()\n",
    "    \n",
    "    if (n[0]**2 + n[1]**2 == n[2]**2):\n",
    "        print(\"right\")\n",
    "    else:\n",
    "        print(\"wrong\")\n",
    "    "
   ]
  },
  {
   "cell_type": "code",
   "execution_count": 9,
   "id": "cce6bb2c",
   "metadata": {},
   "outputs": [
    {
     "name": "stdout",
     "output_type": "stream",
     "text": [
      "1\n",
      "3.141593\n",
      "2\n"
     ]
    }
   ],
   "source": [
    "# 택시 기하학 : D(T1,T2) = |x1-x2| + |y1-y2|\n",
    "# 반지름 R이 주어졌을 때, 유클리드 기하학에서 원의 넓이와, 택시 기하학에서 원의 넓이를 구하는 프로그램을 작성하시오.\n",
    "\n",
    "r = int(input())\n",
    "pi = 3.141593\n",
    "\n",
    "print(round(pi * (r**2), 6)) #유클리드 기하학\n",
    "print(round((r**2) * 2, 6)) #택시 기하학"
   ]
  },
  {
   "cell_type": "code",
   "execution_count": 12,
   "id": "a43ba229",
   "metadata": {},
   "outputs": [
    {
     "name": "stdout",
     "output_type": "stream",
     "text": [
      "3\n",
      "0 0 13 40 0 37\n",
      "2\n",
      "0 0 3 0 7 4\n",
      "1\n",
      "1 1 1 1 1 5\n",
      "0\n"
     ]
    }
   ],
   "source": [
    "# **\n",
    "# 터렛\n",
    "n = int(input())\n",
    "\n",
    "for i in range(n):\n",
    "  x1, y1, r1, x2, y2, r2 = map(int, input().split())\n",
    "  r = ( (x1-x2)**2 + (y1-y2)**2 ) ** (1/2)\n",
    "  \n",
    "  if (r==0 and r1==r2) :\n",
    "    print(-1)\n",
    "  elif r > (r1 + r2) or r < abs(r1-r2):\n",
    "    print(0)\n",
    "  elif r == r1+r2 or r == abs(r1-r2) :\n",
    "    print(1)\n",
    "  else :\n",
    "    print(2)"
   ]
  },
  {
   "cell_type": "markdown",
   "id": "9e0495cf",
   "metadata": {},
   "source": [
    "# 10 : 재귀 단계"
   ]
  },
  {
   "cell_type": "code",
   "execution_count": 15,
   "id": "e7d98c50",
   "metadata": {},
   "outputs": [
    {
     "name": "stdout",
     "output_type": "stream",
     "text": [
      "10\n",
      "3628800\n"
     ]
    }
   ],
   "source": [
    "# 팩토리얼\n",
    "#0보다 크거나 같은 정수 N이 주어진다. 이때, N!을 출력하는 프로그램을 작성하시오.\n",
    "\n",
    "def solve(num):\n",
    "    if num <= 0:\n",
    "        return 1\n",
    "    return num * solve(num - 1)\n",
    "\n",
    "n = int(input())\n",
    "\n",
    "result = solve(n)\n",
    "\n",
    "print(result)"
   ]
  },
  {
   "cell_type": "code",
   "execution_count": 17,
   "id": "79f3c5d9",
   "metadata": {},
   "outputs": [
    {
     "name": "stdout",
     "output_type": "stream",
     "text": [
      "10\n",
      "55\n"
     ]
    }
   ],
   "source": [
    "# 피보나치 수 5\n",
    "#  Fn = Fn-1 + Fn-2 (n ≥ 2)\n",
    "# n이 주어졌을 때, n번째 피보나치 수를 구하는 프로그램을 작성하시오.\n",
    "\n",
    "def solve(num):\n",
    "    if num == 0:\n",
    "        return 0\n",
    "    elif num == 1:\n",
    "        return 1\n",
    "    return solve(num - 1) + solve(num -2)\n",
    "\n",
    "a = int(input())\n",
    "print(solve(a))"
   ]
  },
  {
   "cell_type": "code",
   "execution_count": 18,
   "id": "0610fc6b",
   "metadata": {},
   "outputs": [
    {
     "name": "stdout",
     "output_type": "stream",
     "text": [
      "27\n",
      "***************************\n",
      "* ** ** ** ** ** ** ** ** *\n",
      "***************************\n",
      "***   ******   ******   ***\n",
      "* *   * ** *   * ** *   * *\n",
      "***   ******   ******   ***\n",
      "***************************\n",
      "* ** ** ** ** ** ** ** ** *\n",
      "***************************\n",
      "*********         *********\n",
      "* ** ** *         * ** ** *\n",
      "*********         *********\n",
      "***   ***         ***   ***\n",
      "* *   * *         * *   * *\n",
      "***   ***         ***   ***\n",
      "*********         *********\n",
      "* ** ** *         * ** ** *\n",
      "*********         *********\n",
      "***************************\n",
      "* ** ** ** ** ** ** ** ** *\n",
      "***************************\n",
      "***   ******   ******   ***\n",
      "* *   * ** *   * ** *   * *\n",
      "***   ******   ******   ***\n",
      "***************************\n",
      "* ** ** ** ** ** ** ** ** *\n",
      "***************************\n"
     ]
    }
   ],
   "source": [
    "# ** \n",
    "#별 찍기\n",
    "\n",
    "n = int(input())\n",
    "\n",
    "star =[[' ' for _ in range(n)] for _ in range(n)]\n",
    "\n",
    "def stars (size, x, y):\n",
    "    if size == 1:\n",
    "        star[x][y] = \"*\"\n",
    "    else:\n",
    "        next_size = size // 3\n",
    "        for dy in range(3):\n",
    "            for dx in range(3):\n",
    "                if dy != 1 or dx != 1:\n",
    "                    stars(next_size, x + dx * next_size, y + dy * next_size)\n",
    "stars(n, 0, 0)\n",
    "for k in star:\n",
    "    print(\"\".join(k))"
   ]
  },
  {
   "cell_type": "code",
   "execution_count": 20,
   "id": "41e0178e",
   "metadata": {},
   "outputs": [
    {
     "name": "stdout",
     "output_type": "stream",
     "text": [
      "3\n",
      "7\n",
      "1 3\n",
      "1 2\n",
      "3 2\n",
      "1 3\n",
      "2 1\n",
      "2 3\n",
      "1 3\n"
     ]
    }
   ],
   "source": [
    "# 하노이 탑 이동 순서\n",
    "\n",
    "def hanoi(num, a, b, c):\n",
    "    if (num == 1):\n",
    "        print(a, c)\n",
    "    else:\n",
    "        hanoi(num - 1, a, c, b)\n",
    "        print(a, c)\n",
    "        hanoi(num - 1, b, a, c)\n",
    "    \n",
    "n = int(input())\n",
    "print((2**n)-1)\n",
    "hanoi(n, 1, 2, 3)"
   ]
  }
 ],
 "metadata": {
  "kernelspec": {
   "display_name": "Python 3",
   "language": "python",
   "name": "python3"
  },
  "language_info": {
   "codemirror_mode": {
    "name": "ipython",
    "version": 3
   },
   "file_extension": ".py",
   "mimetype": "text/x-python",
   "name": "python",
   "nbconvert_exporter": "python",
   "pygments_lexer": "ipython3",
   "version": "3.8.8"
  }
 },
 "nbformat": 4,
 "nbformat_minor": 5
}
