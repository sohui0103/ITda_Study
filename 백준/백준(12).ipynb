{
 "cells": [
  {
   "cell_type": "code",
   "execution_count": 13,
   "id": "497a63b8",
   "metadata": {},
   "outputs": [
    {
     "name": "stdout",
     "output_type": "stream",
     "text": [
      "5\n",
      "5\n",
      "4\n",
      "3\n",
      "2\n",
      "1\n",
      "1\n",
      "2\n",
      "3\n",
      "4\n",
      "5\n"
     ]
    }
   ],
   "source": [
    "# 2750\n",
    "# N개의 수가 주어졌을 때, 이를 오름차순으로 정렬하는 프로그램을 작성하시오.\n",
    "\n",
    "n = int(input())\n",
    "nums = []\n",
    "\n",
    "for _ in range(n):\n",
    "    nums.append(int(input()))\n",
    "    \n",
    "for i in sorted(nums):\n",
    "    print(i)\n"
   ]
  },
  {
   "cell_type": "code",
   "execution_count": 14,
   "id": "23466e07",
   "metadata": {},
   "outputs": [
    {
     "name": "stdout",
     "output_type": "stream",
     "text": [
      "5\n",
      "5\n",
      "4\n",
      "3\n",
      "2\n",
      "1\n",
      "1\n",
      "2\n",
      "3\n",
      "4\n",
      "5\n"
     ]
    }
   ],
   "source": [
    "# 2751\n",
    "# N개의 수가 주어졌을 때, 이를 오름차순으로 정렬하는 프로그램을 작성하시오.\n",
    "# 첫째 줄에 수의 개수 N\n",
    "\n",
    "n = int(input())\n",
    "nums = []\n",
    "\n",
    "for _ in range(n):\n",
    "    nums.append(int(input()))\n",
    "    \n",
    "for i in sorted(nums):\n",
    "    print(i)"
   ]
  },
  {
   "cell_type": "code",
   "execution_count": 16,
   "id": "7ab2b1ab",
   "metadata": {},
   "outputs": [
    {
     "name": "stdout",
     "output_type": "stream",
     "text": [
      "10\n",
      "5\n",
      "2\n",
      "3\n",
      "1\n",
      "4\n",
      "2\n",
      "3\n",
      "5\n",
      "1\n",
      "7\n",
      "1\n",
      "1\n",
      "2\n",
      "2\n",
      "3\n",
      "3\n",
      "4\n",
      "5\n",
      "5\n",
      "7\n"
     ]
    }
   ],
   "source": [
    "# 10989\n",
    "# N개의 수가 주어졌을 때, 이를 오름차순으로 정렬하는 프로그램을 작성하시오.\n",
    "# 첫째 줄에 수의 개수 N\n",
    "\n",
    "n = int(input())\n",
    "nums = []\n",
    "\n",
    "for _ in range(n):\n",
    "    nums.append(int(input()))\n",
    "    \n",
    "for i in sorted(nums):\n",
    "    print(i)"
   ]
  },
  {
   "cell_type": "code",
   "execution_count": 19,
   "id": "0df84624",
   "metadata": {},
   "outputs": [
    {
     "ename": "SyntaxError",
     "evalue": "invalid syntax (<ipython-input-19-87c9c44a4bb4>, line 11)",
     "output_type": "error",
     "traceback": [
      "\u001b[1;36m  File \u001b[1;32m\"<ipython-input-19-87c9c44a4bb4>\"\u001b[1;36m, line \u001b[1;32m11\u001b[0m\n\u001b[1;33m    for sorted(nums):\u001b[0m\n\u001b[1;37m                    ^\u001b[0m\n\u001b[1;31mSyntaxError\u001b[0m\u001b[1;31m:\u001b[0m invalid syntax\n"
     ]
    }
   ],
   "source": [
    "# 2108\n",
    "# N개의 수가 주어졌을 때, 네 가지 기본 통계값을 구하는 프로그램을 작성하시오.\n",
    "\n",
    "N = int(input())\n",
    "nums = []\n",
    "\n",
    "for _ in ragne(N):\n",
    "    num = int(input())\n",
    "    nums.append(num)\n",
    "\n",
    "for sorted(nums):\n",
    "    #중앙값\n",
    "    mid = nums[N - 1 // 2]\n",
    "    #범위\n",
    "    ran = max(nums) - min(nums)\n",
    "    #최빈값\n",
    "    mode = Counter(nums).most_common()\n",
    "\n",
    "#산술평균\n",
    "avg = sum(num) / N\n",
    "    \n",
    "print(avg, mid, ran, mode)\n",
    "\n"
   ]
  },
  {
   "cell_type": "code",
   "execution_count": 23,
   "id": "2b579d26",
   "metadata": {},
   "outputs": [
    {
     "ename": "ValueError",
     "evalue": "invalid literal for int() with base 10: ''",
     "output_type": "error",
     "traceback": [
      "\u001b[1;31m---------------------------------------------------------------------------\u001b[0m",
      "\u001b[1;31mValueError\u001b[0m                                Traceback (most recent call last)",
      "\u001b[1;32m<ipython-input-23-90f286b027bc>\u001b[0m in \u001b[0;36m<module>\u001b[1;34m\u001b[0m\n\u001b[0;32m      3\u001b[0m \u001b[1;33m\u001b[0m\u001b[0m\n\u001b[0;32m      4\u001b[0m \u001b[0mcnt\u001b[0m \u001b[1;33m=\u001b[0m \u001b[1;33m{\u001b[0m\u001b[1;33m}\u001b[0m                         \u001b[1;31m# 입력받은 수를 key값으로 개수를 value로 받을 딕셔너리 선언\u001b[0m\u001b[1;33m\u001b[0m\u001b[1;33m\u001b[0m\u001b[0m\n\u001b[1;32m----> 5\u001b[1;33m \u001b[1;32mfor\u001b[0m \u001b[0m_\u001b[0m \u001b[1;32min\u001b[0m \u001b[0mrange\u001b[0m\u001b[1;33m(\u001b[0m\u001b[0mint\u001b[0m\u001b[1;33m(\u001b[0m\u001b[0minput\u001b[0m\u001b[1;33m(\u001b[0m\u001b[1;33m)\u001b[0m\u001b[1;33m)\u001b[0m\u001b[1;33m)\u001b[0m\u001b[1;33m:\u001b[0m    \u001b[1;31m# 입력받은 테스트 케이스 만큼 도는 반복문\u001b[0m\u001b[1;33m\u001b[0m\u001b[1;33m\u001b[0m\u001b[0m\n\u001b[0m\u001b[0;32m      6\u001b[0m     \u001b[0mnum\u001b[0m \u001b[1;33m=\u001b[0m \u001b[0mint\u001b[0m\u001b[1;33m(\u001b[0m\u001b[0minput\u001b[0m\u001b[1;33m(\u001b[0m\u001b[1;33m)\u001b[0m\u001b[1;33m)\u001b[0m           \u001b[1;31m# 수 입력받기\u001b[0m\u001b[1;33m\u001b[0m\u001b[1;33m\u001b[0m\u001b[0m\n\u001b[0;32m      7\u001b[0m     \u001b[1;32mif\u001b[0m \u001b[0mnum\u001b[0m \u001b[1;32min\u001b[0m \u001b[0mcnt\u001b[0m\u001b[1;33m:\u001b[0m               \u001b[1;31m# 만약 입력받은 수가 cnt에 있으면 횟수(개수)를 1추가\u001b[0m\u001b[1;33m\u001b[0m\u001b[1;33m\u001b[0m\u001b[0m\n",
      "\u001b[1;31mValueError\u001b[0m: invalid literal for int() with base 10: ''"
     ]
    }
   ],
   "source": [
    "import sys                       # input()함수보다 빠른 stdin.readline을 쓰기 위해\n",
    "input = sys.stdin.readline       # input 을 stdin.readline으로 바꿔준다.\n",
    "\n",
    "cnt = {}                         # 입력받은 수를 key값으로 개수를 value로 받을 딕셔너리 선언\n",
    "for _ in range(int(input())):    # 입력받은 테스트 케이스 만큼 도는 반복문\n",
    "    num = int(input())           # 수 입력받기\n",
    "    if num in cnt:               # 만약 입력받은 수가 cnt에 있으면 횟수(개수)를 1추가\n",
    "        cnt[num] += 1\n",
    "    else:                        # 아니면 없으면 처음이니깐 입력받은 수는 처음(1)이다.\n",
    "        cnt[num] = 1\n",
    "\n",
    "sorted_cnt_dict = dict(sorted(cnt.items()))        # 다 입력받고 sorted함수로 정렬하기\n",
    "\n",
    "# 입력받은 cnt딕셔너리를 토대로 실제 정렬된 리스트를 만든다. (리스트 컴프리핸션 이용)\n",
    "sorted_list = [i for i, j in sorted_cnt_dict.items() for _ in range(j)]\n",
    "\n",
    "# 입력받은 cnt딕셔너리에서 최대 횟수로 입력된 숫자를 리스트에 담기 (컴프리핸션 이용)\n",
    "max_list = [i for i, j in sorted_cnt_dict.items() if max(sorted_cnt_dict.values()) == j]\n",
    "\n",
    "# 평균값 출력\n",
    "print(round(sum(sorted_list)/len(sorted_list)))   # 정렬된 리스트의 총합 나누기 리스트 원소의 개수\n",
    "\n",
    "# 중앙값 출력\n",
    "print(sorted_list[len(sorted_list)//2])        # 정렬된 리스트의 중앙 인덱스 출력\n",
    "\n",
    "# 최빈값 출력\n",
    "if len(max_list) == 1:           # 만약 최대 횟수로 입력 받은 숫자가 1개이면\n",
    "    print(max_list[0])           # 첫 번째 출력(어자피 1개 밖에 없다)\n",
    "else:                            # 만약 최대 횟수로 입력 받은 숫자가 여러개면\n",
    "    print(max_list[1])           # 그 중에 2번째 출력 (어자피 정렬된 곳에서 append하기 때문에 따로 정렬이 필요없음)\n",
    "\n",
    "# 범위 출력\n",
    "print(max(sorted_list)-min(sorted_list))"
   ]
  },
  {
   "cell_type": "code",
   "execution_count": 1,
   "id": "8df20c6a",
   "metadata": {},
   "outputs": [
    {
     "name": "stdout",
     "output_type": "stream",
     "text": [
      "2143\n",
      "4321"
     ]
    }
   ],
   "source": [
    "# 1427\n",
    "# 수가 주어지면, 그 수의 각 자리수를 내림차순으로 정렬해보자.\n",
    "# 첫째 줄에 정렬하려고 하는 수 N이 주어진다\n",
    "\n",
    "nums = input()\n",
    "nums = [int(n) for n in nums]\n",
    "\n",
    "order_num = sorted(nums, reverse = True)\n",
    "\n",
    "for n in order_num:\n",
    "    print(n, end = '')"
   ]
  },
  {
   "cell_type": "code",
   "execution_count": 2,
   "id": "93db9620",
   "metadata": {},
   "outputs": [
    {
     "name": "stdout",
     "output_type": "stream",
     "text": [
      "5\n",
      "3 4\n",
      "1 1\n",
      "1 -1\n",
      "2 2\n",
      "3 3\n",
      "1 -1\n",
      "1 1\n",
      "2 2\n",
      "3 3\n",
      "3 4\n"
     ]
    }
   ],
   "source": [
    "# 11650\n",
    "# 좌표를 x좌표가 증가하는 순으로, x좌표가 같으면 y좌표가 증가하는 순서로 정렬한 다음 출력하는 프로그램을 작성하시오\n",
    "\n",
    "arr = sorted([list(map(int, input().split())) for _ in range(int(input()))], key=lambda x: (x[0], x[1]))\n",
    "for a in arr: print(a[0], a[1])"
   ]
  },
  {
   "cell_type": "code",
   "execution_count": 4,
   "id": "a3bec0c3",
   "metadata": {},
   "outputs": [
    {
     "name": "stdout",
     "output_type": "stream",
     "text": [
      "5\n",
      "0 4\n",
      "1 2\n",
      "1 -1\n",
      "2 2\n",
      "3 3\n",
      "1 -1\n",
      "1 2\n",
      "2 2\n",
      "3 3\n",
      "0 4\n"
     ]
    }
   ],
   "source": [
    "# 11651\n",
    "# 좌표를 y좌표가 증가하는 순으로, y좌표가 같으면 x좌표가 증가하는 순서로 정렬한 다음 출력하는 프로그램\n",
    "\n",
    "arr = sorted([list(map(int, input().split())) for _ in range(int(input()))], key=lambda x: (x[1], x[0]))\n",
    "for a in arr: print(a[0], a[1])"
   ]
  },
  {
   "cell_type": "code",
   "execution_count": 6,
   "id": "50eeefac",
   "metadata": {},
   "outputs": [
    {
     "name": "stdout",
     "output_type": "stream",
     "text": [
      "13\n",
      "but\n",
      "i\n",
      "wont\n",
      "hesitate\n",
      "no\n",
      "more\n",
      "no\n",
      "more\n",
      "it\n",
      "cannot\n",
      "wait\n",
      "im\n",
      "yours\n",
      "i\n",
      "im\n",
      "it\n",
      "no\n",
      "but\n",
      "more\n",
      "wait\n",
      "wont\n",
      "yours\n",
      "cannot\n",
      "hesitate\n"
     ]
    }
   ],
   "source": [
    "# 1181\n",
    "# 알파벳 소문자로 이루어진 N개의 단어가 들어오면 아래와 같은 조건에 따라 정렬하는 프로그램을 작성하시오.\n",
    "# 길이가 짧은 순\n",
    "# 길이가 같을 시 사전 순\n",
    "\n",
    "# 1 ≤ N ≤ 20,000\n",
    "n = int(input())\n",
    "\n",
    "# 문자열을 읽어 들인다\n",
    "# 각 문자열 길이는 50 을 넘지 않는다\n",
    "words = [input() for _ in range(n)]\n",
    "\n",
    "# 중복 단어 제거\n",
    "\n",
    "words.sort(key=lambda word: (len(word), word))\n",
    "\n",
    "# print(words)\n",
    "\n",
    "prev = \"\"\n",
    "for word in words:\n",
    "    if word != prev:\n",
    "        print(word)\n",
    "    prev = word"
   ]
  },
  {
   "cell_type": "code",
   "execution_count": 15,
   "id": "43384e04",
   "metadata": {},
   "outputs": [
    {
     "name": "stdout",
     "output_type": "stream",
     "text": [
      "3\n"
     ]
    },
    {
     "ename": "IndexError",
     "evalue": "list index out of range",
     "output_type": "error",
     "traceback": [
      "\u001b[1;31m---------------------------------------------------------------------------\u001b[0m",
      "\u001b[1;31mIndexError\u001b[0m                                Traceback (most recent call last)",
      "\u001b[1;32m<ipython-input-15-a9c1291e4102>\u001b[0m in \u001b[0;36m<module>\u001b[1;34m\u001b[0m\n\u001b[0;32m     10\u001b[0m     \u001b[0mdata\u001b[0m\u001b[1;33m.\u001b[0m\u001b[0mappend\u001b[0m\u001b[1;33m(\u001b[0m\u001b[0msys\u001b[0m\u001b[1;33m.\u001b[0m\u001b[0mstdin\u001b[0m\u001b[1;33m.\u001b[0m\u001b[0mreadline\u001b[0m\u001b[1;33m(\u001b[0m\u001b[1;33m)\u001b[0m\u001b[1;33m.\u001b[0m\u001b[0msplit\u001b[0m\u001b[1;33m(\u001b[0m\u001b[1;33m)\u001b[0m\u001b[1;33m)\u001b[0m\u001b[1;33m\u001b[0m\u001b[1;33m\u001b[0m\u001b[0m\n\u001b[0;32m     11\u001b[0m \u001b[1;33m\u001b[0m\u001b[0m\n\u001b[1;32m---> 12\u001b[1;33m \u001b[0mdata\u001b[0m\u001b[1;33m.\u001b[0m\u001b[0msort\u001b[0m\u001b[1;33m(\u001b[0m\u001b[0mkey\u001b[0m\u001b[1;33m=\u001b[0m\u001b[1;32mlambda\u001b[0m \u001b[0mx\u001b[0m\u001b[1;33m:\u001b[0m\u001b[0mint\u001b[0m\u001b[1;33m(\u001b[0m\u001b[0mx\u001b[0m\u001b[1;33m[\u001b[0m\u001b[1;36m0\u001b[0m\u001b[1;33m]\u001b[0m\u001b[1;33m)\u001b[0m\u001b[1;33m)\u001b[0m\u001b[1;33m\u001b[0m\u001b[1;33m\u001b[0m\u001b[0m\n\u001b[0m\u001b[0;32m     13\u001b[0m \u001b[1;33m\u001b[0m\u001b[0m\n\u001b[0;32m     14\u001b[0m \u001b[1;32mfor\u001b[0m \u001b[0mi\u001b[0m \u001b[1;32min\u001b[0m \u001b[0mdata\u001b[0m\u001b[1;33m:\u001b[0m\u001b[1;33m\u001b[0m\u001b[1;33m\u001b[0m\u001b[0m\n",
      "\u001b[1;32m<ipython-input-15-a9c1291e4102>\u001b[0m in \u001b[0;36m<lambda>\u001b[1;34m(x)\u001b[0m\n\u001b[0;32m     10\u001b[0m     \u001b[0mdata\u001b[0m\u001b[1;33m.\u001b[0m\u001b[0mappend\u001b[0m\u001b[1;33m(\u001b[0m\u001b[0msys\u001b[0m\u001b[1;33m.\u001b[0m\u001b[0mstdin\u001b[0m\u001b[1;33m.\u001b[0m\u001b[0mreadline\u001b[0m\u001b[1;33m(\u001b[0m\u001b[1;33m)\u001b[0m\u001b[1;33m.\u001b[0m\u001b[0msplit\u001b[0m\u001b[1;33m(\u001b[0m\u001b[1;33m)\u001b[0m\u001b[1;33m)\u001b[0m\u001b[1;33m\u001b[0m\u001b[1;33m\u001b[0m\u001b[0m\n\u001b[0;32m     11\u001b[0m \u001b[1;33m\u001b[0m\u001b[0m\n\u001b[1;32m---> 12\u001b[1;33m \u001b[0mdata\u001b[0m\u001b[1;33m.\u001b[0m\u001b[0msort\u001b[0m\u001b[1;33m(\u001b[0m\u001b[0mkey\u001b[0m\u001b[1;33m=\u001b[0m\u001b[1;32mlambda\u001b[0m \u001b[0mx\u001b[0m\u001b[1;33m:\u001b[0m\u001b[0mint\u001b[0m\u001b[1;33m(\u001b[0m\u001b[0mx\u001b[0m\u001b[1;33m[\u001b[0m\u001b[1;36m0\u001b[0m\u001b[1;33m]\u001b[0m\u001b[1;33m)\u001b[0m\u001b[1;33m)\u001b[0m\u001b[1;33m\u001b[0m\u001b[1;33m\u001b[0m\u001b[0m\n\u001b[0m\u001b[0;32m     13\u001b[0m \u001b[1;33m\u001b[0m\u001b[0m\n\u001b[0;32m     14\u001b[0m \u001b[1;32mfor\u001b[0m \u001b[0mi\u001b[0m \u001b[1;32min\u001b[0m \u001b[0mdata\u001b[0m\u001b[1;33m:\u001b[0m\u001b[1;33m\u001b[0m\u001b[1;33m\u001b[0m\u001b[0m\n",
      "\u001b[1;31mIndexError\u001b[0m: list index out of range"
     ]
    }
   ],
   "source": [
    "# **\n",
    "# 10814\n",
    "# 회원들을 나이가 증가하는 순으로\n",
    "# 나이가 같으면 먼저 가입한 사람이 앞에 오는 순서로 정렬\n",
    "\n",
    "import sys\n",
    "n = int(input())\n",
    "data = []\n",
    "\n",
    "for _ in range(n):\n",
    "    data.append(sys.stdin.readline().split())\n",
    "    \n",
    "data.sort(key=lambda x:int(x[0]))\n",
    "\n",
    "for i in data:\n",
    "    print(i[0], i[1])"
   ]
  },
  {
   "cell_type": "code",
   "execution_count": 17,
   "id": "d4ff7f67",
   "metadata": {},
   "outputs": [
    {
     "ename": "ValueError",
     "evalue": "invalid literal for int() with base 10: ''",
     "output_type": "error",
     "traceback": [
      "\u001b[1;31m---------------------------------------------------------------------------\u001b[0m",
      "\u001b[1;31mValueError\u001b[0m                                Traceback (most recent call last)",
      "\u001b[1;32m<ipython-input-17-50dfc271d8aa>\u001b[0m in \u001b[0;36m<module>\u001b[1;34m\u001b[0m\n\u001b[0;32m      6\u001b[0m \u001b[1;33m\u001b[0m\u001b[0m\n\u001b[0;32m      7\u001b[0m \u001b[0minput\u001b[0m \u001b[1;33m=\u001b[0m \u001b[0msys\u001b[0m\u001b[1;33m.\u001b[0m\u001b[0mstdin\u001b[0m\u001b[1;33m.\u001b[0m\u001b[0mreadline\u001b[0m\u001b[1;33m\u001b[0m\u001b[1;33m\u001b[0m\u001b[0m\n\u001b[1;32m----> 8\u001b[1;33m \u001b[0mnum\u001b[0m \u001b[1;33m=\u001b[0m \u001b[0mint\u001b[0m\u001b[1;33m(\u001b[0m\u001b[0minput\u001b[0m\u001b[1;33m(\u001b[0m\u001b[1;33m)\u001b[0m\u001b[1;33m.\u001b[0m\u001b[0mrstrip\u001b[0m\u001b[1;33m(\u001b[0m\u001b[1;33m)\u001b[0m\u001b[1;33m)\u001b[0m\u001b[1;33m\u001b[0m\u001b[1;33m\u001b[0m\u001b[0m\n\u001b[0m\u001b[0;32m      9\u001b[0m \u001b[0mnum_list\u001b[0m \u001b[1;33m=\u001b[0m \u001b[0mlist\u001b[0m\u001b[1;33m(\u001b[0m\u001b[0mmap\u001b[0m\u001b[1;33m(\u001b[0m\u001b[0mint\u001b[0m\u001b[1;33m,\u001b[0m \u001b[0minput\u001b[0m\u001b[1;33m(\u001b[0m\u001b[1;33m)\u001b[0m\u001b[1;33m.\u001b[0m\u001b[0msplit\u001b[0m\u001b[1;33m(\u001b[0m\u001b[1;33m)\u001b[0m\u001b[1;33m)\u001b[0m\u001b[1;33m)\u001b[0m\u001b[1;33m\u001b[0m\u001b[1;33m\u001b[0m\u001b[0m\n\u001b[0;32m     10\u001b[0m \u001b[1;33m\u001b[0m\u001b[0m\n",
      "\u001b[1;31mValueError\u001b[0m: invalid literal for int() with base 10: ''"
     ]
    }
   ],
   "source": [
    "# 18870\n",
    "# Xi를 좌표 압축한 결과 X'i의 값은 Xi > Xj를 만족하는 서로 다른 좌표의 개수와 같아야 한다.\n",
    "# X'1, X'2, ..., X'N를 출력\n",
    "\n",
    "import sys\n",
    "\n",
    "input = sys.stdin.readline\n",
    "num = int(input().rstrip())\n",
    "num_list = list(map(int, input().split()))\n",
    "\n",
    "dict1 = {y:x for x, y in enumerate(sorted(set(num_list)))}\n",
    "\n",
    "for x in num_list:\n",
    "    print(dict1[x], end = '')"
   ]
  },
  {
   "cell_type": "code",
   "execution_count": null,
   "id": "57e41a32",
   "metadata": {},
   "outputs": [],
   "source": []
  }
 ],
 "metadata": {
  "kernelspec": {
   "display_name": "Python 3",
   "language": "python",
   "name": "python3"
  },
  "language_info": {
   "codemirror_mode": {
    "name": "ipython",
    "version": 3
   },
   "file_extension": ".py",
   "mimetype": "text/x-python",
   "name": "python",
   "nbconvert_exporter": "python",
   "pygments_lexer": "ipython3",
   "version": "3.8.8"
  }
 },
 "nbformat": 4,
 "nbformat_minor": 5
}
