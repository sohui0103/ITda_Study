{
 "cells": [
  {
   "cell_type": "markdown",
   "id": "c8b39cff",
   "metadata": {},
   "source": [
    "# 11. 브루트 포스"
   ]
  },
  {
   "cell_type": "code",
   "execution_count": 3,
   "id": "b82d326f",
   "metadata": {},
   "outputs": [
    {
     "name": "stdout",
     "output_type": "stream",
     "text": [
      "5 21\n",
      "5 6 7 8 9\n",
      "21\n"
     ]
    }
   ],
   "source": [
    "# 2798\n",
    "# N장의 카드 중에서 3장의 카드를 골라야 한다\n",
    "# 카드의 합은 M을 넘지 않으면서 M과 최대한 가깝게 만들어야 한다.\n",
    "# N장의 카드에 써져 있는 숫자가 주어졌을 때, M을 넘지 않으면서 M에 최대한 가까운 카드 3장의 합을 구해 출력하시오.\n",
    "\n",
    "n, m = map(int, input().split())\n",
    "card = list(map(int, input().split()))\n",
    "l = len(card)\n",
    "sum = 0\n",
    "\n",
    "for i in range(0, l - 2):\n",
    "    for j in range(i + 1, l - 1):\n",
    "        for k in range(j + 1, l - 1):\n",
    "            if card[i] + card[j] + card[j] > m:\n",
    "                continue\n",
    "            else:\n",
    "                sum = max(sum, card[i] + card[j] + card[k])\n",
    "print(sum)\n"
   ]
  },
  {
   "cell_type": "code",
   "execution_count": 9,
   "id": "f47c217c",
   "metadata": {},
   "outputs": [
    {
     "name": "stdout",
     "output_type": "stream",
     "text": [
      "216\n",
      "198\n"
     ]
    }
   ],
   "source": [
    "# 2231\n",
    "# 어떤 자연수 M의 분해합이 N인 경우, M을 N의 생성자라 한다\n",
    "\n",
    "result = 0\n",
    "answer = []\n",
    "\n",
    "n = int(input())\n",
    "\n",
    "for i in range(n):\n",
    "    digits = list(str(i))\n",
    "    result = i\n",
    "\n",
    "    for j in digits:\n",
    "        result += int(j)\n",
    "    \n",
    "    if result == n:\n",
    "        answer.append(i)\n",
    "\n",
    "if len(answer):\n",
    "    print(min(answer))\n",
    "else:\n",
    "    print(0)"
   ]
  },
  {
   "cell_type": "code",
   "execution_count": 2,
   "id": "7990c6fc",
   "metadata": {
    "scrolled": true
   },
   "outputs": [
    {
     "name": "stdout",
     "output_type": "stream",
     "text": [
      "5\n",
      "55 185\n",
      "58 183\n",
      "88 186\n",
      "60 175\n",
      "46 155\n",
      "2 2 1 2 5 "
     ]
    }
   ],
   "source": [
    "# 7568\n",
    "# 두 사람 A 와 B의 덩치가 각각 (x, y), (p, q)라고 할 때 \n",
    "# x > p 그리고 y > q 이라면 우리는 A의 덩치가 B의 덩치보다 \"더 크다\"고 말한다.\n",
    "# 만일 자신보다 더 큰 덩치의 사람이 k명이라면 그 사람의 덩치 등수는 k+1이 된다.\n",
    "# 학생 N명의 몸무게와 키가 담긴 입력을 읽어서 각 사람의 덩치 등수를 계산하여 출력해야 한다.\n",
    "\n",
    "# 첫 줄에는 전체 사람의 수 N이 주어진다\n",
    "# 몸무게와 키를 나타내는 양의 정수 x와 y가 하나의 공백을 두고 각각 나타난다.\n",
    "# 나열된 사람의 덩치 등수를 구해서 그 순서대로 첫 줄에 출력해야 한다. 단, 각 덩치 등수는 공백문자로 분리되어야 한다.\n",
    "\n",
    "n = int(input())\n",
    "student = []\n",
    "\n",
    "for i in range(n):\n",
    "    x, y = map(int, input().split())\n",
    "    student.append((x, y))\n",
    "    \n",
    "for j in range(n):\n",
    "    rank = 1\n",
    "    for k in range(n):\n",
    "        if student[j][0] < student[k][0] and student[j][1] < student[k][1]:\n",
    "            rank += 1\n",
    "    print(rank, end = ' ')"
   ]
  },
  {
   "cell_type": "code",
   "execution_count": 3,
   "id": "974b8f1a",
   "metadata": {},
   "outputs": [
    {
     "name": "stdout",
     "output_type": "stream",
     "text": [
      "8 8\n",
      "WBWBWBWB\n",
      "BWBWBWBW\n",
      "WBWBWBWB\n",
      "BWBBBWBW\n",
      "WBWBWBWB\n",
      "BWBWBWBW\n",
      "WBWBWBWB\n",
      "BWBWBWBW\n",
      "1\n"
     ]
    }
   ],
   "source": [
    "# **\n",
    "# 1018\n",
    "#  M×N 크기의 보드를  8×8 크기의 체스판으로 만들려고 한다.\n",
    "# 지민이가 다시 칠해야 하는 정사각형의 최소 개수를 구하는 프로그램을 작성하시오.\n",
    "\n",
    "n, m = map(int, input().split())\n",
    "l = []\n",
    "mini = []\n",
    "\n",
    "for _ in range(n):\n",
    "    l.append(input())\n",
    "    \n",
    "for a in range(n - 7):\n",
    "    for i in range(m - 7):\n",
    "        x1 = 0\n",
    "        x2 = 0\n",
    "        for b in range(a, a + 8):\n",
    "            for j in range(i, i + 8):\n",
    "                if(j + b) % 2 == 0:\n",
    "                    if l[b][j] != 'W':\n",
    "                        x1 += 1\n",
    "                    if l[b][j] != 'B':\n",
    "                        x2 += 1\n",
    "                else:\n",
    "                    if l[b][j] != 'B':\n",
    "                        x1 += 1\n",
    "                    if l[b][j] != 'W':\n",
    "                        x2 += 1\n",
    "        mini.append(x1)\n",
    "        mini.append(x2)\n",
    "        \n",
    "print(min(mini))\n",
    "                        "
   ]
  },
  {
   "cell_type": "code",
   "execution_count": 17,
   "id": "366fcb88",
   "metadata": {},
   "outputs": [
    {
     "name": "stdout",
     "output_type": "stream",
     "text": [
      "187\n",
      "66666\n"
     ]
    }
   ],
   "source": [
    "# 1436\n",
    "# 숌은 첫 번째 영화의 제목은 세상의 종말 666, 두 번째 영화의 제목은 세상의 종말 1666 이렇게 이름을 지을 것이다. \n",
    "# 숌이 만든 N번째 영화의 제목에 들어간 숫자를 출력하는 프로그램을 작성하시오.\n",
    "\n",
    "n = int(input())\n",
    "\n",
    "total_list = range(666, 2666800)\n",
    "new = []\n",
    "\n",
    "for i in (total_list):\n",
    "    if \"666\" in str(i):\n",
    "        new.append(i)\n",
    "\n",
    "print(new[n - 1])"
   ]
  },
  {
   "cell_type": "code",
   "execution_count": null,
   "id": "0dcd11e4",
   "metadata": {},
   "outputs": [],
   "source": []
  }
 ],
 "metadata": {
  "kernelspec": {
   "display_name": "Python 3",
   "language": "python",
   "name": "python3"
  },
  "language_info": {
   "codemirror_mode": {
    "name": "ipython",
    "version": 3
   },
   "file_extension": ".py",
   "mimetype": "text/x-python",
   "name": "python",
   "nbconvert_exporter": "python",
   "pygments_lexer": "ipython3",
   "version": "3.8.8"
  }
 },
 "nbformat": 4,
 "nbformat_minor": 5
}
