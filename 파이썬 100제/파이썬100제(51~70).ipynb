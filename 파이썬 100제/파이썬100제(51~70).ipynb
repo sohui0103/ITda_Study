{
 "cells": [
  {
   "cell_type": "markdown",
   "id": "258d7d1f",
   "metadata": {},
   "source": [
    "# 51\n",
    "\n",
    "병합정렬(merge sort)은 대표적인 정렬 알고리즘 중 하나로 다음과 같이 동작합니다.\n",
    "\n",
    ">\n",
    "1. 리스트의 길이가 0 또는 1이면 이미 정렬된 것으로 본다. 그렇지 않은 경우에는\n",
    "\n",
    "2. 정렬되지 않은 리스트를 절반으로 잘라 비슷한 크기의 두 부분 리스트로 나눈다.\n",
    "\n",
    "3. 각 부분 리스트를 재귀적으로 합병 정렬을 이용해 정렬한다.\n",
    "\n",
    "4. 두 부분 리스트를 다시 하나의 정렬된 리스트로 합병한다.\n",
    ">\n",
    "(출처 : 위키피디아)\n",
    "\n",
    "다음 코드의 빈칸을 채워 병합정렬을 완성해 봅시다.\n",
    "\n",
    "```python\n",
    "#병합 정렬\n",
    "def 병합정렬(입력리스트):\n",
    "    입력리스트길이 = len(입력리스트)\n",
    "    if 입력리스트길이 <= 1:\n",
    "        return 입력리스트\n",
    "    중간값 = 입력리스트길이 // 2\n",
    "    그룹_하나 = 병합정렬(입력리스트[:중간값])\n",
    "    그룹_둘 = 병합정렬(입력리스트[중간값:])\n",
    "    결과값 = []\n",
    "\n",
    "    while (#빈칸을 채워주세요) and (#빈칸을 채워주세요) :\n",
    "        if (#빈칸을 채워주세요):\n",
    "            결과값.append(그룹_하나.pop(0))\n",
    "        else:\n",
    "            결과값.append(그룹_둘.pop(0))\n",
    "\n",
    "    while 그룹_하나:\n",
    "        결과값.append(그룹_하나.pop(0))\n",
    "    while 그룹_둘:\n",
    "        결과값.append(그룹_둘.pop(0))\n",
    "    return 결과값\n",
    "\n",
    "주어진리스트 = [180, 145, 165, 45, 170, 175, 173, 171]\n",
    "#빈칸을 채워주세요\n",
    "\n",
    "print(병합정렬(주어진리스트))\n",
    "```"
   ]
  },
  {
   "cell_type": "code",
   "execution_count": 2,
   "id": "0af45113",
   "metadata": {},
   "outputs": [
    {
     "name": "stdout",
     "output_type": "stream",
     "text": [
      "[45, 145, 165, 170, 171, 173, 175, 180]\n"
     ]
    }
   ],
   "source": [
    "def 병합정렬(입력리스트):\n",
    "    입력리스트길이 = len(입력리스트)\n",
    "    if 입력리스트길이 <= 1:\n",
    "        return 입력리스트\n",
    "    중간값 = 입력리스트길이 // 2\n",
    "    그룹_하나 = 병합정렬(입력리스트[:중간값])\n",
    "    그룹_둘 = 병합정렬(입력리스트[중간값:])\n",
    "    결과값 = []\n",
    "\n",
    "    while 그룹_하나 and 그룹_둘:\n",
    "        if 그룹_하나[0] < 그룹_둘 [0]:\n",
    "            결과값.append(그룹_하나.pop(0))\n",
    "        else:\n",
    "            결과값.append(그룹_둘.pop(0))\n",
    "\n",
    "    while 그룹_하나:\n",
    "        결과값.append(그룹_하나.pop(0))\n",
    "    while 그룹_둘:\n",
    "        결과값.append(그룹_둘.pop(0))\n",
    "    return 결과값\n",
    "\n",
    "주어진리스트 = [180, 145, 165, 45, 170, 175, 173, 171]\n",
    "\n",
    "print(병합정렬(주어진리스트))"
   ]
  },
  {
   "cell_type": "markdown",
   "id": "87950344",
   "metadata": {},
   "source": [
    "# 52\n",
    "다음 빈 칸을 채워 퀵 정렬을 완성해주세요.\n",
    "\n",
    "```python\n",
    "def 퀵정렬(입력리스트):\n",
    "    입력리스트의길이 = len(입력리스트)\n",
    "    if 입력리스트의길이 <= 1:\n",
    "        return 입력리스트\n",
    "    기준값 = 입력리스트.pop(입력리스트의길이//2)\n",
    "    그룹_하나 = []\n",
    "    그룹_둘 = []\n",
    "    \n",
    "    for i in range(입력리스트의길이-1):\n",
    "        if #내용을 채워주세요:\n",
    "            그룹_하나.append(입력리스트[i])\n",
    "        else:\n",
    "            그룹_둘.append(입력리스트[i])\n",
    "    return #내용을 채워주세요\n",
    "\n",
    "주어진리스트 = input().split(' ')\n",
    "#내용을 채워주세요.\n",
    "\n",
    "print(퀵정렬(주어진리스트))\n",
    "```"
   ]
  },
  {
   "cell_type": "code",
   "execution_count": 4,
   "id": "97abcb4b",
   "metadata": {},
   "outputs": [
    {
     "name": "stdout",
     "output_type": "stream",
     "text": [
      "180 145 165 45 170 175 173 171\n",
      "[45, 145, 165, 170, 171, 173, 175, 180]\n"
     ]
    }
   ],
   "source": [
    "def 퀵정렬(입력리스트):\n",
    "    입력리스트의길이 = len(입력리스트)\n",
    "    if 입력리스트의길이 <= 1:\n",
    "        return 입력리스트\n",
    "    기준값 = 입력리스트.pop(입력리스트의길이//2)\n",
    "    그룹_하나 = []\n",
    "    그룹_둘 = []\n",
    "\n",
    "    for i in range(입력리스트의길이-1):\n",
    "        if 입력리스트[i] < 기준값:\n",
    "            그룹_하나.append(입력리스트[i])\n",
    "        else:\n",
    "            그룹_둘.append(입력리스트[i])\n",
    "    return 퀵정렬(그룹_하나)+[기준값]+퀵정렬(그룹_둘)\n",
    "\n",
    "주어진리스트 = input().split(' ')\n",
    "주어진리스트 = [int(i) for i in 주어진리스트]\n",
    "\n",
    "print(퀵정렬(주어진리스트))"
   ]
  },
  {
   "cell_type": "markdown",
   "id": "83d0692c",
   "metadata": {},
   "source": [
    "# *53\n",
    "괄호 문자열이란 괄호 기호인 '{', '}', '[', ']', '(', ')' 와 같은 것을 말한다. 그 중 괄호의 모양이 바르게 구성 된 문자열을 **바른 문자열**, 그렇지 않은 문자열을 **바르지 않은 문자열**이라 부르도록 하자. \n",
    "\n",
    "(())와 같은 문자열은 바른 문자열이지만 ()()) 와 같은 문자열은 바르지 않은 문자열이다.(해당 문제에서는 소괄호만 판별하지만, 실력이 되시는 분들은 중괄호와 대괄호까지 판별해보세요.)\n",
    "\n",
    "**입력으로 주어진 괄호 문자열이 바른 문자열인지 바르지 않은 문자열인지 \"YES\"와 \"NO\"로 구분된 문자열을 출력해보자.**"
   ]
  },
  {
   "cell_type": "code",
   "execution_count": 5,
   "id": "4df2d74b",
   "metadata": {},
   "outputs": [
    {
     "name": "stdout",
     "output_type": "stream",
     "text": [
      "()())\n",
      "NO\n"
     ]
    }
   ],
   "source": [
    "def prove_str(a):\n",
    "    if a.count('(') != a.count(')'):\n",
    "        return False\n",
    "    괄호 = []\n",
    "    for i in a:\n",
    "        if i == '(':\n",
    "            괄호.append('(')\n",
    "        if i == ')':\n",
    "            if len(괄호) == 0:\n",
    "                return False\n",
    "            괄호.pop()\n",
    "        return True\n",
    "\n",
    "a = input()\n",
    "if prove_str(a) == True:\n",
    "    print('YES')\n",
    "else:\n",
    "    print(\"NO\")\n",
    "\n"
   ]
  },
  {
   "cell_type": "markdown",
   "id": "347a0e3b",
   "metadata": {},
   "source": [
    "# 54\n",
    "은주는 놀이공원 아르바이트를 하고 있습니다. 은주가 일하는 놀이공원에서는 현재 놀이공원 곳곳에 숨겨진 숫자 스탬프를 모아 오면 선물을 주는 이벤트를 하고 있습니다. 숫자 스탬프는 매일 그 수와 스탬프에 적힌 숫자가 바뀌지만 그 숫자는 항상 연속됩니다. \n",
    "그런데 요즘 다른 날에 찍은 스탬프를 가지고 와 선물을 달라고 하는 손님이 늘었습니다.\n",
    "\n",
    "스탬프에 적힌 숫자가 공백으로 구분되어 주어지면 이 숫자가 연속수인지 아닌지 \"YES\"와 \"NO\"로 판별하는 프로그램을 작성하세요.\n",
    "\n",
    "```python\n",
    "**입력1**\n",
    "1 2 4 3 5\n",
    "\n",
    "**출력1**\n",
    "YES\n",
    "\n",
    "**입력2**\n",
    "1 4 2 6 3\n",
    "\n",
    "**출력2**\n",
    "NO\n",
    "```"
   ]
  },
  {
   "cell_type": "code",
   "execution_count": 13,
   "id": "0811643e",
   "metadata": {},
   "outputs": [
    {
     "name": "stdout",
     "output_type": "stream",
     "text": [
      "1 2 4 3 5\n",
      "YES\n"
     ]
    }
   ],
   "source": [
    "n = input().split(' ')\n",
    "n = [int(i) for i in n]\n",
    "\n",
    "\n",
    "def seq_num (a):\n",
    "    a = sorted(a)\n",
    "    for i in range(len(a)-1):\n",
    "        if a[i] + 1 != a[i+1]:\n",
    "            return 'NO'\n",
    "    return 'YES'\n",
    "\n",
    "print(number(n))"
   ]
  },
  {
   "cell_type": "markdown",
   "id": "df534bc9",
   "metadata": {},
   "source": [
    "# 55\n",
    "\n",
    "```python\n",
    "원판의이동경로 = []\n",
    "def 하노이(원반의수, 시작기둥, 목표기둥, 보조기둥):\n",
    "    #원판이 한개일 때에는 옮기면 됩니다.\n",
    "    if 원반의수 == 1:\n",
    "        원판의이동경로.append([시작기둥, 목표기둥]) \n",
    "        return None\n",
    "    #원반의 n-1개를 경유기둥으로 옮기고\n",
    "    하노이(#내용을 채워주세요.)\n",
    "    #가장 큰 원반은 목표기둥으로\n",
    "    원판의이동경로.append(#내용을 채워주세요.) \n",
    "    #경유기둥과 시작기둥을 바꿉니다!\n",
    "    하노이(#내용을 채워주세요.)\n",
    "\n",
    "user_input = int(input())\n",
    "하노이(user_input,'A','C','B')\n",
    "\n",
    "print(len(원판의이동경로))\n",
    "```"
   ]
  },
  {
   "cell_type": "code",
   "execution_count": 14,
   "id": "8b1d9167",
   "metadata": {},
   "outputs": [
    {
     "name": "stdout",
     "output_type": "stream",
     "text": [
      "3\n",
      "7\n"
     ]
    }
   ],
   "source": [
    "원판의이동경로 = []\n",
    "def 하노이(원반의수, 시작기둥, 목표기둥, 보조기둥):\n",
    "    #원판이 한개일 때에는 옮기면 됩니다.\n",
    "    if 원반의수 == 1:\n",
    "        원판의이동경로.append([시작기둥, 목표기둥]) \n",
    "        return None\n",
    "    #원반의 n-1개를 경유기둥으로 옮기고\n",
    "    하노이(원반의수 -1, 시작기둥, 보조기둥, 목표기둥)\n",
    "    #가장 큰 원반은 목표기둥으로\n",
    "    원판의이동경로.append([시작기둥, 목표기둥]) \n",
    "    #경유기둥과 시작기둥을 바꿉니다!\n",
    "    하노이(원반의수-1, 보조기둥, 목표기둥, 시작기둥)\n",
    "\n",
    "user_input = int(input())\n",
    "하노이(user_input,'A','C','B')\n",
    "\n",
    "print(len(원판의이동경로))"
   ]
  },
  {
   "cell_type": "markdown",
   "id": "34834d02",
   "metadata": {},
   "source": [
    "# *56\n",
    "\n",
    "다음의 딕셔너리가 주어졌을 때 한국의 면적과 가장 비슷한 국가와 그 차이를 출력하세요.\n",
    "\n",
    "```python\n",
    "**데이터**\n",
    "nationWidth = {\n",
    "     'korea': 220877,\n",
    "     'Rusia': 17098242,\n",
    "     'China': 9596961,\n",
    "     'France': 543965,\n",
    "     'Japan': 377915,\n",
    "     'England' : 242900 }\n",
    "\n",
    "**출력**\n",
    "England 22023\n",
    "```"
   ]
  },
  {
   "cell_type": "code",
   "execution_count": 23,
   "id": "92b5fc0f",
   "metadata": {},
   "outputs": [
    {
     "name": "stdout",
     "output_type": "stream",
     "text": [
      "England 22023\n"
     ]
    }
   ],
   "source": [
    "nationWidth = {\n",
    "     'korea': 220877,\n",
    "     'Rusia': 17098242,\n",
    "     'China': 9596961,\n",
    "     'France': 543965,\n",
    "     'Japan': 377915,\n",
    "     'England' : 242900 }\n",
    "\n",
    "a = nationWidth['korea']\n",
    "nationWidth.pop('korea')\n",
    "\n",
    "b = list(nationWidth.items())\n",
    "gap = max(nationWidth.values())\n",
    "item = 0\n",
    "\n",
    "for i in b:\n",
    "    if gap > abs(i[1] - a):\n",
    "        gap = abs(i[1] - a)\n",
    "        item = i\n",
    "print(item[0], item[1]-220877)"
   ]
  },
  {
   "cell_type": "markdown",
   "id": "f64f577b",
   "metadata": {},
   "source": [
    "# 57\n",
    "**0부터 1000까지 1의 개수를 세는 프로그램**을 만들려고 합니다. 예를 들어 0부터 20까지 1의 개수를 세어본다면 1, 10 11, 12, 13, 14, 15, 16, 17, 18, 19 에 각각 1이 들어가므로 12개의 1이 있게 됩니다. 11은 1이 2번 들어간 셈이죠.\n",
    "\n",
    "그렇다면 0부터 1000까지 수에서 1은 몇번이나 들어갔을까요? 출력해주세요!"
   ]
  },
  {
   "cell_type": "code",
   "execution_count": 25,
   "id": "cc9f4538",
   "metadata": {},
   "outputs": [
    {
     "name": "stdout",
     "output_type": "stream",
     "text": [
      "301\n"
     ]
    }
   ],
   "source": [
    "def count(n):\n",
    "    countnum = str(list(range(n+1))).count('1')\n",
    "    return countnum\n",
    "\n",
    "print(count(1000))"
   ]
  },
  {
   "cell_type": "markdown",
   "id": "a624c150",
   "metadata": {},
   "source": [
    "# 58\n",
    "\n",
    "원범이는 편의점 아르바이트가 끝난 후 정산을 하고자 합니다.\n",
    "정산을 빨리하고 집에가고 싶은 원범이는 프로그램을 만들려고 합니다.\n",
    "\n",
    "**숫자를 입력 받고 천단위로 콤마(,)를 찍어주세요.**\n",
    "\n",
    "예를들어, 123456789를 입력받았으면 123,456,789 를 출력해야합니다."
   ]
  },
  {
   "cell_type": "code",
   "execution_count": 26,
   "id": "dde2963e",
   "metadata": {},
   "outputs": [
    {
     "name": "stdout",
     "output_type": "stream",
     "text": [
      "123456789\n",
      "123,456,789\n"
     ]
    }
   ],
   "source": [
    "a = int(input())\n",
    "\n",
    "money = format(a, ',')\n",
    "print(money)"
   ]
  },
  {
   "cell_type": "markdown",
   "id": "ef35ba32",
   "metadata": {},
   "source": [
    "# 59\n",
    "총 문자열의 길이는 50으로 제한하고 사용자가 문자열을 입력하면 그 문자열을 가운데 정렬을 해주고, 나머지 빈 부분에는 '='을 채워넣어주세요\n",
    "\n",
    "**입출력예시** \n",
    "\n",
    "```python\n",
    "**입력**\n",
    "hi\n",
    "\n",
    "**출력**\n",
    "========================hi========================\n",
    "```"
   ]
  },
  {
   "cell_type": "code",
   "execution_count": 28,
   "id": "a403d245",
   "metadata": {},
   "outputs": [
    {
     "name": "stdout",
     "output_type": "stream",
     "text": [
      "hi\n",
      "========================hi========================\n"
     ]
    }
   ],
   "source": [
    "a = input()\n",
    "print(\"{0:=^50}\".format(a))"
   ]
  },
  {
   "cell_type": "markdown",
   "id": "249e281e",
   "metadata": {},
   "source": [
    "# 60\n",
    "\n",
    "새학기가 되어 **이름을 가나다 순서대로 배정하고 번호를 매기려고 합니다**.\n",
    "코드에 입력된 이름을 아래와 같이 출력해주세요.\n",
    "\n",
    "```python\n",
    "**데이터**\n",
    "student = ['강은지','김유정','박현서','최성훈','홍유진','박지호','권윤일','김채리','한지호','김진이','김민호','강채연']\n",
    "\n",
    "**출력**\n",
    "번호: 1, 이름: 강은지\n",
    "번호: 2, 이름: 강채연\n",
    "번호: 3, 이름: 권윤일\n",
    "번호: 4, 이름: 김민호\n",
    "번호: 5, 이름: 김유정\n",
    "번호: 6, 이름: 김진이\n",
    "번호: 7, 이름: 김채리\n",
    "번호: 8, 이름: 박지호\n",
    "번호: 9, 이름: 박현서\n",
    "번호: 10, 이름: 최성훈\n",
    "번호: 11, 이름: 한지호\n",
    "번호: 12, 이름: 홍유진\n",
    "```"
   ]
  },
  {
   "cell_type": "code",
   "execution_count": 48,
   "id": "507e9629",
   "metadata": {},
   "outputs": [
    {
     "name": "stdout",
     "output_type": "stream",
     "text": [
      "번호: 1, 이름: 강은지\n",
      "번호: 2, 이름: 강채연\n",
      "번호: 3, 이름: 권윤일\n",
      "번호: 4, 이름: 김민호\n",
      "번호: 5, 이름: 김유정\n",
      "번호: 6, 이름: 김진이\n",
      "번호: 7, 이름: 김채리\n",
      "번호: 8, 이름: 박지호\n",
      "번호: 9, 이름: 박현서\n",
      "번호: 10, 이름: 최성훈\n",
      "번호: 11, 이름: 한지호\n",
      "번호: 12, 이름: 홍유진\n"
     ]
    }
   ],
   "source": [
    "student = ['강은지','김유정','박현서','최성훈','홍유진','박지호','권윤일','김채리','한지호','김진이','김민호','강채연']\n",
    "student = sorted(student)\n",
    "for number, name in enumerate(student):\n",
    "    print(\"번호: {}, 이름: {}\".format(number+1, name))"
   ]
  },
  {
   "cell_type": "markdown",
   "id": "a7dff430",
   "metadata": {},
   "source": [
    "# 61\n",
    "문자열을 입력받고 연속되는 문자열을 압축해서 표현하고싶습니다.\n",
    "\n",
    "```python\n",
    "**입력**\n",
    "aaabbbbcdddd\n",
    "\n",
    "**출력**\n",
    "a3b4c1d4\n",
    "```"
   ]
  },
  {
   "cell_type": "code",
   "execution_count": 50,
   "id": "d4b79e28",
   "metadata": {},
   "outputs": [
    {
     "name": "stdout",
     "output_type": "stream",
     "text": [
      "aaabbbbcdddd\n",
      "3a4b1c4d\n"
     ]
    }
   ],
   "source": [
    "a = input()\n",
    "s = ''\n",
    "b = a[0]\n",
    "count = 0\n",
    "\n",
    "for i in a:\n",
    "    if i == b:\n",
    "        count += 1\n",
    "    else:\n",
    "        s += str(count) + b\n",
    "        b = i\n",
    "        count = 1\n",
    "s += str(count) + b\n",
    "print(s)\n"
   ]
  },
  {
   "cell_type": "markdown",
   "id": "f6eb5116",
   "metadata": {},
   "source": [
    "# 62\n",
    "\n",
    "`20190923`을 출력합니다.  아래 기준만 만족하면 됩니다.\n",
    "\n",
    "1. 코드 내에 숫자가 없어야 합니다.\n",
    "    - 예) print(20190923)이라고 하시면 안됩니다.\n",
    "2. 파일 이름이나 경로를 사용해서는 안됩니다.\n",
    "3. 시간, 날짜 함수를 사용해서는 안됩니다.\n",
    "4. 에러 번호 출력을 이용해서는 안됩니다.\n",
    "5. input을 이용해서는 안됩니다."
   ]
  },
  {
   "cell_type": "code",
   "execution_count": 35,
   "id": "fbb79e11",
   "metadata": {},
   "outputs": [
    {
     "name": "stdout",
     "output_type": "stream",
     "text": [
      "20190923\n"
     ]
    }
   ],
   "source": [
    "# 0 1 2 3 9 필요\n",
    "n = 'bccdddeeeeeeeee'\n",
    "\n",
    "a = str(n.count('a')) #0\n",
    "b = str(n.count('b')) #1\n",
    "c = str(n.count('c')) #2\n",
    "d = str(n.count('d')) #3\n",
    "e = str(n.count('e')) #9\n",
    "\n",
    "print(int(c + a + b + e + a + e + c + d))\n"
   ]
  },
  {
   "cell_type": "markdown",
   "id": "b9c99f8d",
   "metadata": {},
   "source": [
    "# 63\n",
    "한국대학교의 김한국교수님은 학생들과 친해지기 위해서 딸에게 줄임말을 배우기로 했습니다.\n",
    "딸은 '복잡한 세상 편하게 살자' 라는 문장을 '복세편살'로 줄여 말합니다.\n",
    "\n",
    "교수님이 줄임말을 배우기 위해 위와 같이 어떤 입력이 주어지면 앞 글자만 줄여 출력하도록 해주세요.\n",
    "\n",
    "```python\n",
    "**입력 - 입력은 한글 혹은 영어로 입력됩니다.**\n",
    "복잡한 세상 편하게 살자\n",
    "\n",
    "**출력 - 띄어쓰기를 기준으로 하여 짧은 형태로 출력합니다.**\n",
    "복세편살\n",
    "```"
   ]
  },
  {
   "cell_type": "code",
   "execution_count": 39,
   "id": "2299e206",
   "metadata": {},
   "outputs": [
    {
     "name": "stdout",
     "output_type": "stream",
     "text": [
      "복잡한 세상 편하게 살자\n",
      "복세편살\n"
     ]
    }
   ],
   "source": [
    "a = input().split(' ')\n",
    "b = ''\n",
    "\n",
    "for i in a:\n",
    "    b += i[0]\n",
    "    \n",
    "print(b)"
   ]
  },
  {
   "cell_type": "markdown",
   "id": "fc499bb4",
   "metadata": {},
   "source": [
    "# 64\n",
    "정량 N에 정확히 맞춰야만 움직이는 화물용 엘레베이터가 있습니다.\n",
    "화물은 7kg, 3kg 두 가지이며 팔이 아픈 은후는 가장 적게 화물을 옮기고 싶습니다.\n",
    "\n",
    "예를 들어 정량이 24kg이라면 3kg 8개를 옮기는 것 보다는\n",
    "7kg 3개, 3kg 1개 즉 4개로 더 적게 옮길 수 있습니다.\n",
    "\n",
    "**입력**\n",
    "정량 N이 입력됩니다.\n",
    "\n",
    "**출력**\n",
    "가장 적게 옮길 수 있는 횟수를 출력합니다.\n",
    "만약 어떻게 해도 정량이 N이 되지 않는다면 -1을 출력합니다."
   ]
  },
  {
   "cell_type": "code",
   "execution_count": 40,
   "id": "47aa97a9",
   "metadata": {},
   "outputs": [
    {
     "name": "stdout",
     "output_type": "stream",
     "text": [
      "24\n",
      "4\n"
     ]
    }
   ],
   "source": [
    "N = int(input())\n",
    "result = 0\n",
    "\n",
    "while True:\n",
    "    if N % 7 == 0:\n",
    "        result += N // 7\n",
    "        print(result)\n",
    "        break\n",
    "        \n",
    "    N -= 3\n",
    "    result += 1\n",
    "    if N < 0:\n",
    "        print(-1)\n",
    "        break"
   ]
  },
  {
   "cell_type": "markdown",
   "id": "a3236ccf",
   "metadata": {},
   "source": [
    "# * 65\n",
    "a = [1,2,3,4]\n",
    "b = [a,b,c,d]\n",
    "이런 리스트가 있을 때 [[1,a],[b,2],[3,c],[d,4]] 이런식으로 a,b리스트가 번갈아가면서 출력되게 해주세요.\n"
   ]
  },
  {
   "cell_type": "code",
   "execution_count": 43,
   "id": "ff4e99e5",
   "metadata": {},
   "outputs": [
    {
     "name": "stdout",
     "output_type": "stream",
     "text": [
      "1 2 3 4\n",
      "a b c d\n",
      "[['1', 'a'], ['b', '2'], ['3', 'c'], ['d', '4']]\n"
     ]
    }
   ],
   "source": [
    "a = input().split(' ')\n",
    "b = input().split(' ')\n",
    "\n",
    "c = []\n",
    "count = 0\n",
    "\n",
    "for i, j in zip(a, b):\n",
    "    if count % 2 == 0:\n",
    "        c.append([i, j])\n",
    "    else:\n",
    "        c.append([j, i])\n",
    "    count += 1\n",
    "\n",
    "print(c)"
   ]
  },
  {
   "cell_type": "markdown",
   "id": "1c459a29",
   "metadata": {},
   "source": [
    "# *** 66\n",
    "탑을 쌓기 위해 각 크기별로 준비된 블럭들을 정해진 순서에 맞게 쌓아햐 합니다.\n",
    "순서에 맞게 쌓지 않으면 무너질 수 있습니다.\n",
    "예를 들면 정해진 순서가 BAC 라면 A 다음 C가 쌓아져야 합니다.\n",
    "선행으로 쌓아야 하는 블럭이 만족된 경우라면 탑이 무너지지 않습니다.\n",
    "\n",
    "- B를 쌓지 않아도 A와 C를 쌓을 수 있습니다.\n",
    "- B 다음 블럭이 C가 될 수 있습니다.\n",
    "\n",
    "쌓아져 있는 블럭 탑이 순서에 맞게 쌓아져 있는지 확인하세요.\n",
    "\n",
    "1. 블럭은 알파벳 대문자로 표기합니다.\n",
    "2. 규칙에 없는 블럭이 사용될 수 있습니다.\n",
    "3. 중복된 블럭은 존재하지 않습니다.\n",
    "\n",
    "```python\n",
    "**입력**\n",
    "탑 = [\"ABCDEF\", \"BCAD\", \"ADEFQRX\", \"BEDFG\"]\n",
    "규칙 = \"ABD\"\n",
    "\n",
    "**출력**\n",
    "[\"가능\",\"불가능\",\"가능\",\"가능]\n",
    "```"
   ]
  },
  {
   "cell_type": "code",
   "execution_count": 44,
   "id": "56e34938",
   "metadata": {},
   "outputs": [
    {
     "name": "stdout",
     "output_type": "stream",
     "text": [
      "['가능', '불가능', '가능', '가능', '불가능']\n"
     ]
    }
   ],
   "source": [
    "def solution(전체블록, 규칙):\n",
    "    answer = []\n",
    "    for 부분블록 in 전체블록:\n",
    "        answer.append(블록순서체크(부분블록, 규칙))\n",
    "    return answer\n",
    "\n",
    "def 블록순서체크(부분블록, 규칙):\n",
    "    임시변수 = 규칙.index(규칙[0])\n",
    "    for 문자 in 부분블록:\n",
    "        if 문자 in 규칙:\n",
    "            if 임시변수 > 규칙.index(문자):\n",
    "                return '불가능'\n",
    "            임시변수 = 규칙.index(문자)\n",
    "    return '가능'\n",
    "\n",
    "전체블록 = ['ABCDEF', 'BCAD', 'ADEFQRX', 'BEDFG', 'AEBFDGCH']\n",
    "규칙 = 'ABCD'\n",
    "\n",
    "print(solution(전체블록, 규칙))"
   ]
  },
  {
   "cell_type": "markdown",
   "id": "dde5f238",
   "metadata": {},
   "source": [
    "# 67\n",
    "광장에서 모인 사람들과 악수를 하는 행사가 열렸다.\n",
    "참가자인 민규는 몇명의 사람들과 악수를 한 후 중간에 일이 생겨 집으로 갔다.\n",
    "이 행사에서 진행된 악수는 총 n번이라고 했을때.\n",
    "\n",
    "민규는 몇번의 악수를 하고 집으로 돌아갔을까?\n",
    "이때 민규를 포함한 행사 참가자는 몇명일까?\n",
    "\n",
    "- 악수는 모두 1대 1로 진행이 된다.\n",
    "- 민규를 제외한 모든 참가자는 자신을 제외한 참가자와 모두 한번씩 악수를 한다.\n",
    "- 같은 상대와 중복된 악수는 카운트 하지 않는다.\n",
    "- 민규를 제외한 참가자는 행사를 모두 마쳤다.\n",
    "\n",
    "input : n (행사에서 진행된 악수 횟수)\n",
    "output : [ 민규의 악수횟수 , 행사참가자]"
   ]
  },
  {
   "cell_type": "code",
   "execution_count": 46,
   "id": "4cbbf478",
   "metadata": {},
   "outputs": [
    {
     "data": {
      "text/plain": [
       "[4, 12]"
      ]
     },
     "execution_count": 46,
     "metadata": {},
     "output_type": "execute_result"
    }
   ],
   "source": [
    "def number(n):\n",
    "    people = 0\n",
    "    total = 0\n",
    "    while True:\n",
    "        total = people * (people-1)/2\n",
    "        if n < total:\n",
    "            break\n",
    "        people += 1\n",
    "    time = int(people - (total - n) - 1)\n",
    "    \n",
    "    return [time, people]\n",
    "\n",
    "number(59)"
   ]
  },
  {
   "cell_type": "markdown",
   "id": "b7ec966f",
   "metadata": {},
   "source": [
    "# *68\n",
    "\n",
    "학교가 끝난 지원이는 집에 가려고 합니다. 학교 앞에 있는 버스 시간표는 너무 복잡해서 버스 도착시간이 몇 분 남았는지 알려주는 프로그램을 만들고 싶습니다.\n",
    "버스시간표와 현재 시간이 주어졌을 때 버스 도착 시간이 얼마나 남았는지 알려주는 프로그램을 만들어주세요.\n",
    "\n",
    "- 버스 시간표와 현재시간이 입력으루 주어집니다.\n",
    "- 출력 포맷은 \"00시00분\"입니다.\n",
    "   만약 1시간 3분이 남았다면 \"01시간03분\"으로 출력해야 합니다.\n",
    "- 버스 시간표에 현재 시간보다 이전인 버스가 있다면 \"지나갔습니다.\"라고 출력합니다.\n",
    "\n",
    "```python\n",
    "**입력**\n",
    "[\"12:30\", \"13:20\", \"14:13\"]\n",
    "\"12:40\"\n",
    "\n",
    "**출력**\n",
    "['지나갔습니다', '0시간 40분', '1시간 33분']\n",
    "```"
   ]
  },
  {
   "cell_type": "code",
   "execution_count": 47,
   "id": "6439073f",
   "metadata": {},
   "outputs": [
    {
     "data": {
      "text/plain": [
       "['지나갔습니다', '00시간 40분', '01시간 33분']"
      ]
     },
     "execution_count": 47,
     "metadata": {},
     "output_type": "execute_result"
    }
   ],
   "source": [
    "def bus (tb, rt):\n",
    "    answer = []\n",
    "    rt = rt.split(':')\n",
    "    for i in range(len(tb)):\n",
    "        time = tb[i].split(':')\n",
    "        time_to_min = ((int(time[0])*60 + int(time[1])) - (int(rt[0])*60+int(rt[1])))\n",
    "        if time_to_min < 0:\n",
    "            answer.append(\"지나갔습니다\")\n",
    "        else:\n",
    "            a = (time_to_min) // 60\n",
    "            b = (time_to_min) % 60\n",
    "            answer.append(str(a).zfill(2)+'시간 '+str(b).zfill(2)+'분')\n",
    "    return answer\n",
    "\n",
    "bus([\"12:30\", \"13:20\", \"14:13\"], \"12:40\")"
   ]
  },
  {
   "cell_type": "markdown",
   "id": "81dc3634",
   "metadata": {},
   "source": [
    "# *69\n",
    "골드바흐의 추측(Goldbach's conjecture)은 오래전부터 알려진 정수론의 미해결 문제로, 2보다 큰 모든 짝수는 두 개의 소수(Prime number)의 합으로 표시할 수 있다는 것이다. 이때 하나의 소수를 두 번 사용하는 것은 허용한다. - 위키백과\n",
    "\n",
    "위 설명에서 2보다 큰 모든 짝수를 두 소수의 합으로 나타낸 것을 골드바흐 파티션이라고 합니다.\n",
    "\n",
    "예)\n",
    "100 == 47 + 53\n",
    "56 == 19 + 37\n",
    "\n",
    "**2보다 큰 짝수 n이 주어졌을 때, 골드바흐 파티션을 출력하는 코드를** 작성하세요. \n",
    "\n",
    "* 해당 문제의 출력 형식은 자유롭습니다. 가능하시다면 골드바흐 파티션 모두를 출력하거나, 그 차가 작은 것을 출력하거나 그 차가 큰 것 모두 출력해보세요."
   ]
  },
  {
   "cell_type": "code",
   "execution_count": 54,
   "id": "52373994",
   "metadata": {},
   "outputs": [],
   "source": [
    "def cal():\n",
    "    n=10000*2\n",
    "    primes=[]    \n",
    "    a = [False,False] + [True]*(n-1)\n",
    "\n",
    "    for i in range(2,n+1):\n",
    "      if a[i]:\n",
    "        primes.append(i)\n",
    "        for j in range(2*i, n+1, i):\n",
    "            a[j] = False\n",
    "            \n",
    "    return primes\n",
    "\n",
    "\n",
    "a = cal()"
   ]
  },
  {
   "cell_type": "code",
   "execution_count": 56,
   "id": "307e8b6a",
   "metadata": {},
   "outputs": [
    {
     "name": "stdout",
     "output_type": "stream",
     "text": [
      "100\n",
      "47 53\n"
     ]
    }
   ],
   "source": [
    "n = int(input())\n",
    "l = []\n",
    "k = []\t\n",
    "\n",
    "for i in range(2, n//2+1):    \n",
    "    if i in a and n-i in a:\n",
    "        l.append(i)\n",
    "        l.append(n-i)\n",
    "\n",
    "for i in range(0,len(l)-1,2):\n",
    "    k.append(l[i+1]-l[i])\n",
    "    \n",
    "index = k.index(min(k))*2\n",
    "print(l[index], l[index+1])"
   ]
  },
  {
   "cell_type": "markdown",
   "id": "c12191d4",
   "metadata": {},
   "source": [
    "# *70\n",
    "행렬 2개가 주어졌을 때 곱할 수 있는 행렬인지 확인하고 곱할 수 있다면 그 결과를, 곱할 수 없다면 -1을 출력하는 프로그램을 만들어주세요.\n",
    "\n",
    "* 라이브러리는 사용을 금지합니다.\n",
    "\n",
    "```python\n",
    "**입력**\n",
    "a = ([1, 2],\n",
    "     [2, 4])\n",
    "b = ([1, 0],\n",
    "     [0, 3])\n",
    "\n",
    "**출력**\n",
    "([1,6], [2,12])\n",
    "```"
   ]
  },
  {
   "cell_type": "code",
   "execution_count": 58,
   "id": "01446901",
   "metadata": {},
   "outputs": [
    {
     "data": {
      "text/plain": [
       "[[1, 6], [2, 12]]"
      ]
     },
     "execution_count": 58,
     "metadata": {},
     "output_type": "execute_result"
    }
   ],
   "source": [
    "def sol(a, b):\n",
    "    c = []\n",
    "    if len(a) == len(b[0]):\n",
    "        for i in range(len(a)):\n",
    "            c.append([0]*len(b[0]))\n",
    "        for i in range(len(c)):\n",
    "            for j in range(len(c[i])):\n",
    "                for k in range(len(a[i])):\n",
    "                    c[i][j] += a[i][k] *b[k][j]\n",
    "        return c\n",
    "    else:\n",
    "        return -1\n",
    "  \n",
    "a = ([1, 2],\n",
    "     [2, 4])\n",
    "b = ([1, 0],\n",
    "     [0, 3])\n",
    "sol(a, b)"
   ]
  }
 ],
 "metadata": {
  "kernelspec": {
   "display_name": "Python 3",
   "language": "python",
   "name": "python3"
  },
  "language_info": {
   "codemirror_mode": {
    "name": "ipython",
    "version": 3
   },
   "file_extension": ".py",
   "mimetype": "text/x-python",
   "name": "python",
   "nbconvert_exporter": "python",
   "pygments_lexer": "ipython3",
   "version": "3.8.8"
  }
 },
 "nbformat": 4,
 "nbformat_minor": 5
}
