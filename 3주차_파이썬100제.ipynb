{
 "cells": [
  {
   "cell_type": "markdown",
   "id": "238d6a18",
   "metadata": {},
   "source": [
    "# 31. \n",
    "다음 리스트의 내장함수의 시간 복잡도가 O(1)이 아닌것은?\n",
    "\n",
    "1)  l[i]\n",
    "\n",
    "2)  l.append(5)\n",
    "\n",
    "3)  l[a:b]\n",
    "\n",
    "4)  l.pop()\n",
    "\n",
    "5)  l.clear()"
   ]
  },
  {
   "cell_type": "code",
   "execution_count": 1,
   "id": "22f21992",
   "metadata": {},
   "outputs": [],
   "source": [
    "# 답 : 3번"
   ]
  },
  {
   "cell_type": "markdown",
   "id": "e56ffe7d",
   "metadata": {},
   "source": [
    "# 32. \n",
    "취업 준비생인 혜림이는 자기소개서를 쓰고 있습니다. 열심히 자기소개서를 작성하던 도중 혜림이는 자기가 지금까지 단어를 얼마나 적었는지 궁금하게 됩니다. \n",
    "\n",
    "혜림이를 위해 **문자열을 입력받으면 단어의 갯수를 출력하는 프로그램**을 작성해 주세요.\n",
    "\n",
    "```python\n",
    "**입출력**\n",
    "\n",
    "입력 : 안녕하세요. 저는 제주대학교 컴퓨터공학전공 혜림입니다.\n",
    "출력 : 5\n",
    "```"
   ]
  },
  {
   "cell_type": "code",
   "execution_count": 15,
   "id": "3a634077",
   "metadata": {
    "scrolled": true
   },
   "outputs": [
    {
     "name": "stdout",
     "output_type": "stream",
     "text": [
      "안녕하세요. 저는 제주대학교 컴퓨터공학전공 혜림입니다.\n",
      "5\n"
     ]
    }
   ],
   "source": [
    "a = input()\n",
    "b = list(a.split())\n",
    "print(len(b))"
   ]
  },
  {
   "cell_type": "code",
   "execution_count": 16,
   "id": "b329fb2b",
   "metadata": {},
   "outputs": [
    {
     "name": "stdout",
     "output_type": "stream",
     "text": [
      "안녕하세요. 저는 제주대학교 컴퓨터공학전공 혜림입니다.\n",
      "5\n"
     ]
    }
   ],
   "source": [
    "a = input()\n",
    "b = list(a.strip().split())\n",
    "print(len(b))"
   ]
  },
  {
   "cell_type": "markdown",
   "id": "d148170b",
   "metadata": {},
   "source": [
    "# 33.\n",
    "한 줄에 여러개의 숫자가 입력되면, 역순으로 그 숫자들을 하나씩 출력하는 프로그램을 작성하시오.\n",
    "\n",
    "```python\n",
    "**입출력**\n",
    "\n",
    "입력 : 1 2 3 4 5\n",
    "출력 : 5 4 3 2 1\n",
    "\n",
    "입력 : 2 4 6 7 8\n",
    "출력 : 8 7 6 4 2\n",
    "```"
   ]
  },
  {
   "cell_type": "code",
   "execution_count": 24,
   "id": "95003ea0",
   "metadata": {},
   "outputs": [
    {
     "name": "stdout",
     "output_type": "stream",
     "text": [
      "1 2 3 4 5\n",
      "5 4 3 2 1 "
     ]
    }
   ],
   "source": [
    "a = list(input().strip().split())\n",
    "for i in range(len(a)-1,-1, -1):\n",
    "    print(a[i], end = ' ')"
   ]
  },
  {
   "cell_type": "markdown",
   "id": "812cb81e",
   "metadata": {},
   "source": [
    "# 34.\n",
    "민주는 체육부장으로 체육시간이 되면 반 친구들이 제대로 키 순서대로 모였는지를 확인해야 한다. 그런데 요즘 민주는 그것이 너무 번거롭게 느껴져 한 번에 확인하고 싶어한다. \n",
    "\n",
    "민주를 위해 **키가 주어지면 순서대로 제대로 섰는지 확인하는 프로그램**을 작성해보자.\n",
    "\n",
    "**입출력 예시**\n",
    "\n",
    "```\n",
    "입력 : 176 156 155 165 166 169\n",
    "출력 : NO\n",
    "```"
   ]
  },
  {
   "cell_type": "code",
   "execution_count": 46,
   "id": "e932066b",
   "metadata": {},
   "outputs": [
    {
     "name": "stdout",
     "output_type": "stream",
     "text": [
      "176 156 155 165 166 169\n",
      "No\n"
     ]
    }
   ],
   "source": [
    "a = list(input().strip().split())\n",
    "if a == sorted(b):\n",
    "    print(\"Yes\")\n",
    "else:\n",
    "    print(\"No\")"
   ]
  },
  {
   "cell_type": "markdown",
   "id": "84e82a18",
   "metadata": {},
   "source": [
    "# 35.\n",
    "2제곱, 3제곱, 4제곱을 할 수 있는 Factory 함수를 만들려고 합니다. \n",
    "\n",
    "- <pass>에 코드를 작성하여 two함수를 완성하세요.\n",
    "\n",
    "```python\n",
    "def one(n):\n",
    "    def two():\n",
    "        <pass>\n",
    "    return two\n",
    "\n",
    "a = one(2)\n",
    "b = one(3)\n",
    "c = one(4)\n",
    "print(a(10))\n",
    "print(b(10))\n",
    "print(c(10))\n",
    "```"
   ]
  },
  {
   "cell_type": "code",
   "execution_count": 49,
   "id": "7a7ecd37",
   "metadata": {},
   "outputs": [
    {
     "name": "stdout",
     "output_type": "stream",
     "text": [
      "100\n",
      "1000\n",
      "10000\n"
     ]
    }
   ],
   "source": [
    "def one(n):\n",
    "    def two(m):\n",
    "        result = m ** n\n",
    "        return result\n",
    "    return two\n",
    "\n",
    "a = one(2)\n",
    "b = one(3)\n",
    "c = one(4)\n",
    "print(a(10))\n",
    "print(b(10))\n",
    "print(c(10))"
   ]
  },
  {
   "cell_type": "markdown",
   "id": "07352613",
   "metadata": {},
   "source": [
    "# 36.\n",
    "1~9까지의 숫자 중 하나를 입력하면 그 단의 구구단 결과를 한 줄에 출력하는 프로그램을 작성하세요.\n",
    "\n",
    ">> 입력\n",
    "\n",
    "```python\n",
    "2\n",
    "```\n",
    "\n",
    ">> 출력\n",
    "\n",
    "```python\n",
    "2 4 6 8 10 12 14 16 18\n",
    "```"
   ]
  },
  {
   "cell_type": "code",
   "execution_count": 51,
   "id": "dc94361e",
   "metadata": {},
   "outputs": [
    {
     "name": "stdout",
     "output_type": "stream",
     "text": [
      "2\n",
      "2 4 6 8 10 12 14 16 18 "
     ]
    }
   ],
   "source": [
    "dan = int(input())\n",
    "for i in range(1, 10):\n",
    "    print(dan * i, end=' ')"
   ]
  },
  {
   "cell_type": "markdown",
   "id": "7b6fbd00",
   "metadata": {},
   "source": [
    "# **37.\n",
    "새 학기를 맞아 호준이네 반은 반장 선거를 하기로 했습니다.  그런데 표를 하나씩 개표하는 과정이 너무 번거롭게 느껴진 당신은 **학생들이 뽑은 후보들을 입력받으면 뽑힌 학생의 이름과 받은 표 수를 출력하는 프로그램**을 작성하기로 하였습니다.\n",
    "\n",
    "```python\n",
    "**입력**\n",
    "원범 원범 혜원 혜원 혜원 혜원 유진 유진\n",
    "\n",
    "**출력**\n",
    "혜원(이)가 총 4표로 반장이 되었습니다.\n",
    "```"
   ]
  },
  {
   "cell_type": "code",
   "execution_count": 65,
   "id": "03452e3c",
   "metadata": {},
   "outputs": [
    {
     "name": "stdout",
     "output_type": "stream",
     "text": [
      "원범 원범 혜원 혜원 혜원 혜원 유진 유진\n",
      "혜원(이)가 총 4표로 반장이 되었습니다.\n"
     ]
    }
   ],
   "source": [
    "data = input().split() #입력받음\n",
    "data_set = set(data) #입력받은 문자열에서 중복 제거\n",
    "data_dict = {} \n",
    "for key in data_set: #key값 : 이름\n",
    "    data_dict[key] = data.count(key) #valuse값 : 득표 수\n",
    "\n",
    "print(f'{max(data_dict, key=data_dict.get)}(이)가 총 {max(data_dict.values())}표로 반장이 되었습니다.')"
   ]
  },
  {
   "cell_type": "markdown",
   "id": "77e65967",
   "metadata": {},
   "source": [
    "# **38\n",
    "호준이는 아르바이트로 영어 학원에서 단어 시험지를 채점하는 일을 하고 있다. 호준이가 일하는 학원은 매번 1위부터 3위까지의 학생에게 상으로 사탕을 준다. 그런데 오늘은 마침 사탕이 다 떨어져서 호준이가 채점을 하고 점수를 보내면, 당신이 아이들의 숫자만큼 사탕을 사러 가기로 했다.\n",
    "\n",
    "학생들의 점수를 공백으로 구분하여 입력받는다. 1위~ 3위 학생은 여러명일 수 있고 1~3위 학생 중 중복되는 학생까지 포함하여 사탕을 사기로 한다.\n",
    "\n",
    "- 학생 수는 4명 이상입니다.\n",
    "- 숫자 외에 다른 값은 입력되지 않습니다.\n",
    "\n",
    "```\n",
    "점수입력 : 97 86 75 66 55 97 85 97 97 95\n",
    "출력 : 6\n",
    "```"
   ]
  },
  {
   "cell_type": "code",
   "execution_count": 92,
   "id": "18680010",
   "metadata": {},
   "outputs": [
    {
     "name": "stdout",
     "output_type": "stream",
     "text": [
      "97 86 75 66 55 97 85 97 97 95\n",
      "6\n"
     ]
    }
   ],
   "source": [
    "score = input().split()\n",
    "score = [int(i) for i in score]\n",
    "\n",
    "student = 0\n",
    "\n",
    "if len(set(score)) <= 3:\n",
    "    student = len(score)\n",
    "else:\n",
    "    break_point = sorted(list(set(score)), reverse = True) [3]\n",
    "    score_sorted = sorted (score, reverse = True)\n",
    "    for i in score_sorted:\n",
    "        if break_point == i:\n",
    "            break\n",
    "        else:\n",
    "            student += 1\n",
    "print(student)"
   ]
  },
  {
   "cell_type": "markdown",
   "id": "731120a3",
   "metadata": {},
   "source": [
    "# 39.\n",
    "혜원이는 평소 영타가 빠르고 정확한 것을 친구들에게 자랑하고 다녔습니다. 반 친구들이 혜원이의 타자 속도가 빠르다는 것을 모두 알게 되자 혜원이는 모두의 앞에서 타자 실력을 보여주게 됩니다. \n",
    "\n",
    "그런데 막상 보여주려니 긴장이 되서 문장의 모든 e를 q로, n을 b로 잘못 친 것을 발견했습니다. \n",
    "혜원이는 프로그램을 돌려 재빠르게 모든 q를 e로, b를 n으로 바꾸는 프로그램을 작성하려고 합니다.\n",
    "\n",
    "**문장이 입력되면 모든 q를 e로, b를 n으로 바꾸는 프로그램을 작성해 주세요.**\n",
    "\n",
    "- 완성하려는 문장 안에 q나 b가 들어가지 않는다고 가정합니다.\n",
    "\n",
    "```python\n",
    "**입출력**\n",
    "\n",
    "입력 : querty\n",
    "출력 : euerty\n",
    "\n",
    "입력 : hqllo my bamq is hyqwob\n",
    "출력 : hello my bame is hyewob\n",
    "```"
   ]
  },
  {
   "cell_type": "code",
   "execution_count": 69,
   "id": "974b5b83",
   "metadata": {},
   "outputs": [
    {
     "name": "stdout",
     "output_type": "stream",
     "text": [
      "hqllo my bamq is hyqwob\n",
      "hello my eame is hyewoe\n"
     ]
    }
   ],
   "source": [
    "a = input()\n",
    "\n",
    "print(a.replace('q','e').replace('b','e'))"
   ]
  },
  {
   "cell_type": "code",
   "execution_count": 70,
   "id": "85cf4a92",
   "metadata": {},
   "outputs": [
    {
     "name": "stdout",
     "output_type": "stream",
     "text": [
      "querty\n",
      "euerty\n"
     ]
    }
   ],
   "source": [
    "a = input()\n",
    "\n",
    "print(a.replace('q','e').replace('b','e'))"
   ]
  },
  {
   "cell_type": "markdown",
   "id": "342225c0",
   "metadata": {},
   "source": [
    "# *40\n",
    "테마파크에 온 원범이와 친구들은 놀이기구를 타려고 합니다. 모든 놀이기구는 한번에 타는 인원수에는 제한이 없지만 제한 무게를 넘으면 무조건 다음 기구를 타야 합니다. \n",
    "\n",
    "**원범이와 친구들이 총 몇 명 탈 수 있는지 알 수 있는 프로그램을 작성해 주세요.**\n",
    "\n",
    "첫번째 줄에서 제한 무게가 주어지고 두번째 줄에서는 함께한 친구들의 수 n이 주어집니다. \n",
    "그 다음 차례대로 탑승할 친구들의 몸무게가 주어집니다. 몸무게는 무작위로 주어집니다.\n",
    "\n",
    "- 단, 놀이기구는 선착순으로만 탈 수 있습니다.\n",
    "- 두 명 이상의 인원이 항상 탑승합니다.\n",
    "\n",
    "```python\n",
    "**입력**\n",
    "\n",
    "50\n",
    "5\n",
    "20\n",
    "20\n",
    "20\n",
    "20\n",
    "20\n",
    "\n",
    "**출력**\n",
    "2\n",
    "```"
   ]
  },
  {
   "cell_type": "code",
   "execution_count": 81,
   "id": "19af6135",
   "metadata": {},
   "outputs": [
    {
     "name": "stdout",
     "output_type": "stream",
     "text": [
      "50\n",
      "5\n",
      "20\n",
      "20\n",
      "20\n",
      "20\n",
      "20\n",
      "2\n"
     ]
    }
   ],
   "source": [
    "전체무게 = 0\n",
    "제한수 = 0\n",
    "limit=int(input()) #제한 몸무게\n",
    "n = int(input()) #친구수\n",
    "\n",
    "for i in range(n):\n",
    "    total += int(input()) # 친구들 몸무게\n",
    "    if total <= limit:\n",
    "        count += 1\n",
    "print(count)"
   ]
  },
  {
   "cell_type": "code",
   "execution_count": 82,
   "id": "8623a196",
   "metadata": {},
   "outputs": [
    {
     "name": "stdout",
     "output_type": "stream",
     "text": [
      "50\n",
      "5\n",
      "20\n",
      "20\n",
      "20\n",
      "20\n",
      "20\n",
      "2\n"
     ]
    }
   ],
   "source": [
    "제한무게 = int(input())\n",
    "친구수 = int(input())\n",
    "친구몸무게 = []\n",
    "전체몸무게 = 0\n",
    "제한인원수 = 0\n",
    "비교 = True\n",
    "\n",
    "for i in range(친구수):\n",
    "    친구몸무게.append(float(input()))\n",
    "    전체몸무게 += 친구몸무게[i]\n",
    "    if 전체몸무게 > 제한무게:\n",
    "        if 비교:\n",
    "            비교 = False\n",
    "            제한수 = i\n",
    "if 제한수 == 0 and 친구몸무게[0] <= 제한무게:\n",
    "    print(len(친구몸무게))\n",
    "else:\n",
    "    print(제한수)"
   ]
  },
  {
   "cell_type": "markdown",
   "id": "65aeafbd",
   "metadata": {},
   "source": [
    "# 41\n",
    "숫자가 주어지면 **소수인지 아닌지 판별하는 프로그램**을 작성해주세요.\n",
    "소수이면 YES로, 소수가 아니면 NO로 출력해주세요.\n",
    "\n",
    "- 소수 : 1과 자기 자신만으로 나누어떨어지는 1보다 큰 양의 정수\n",
    "- 음의 소수는 고려하지 않습니다."
   ]
  },
  {
   "cell_type": "code",
   "execution_count": 99,
   "id": "86064cea",
   "metadata": {},
   "outputs": [
    {
     "name": "stdout",
     "output_type": "stream",
     "text": [
      "[2, 3]\n"
     ]
    }
   ],
   "source": [
    "#에라토스테네스의 체 (소수 찾기)\n",
    "n=3\n",
    "a = [False,False] + [True]*(n-1)\n",
    "primes=[]\n",
    "for i in range(2,n+1):\n",
    "  if a[i]:\n",
    "    primes.append(i)\n",
    "    for j in range(2*i, n+1, i):\n",
    "        a[j] = False\n",
    "print(primes)"
   ]
  },
  {
   "cell_type": "code",
   "execution_count": 101,
   "id": "1d6a27d0",
   "metadata": {},
   "outputs": [
    {
     "name": "stdout",
     "output_type": "stream",
     "text": [
      "Yes\n"
     ]
    }
   ],
   "source": [
    "#에라토스테네스의 체를 이용한 소수 판별\n",
    "def chech_prime(n):\n",
    "    if n <= 1:\n",
    "        return \"No\"\n",
    "    if n == 3:\n",
    "        return \"Yes\"\n",
    "    \n",
    "    i = 2\n",
    "    소수 = True\n",
    "    while (i ** 2) < n:\n",
    "        if n % i == 0:\n",
    "            소수 = False\n",
    "            break\n",
    "        i += 1\n",
    "        if 소수:\n",
    "            return \"Yes\"\n",
    "        else:\n",
    "            return \"No\"\n",
    "print(chech_prime(3))"
   ]
  },
  {
   "cell_type": "code",
   "execution_count": 102,
   "id": "b340465f",
   "metadata": {},
   "outputs": [
    {
     "name": "stdout",
     "output_type": "stream",
     "text": [
      "Yes\n"
     ]
    }
   ],
   "source": [
    "#에라토스테네스의 체를 이용한 소수 판별\n",
    "def chech_prime(n):\n",
    "    if n <= 1:\n",
    "        return \"No\"\n",
    "    if n == 3:\n",
    "        return \"Yes\"\n",
    "    \n",
    "    i = 2\n",
    "    소수 = True\n",
    "    while (i ** 2) < n:\n",
    "        if n % i == 0:\n",
    "            소수 = False\n",
    "            break\n",
    "        i += 1\n",
    "        if 소수:\n",
    "            return \"Yes\"\n",
    "        else:\n",
    "            return \"No\"\n",
    "print(chech_prime(23))"
   ]
  },
  {
   "cell_type": "markdown",
   "id": "f5ff0e9e",
   "metadata": {},
   "source": [
    "# 42\n",
    "2020년 1월 1일은 수요일입니다. 2020년 a월 b일은 무슨 요일일까요?\n",
    "두 수 a, b를 입력받아 2020년 a월 b일이 무슨 요일인지 리턴하는 함수, solution을 완성하세요.\n",
    "요일의 이름은 일요일부터 토요일까지 각각 SUN, MON, TUE, WED, THU, FRI, SAT 입니다.\n",
    "\n",
    "예를 들어 a = 5, b = 24라면 5월 24일은 일요일이므로 문자열 \"SUN\"를 반환하세요.\n",
    "\n",
    "**제한 조건**\n",
    "\n",
    "- 2020년은 윤년입니다.\n",
    "- 2020년 a월 b일은 실제로 있는 날입니다. \n",
    "(13월 26일이나 2월 45일 같은 날짜는 주어지지 않습니다.)\n",
    "- datetime 모듈을 사용하세요."
   ]
  },
  {
   "cell_type": "code",
   "execution_count": 105,
   "id": "d0a9ddf9",
   "metadata": {},
   "outputs": [
    {
     "name": "stdout",
     "output_type": "stream",
     "text": [
      "5\n",
      "24\n",
      "SUN\n"
     ]
    }
   ],
   "source": [
    "import datetime\n",
    "a = int(input())\n",
    "b = int(input())\n",
    "\n",
    "def solution(a, b):\n",
    "    day = [\"MON\", \"TUE\", \"WED\", \"THU\", \"FRI\", \"SAT\", \"SUN\"]\n",
    "    return day[datetime.date(2020, a, b).weekday()]\n",
    "print(solution(a, b))"
   ]
  },
  {
   "cell_type": "markdown",
   "id": "96c3b578",
   "metadata": {},
   "source": [
    "# 43\n",
    "우리가 흔히 사용하는 숫자 1, 8, 19, 28893 등등...은 10진수 체계입니다.\n",
    "이를 컴퓨터가 알아 들을 수 있는 2진수로 바꾸려고 합니다. 어떻게 해야할까요?\n",
    "\n",
    "예를들어 13은 2^3 + 2^2 + 2^0 = 13 이기때문에 1101으로 표현합니다\n",
    "\n",
    "사용자에게 숫자를 입력받고 이를 2진수를 바꾸고 그 값을 출력해주세요.\n",
    "(bin 함수를 사용하지 않고 풀어주세요.)"
   ]
  },
  {
   "cell_type": "code",
   "execution_count": 110,
   "id": "7f2d3bb9",
   "metadata": {},
   "outputs": [
    {
     "name": "stdout",
     "output_type": "stream",
     "text": [
      "13\n",
      "1101\n"
     ]
    }
   ],
   "source": [
    "a = int(input())\n",
    "b = []\n",
    "while a:\n",
    "    b.append(str(a % 2))\n",
    "    a = int(a / 2)\n",
    "b.reverse()\n",
    "print(''.join(b))"
   ]
  },
  {
   "cell_type": "markdown",
   "id": "260af91c",
   "metadata": {},
   "source": [
    "# 44\n",
    "사용자가 입력한 양의 정수의 각 자리수의 합을 구하는 프로그램을 만들어주세요\n",
    "\n",
    "예를들어\n",
    "18234 = 1+8+2+3+4 이고 정답은 18 입니다.\n",
    "3849 = 3+8+4+9 이고 정답은 24입니다.\n"
   ]
  },
  {
   "cell_type": "code",
   "execution_count": 113,
   "id": "0e44f33a",
   "metadata": {},
   "outputs": [
    {
     "name": "stdout",
     "output_type": "stream",
     "text": [
      "1234\n",
      "10\n"
     ]
    }
   ],
   "source": [
    "result = 0\n",
    "for i in input():\n",
    "    result += int(i)\n",
    "print(result)\n",
    "    \n",
    "    "
   ]
  },
  {
   "cell_type": "markdown",
   "id": "0e16c07a",
   "metadata": {},
   "source": [
    "# 45\n",
    "python의 모듈 중 하나인 time 모듈은 1970년 1월 1일 0시 0분 0초 이후로부터 지금까지 흐른 시간을 초단위로 반환합니다\n",
    "\n",
    "이를 이용하여 현재 연도(2021)를 출력해보세요"
   ]
  },
  {
   "cell_type": "code",
   "execution_count": 115,
   "id": "0a46a156",
   "metadata": {},
   "outputs": [
    {
     "name": "stdout",
     "output_type": "stream",
     "text": [
      "2021\n"
     ]
    }
   ],
   "source": [
    "import time\n",
    "t = time.time()\n",
    "t = int(t//(3600*24*365)) + 1970\n",
    "\n",
    "print(t)"
   ]
  },
  {
   "cell_type": "markdown",
   "id": "caa8f858",
   "metadata": {},
   "source": [
    "# 46\n",
    "1부터 100까지의(100을 포함) 모든 숫자를 일렬로 놓고 모든 자릿수의 총 합을 구하세요. \n",
    "\n",
    "예를 들어 10부터 15까지의 모든 숫자를 일렬로 놓으면 101112131415이고 각 자리의 숫자를 더하면 25입니다."
   ]
  },
  {
   "cell_type": "code",
   "execution_count": 122,
   "id": "2f2d64ee",
   "metadata": {},
   "outputs": [
    {
     "name": "stdout",
     "output_type": "stream",
     "text": [
      "901\n"
     ]
    }
   ],
   "source": [
    "s = ''\n",
    "result = 0\n",
    "\n",
    "for i in range(101):\n",
    "    s += str(i)\n",
    "for i in s:\n",
    "    result += int(i)\n",
    "print(result)"
   ]
  },
  {
   "cell_type": "markdown",
   "id": "bf038000",
   "metadata": {},
   "source": [
    "# 47\n",
    "바울랩에서는 3월 29일 제주대학교에서 '제주 빅데이터 사회혁신 해커톤' 행사를 주최하게 되었습니다. 이에 구글 설문지를 배포하였으나 제주대학생들이 중복해서 n개씩 설문지를 제출하였습니다. **중복된 데이터들을 삭제하여 실제 접수 명단이 몇 명인지 알고 싶습니다.**\n",
    "\n",
    "아래 주어진 데이터들로부터 중복을 제거하여 실제 접수 인원을 출력해 주세요.\n",
    "\n",
    "```python\n",
    "people = [\n",
    "         ('이호준', '01050442903'),\n",
    "         ('이호상', '01051442904'),\n",
    "         ('이준호', '01050342904'),\n",
    "         ('이호준', '01050442903'),\n",
    "         ('이준', '01050412904'),\n",
    "         ('이호', '01050443904'),\n",
    "         ('이호준', '01050442903'),\n",
    "         ]\n",
    "```"
   ]
  },
  {
   "cell_type": "code",
   "execution_count": 124,
   "id": "2e7e1d91",
   "metadata": {},
   "outputs": [
    {
     "name": "stdout",
     "output_type": "stream",
     "text": [
      "5\n"
     ]
    }
   ],
   "source": [
    "people = [\n",
    "         ('이호준', '01050442903'),\n",
    "         ('이호상', '01051442904'),\n",
    "         ('이준호', '01050342904'),\n",
    "         ('이호준', '01050442903'),\n",
    "         ('이준', '01050412904'),\n",
    "         ('이호', '01050443904'),\n",
    "         ('이호준', '01050442903'),\n",
    "         ]\n",
    "print(len(set(people)))"
   ]
  },
  {
   "cell_type": "markdown",
   "id": "1c5407d0",
   "metadata": {},
   "source": [
    "# 48\n",
    "문자열이 주어지면 대문자와 소문자를 바꿔서 출력하는 프로그램을 작성하세요.\n",
    "\n",
    "입력\n",
    "\n",
    "```\n",
    "AAABBBcccddd\n",
    "```\n",
    "\n",
    "출력\n",
    "\n",
    "```\n",
    "aaabbbCCCDDD\n",
    "```"
   ]
  },
  {
   "cell_type": "code",
   "execution_count": 127,
   "id": "c8f5181e",
   "metadata": {},
   "outputs": [
    {
     "name": "stdout",
     "output_type": "stream",
     "text": [
      "AAABBBcccddd\n",
      "aaabbbCCCDDD"
     ]
    }
   ],
   "source": [
    "a = input()\n",
    "b = []\n",
    "for i in a:\n",
    "    if i.islower():\n",
    "        b.append(i.upper())\n",
    "    else:\n",
    "        b.append(i.lower())\n",
    "for i in b:\n",
    "    print(i, end ='')"
   ]
  },
  {
   "cell_type": "markdown",
   "id": "64e656e5",
   "metadata": {},
   "source": [
    "# 49\n",
    "순서가 없는 10개의 숫자가 공백으로 구분되어 주어진다. 주어진 숫자들 중 최댓값을 반환하라.\n",
    "\n",
    "입력\n",
    "\n",
    "```\n",
    "10 9 8 7 6 5 4 3 2 1\n",
    "```\n",
    "\n",
    "출력\n",
    "\n",
    "```\n",
    "10\n",
    "```"
   ]
  },
  {
   "cell_type": "code",
   "execution_count": 128,
   "id": "6383eef2",
   "metadata": {},
   "outputs": [
    {
     "name": "stdout",
     "output_type": "stream",
     "text": [
      "10 9 8 7 6 5 4 3 2 1\n",
      "10\n"
     ]
    }
   ],
   "source": [
    "a = list(map(int,input().split()))\n",
    "print(sorted(a)[-1])"
   ]
  },
  {
   "cell_type": "markdown",
   "id": "6ca196f8",
   "metadata": {},
   "source": [
    "# 50\n",
    "아래 코드의 빈 칸을 채워 버블 정렬을 완성해 봅시다.\n",
    "\n",
    "```python\n",
    "def bubble(n, data):\n",
    "\tfor i in range(n-1):\n",
    "\t\tfor j in range(빈칸을 채워주세요):\n",
    "\t\t\tif data[j] > data[j+1]:\n",
    "\t\t\t\t빈칸을 채워주세요\n",
    "\tfor i in range(n):\n",
    "\t\tprint(data[i], end = \" \")\n",
    "\n",
    "n = int(input())\n",
    "data = list(map(int, input().split()))\n",
    "\n",
    "bubble(n, data)\n",
    "```"
   ]
  },
  {
   "cell_type": "code",
   "execution_count": 134,
   "id": "27d1e46a",
   "metadata": {},
   "outputs": [
    {
     "name": "stdout",
     "output_type": "stream",
     "text": [
      "5\n",
      "4 2 3 5 8\n",
      "2 3 4 5 8 "
     ]
    }
   ],
   "source": [
    "def bubble(n, data):\n",
    "    for i in range(n-1): #칸의 인덱스\n",
    "        for j in range(n-i-1):\n",
    "            if data[j] > data[j+1]:\n",
    "                data[j], data[j+1] = data[j+1], data[j]\n",
    "    for i in range(n):\n",
    "        print(data[i], end = \" \")\n",
    "\n",
    "n = int(input()) #칸의 개수\n",
    "data = list(map(int, input().split())) #칸에 있는 숫자\n",
    "\n",
    "bubble(n, data)"
   ]
  }
 ],
 "metadata": {
  "kernelspec": {
   "display_name": "Python 3",
   "language": "python",
   "name": "python3"
  },
  "language_info": {
   "codemirror_mode": {
    "name": "ipython",
    "version": 3
   },
   "file_extension": ".py",
   "mimetype": "text/x-python",
   "name": "python",
   "nbconvert_exporter": "python",
   "pygments_lexer": "ipython3",
   "version": "3.8.8"
  }
 },
 "nbformat": 4,
 "nbformat_minor": 5
}
