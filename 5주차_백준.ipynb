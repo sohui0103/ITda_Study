{
 "cells": [
  {
   "cell_type": "markdown",
   "id": "a9dd95a7",
   "metadata": {},
   "source": [
    "# 2 : if"
   ]
  },
  {
   "cell_type": "code",
   "execution_count": 48,
   "id": "038932d7",
   "metadata": {},
   "outputs": [
    {
     "name": "stdout",
     "output_type": "stream",
     "text": [
      "1 2\n",
      " < \n"
     ]
    }
   ],
   "source": [
    "a, b = map(int, input().split(' '))\n",
    "\n",
    "if a > b:\n",
    "    print(\" > \")\n",
    "if a < b:\n",
    "    print(\" < \")\n",
    "if a == b:\n",
    "    print(\" = \")"
   ]
  },
  {
   "cell_type": "code",
   "execution_count": 50,
   "id": "0e125d14",
   "metadata": {},
   "outputs": [
    {
     "name": "stdout",
     "output_type": "stream",
     "text": [
      "100\n",
      "A\n"
     ]
    }
   ],
   "source": [
    "s = int(input())\n",
    "\n",
    "if s >= 90 and s <= 100:\n",
    "    print('A')\n",
    "elif s >= 80 and s < 90:\n",
    "    print('B')\n",
    "elif s >= 70 and s < 80:\n",
    "    print('C')\n",
    "elif s >= 60 and s < 70:\n",
    "    print('D')\n",
    "else:\n",
    "    print('E')"
   ]
  },
  {
   "cell_type": "code",
   "execution_count": 55,
   "id": "cfb35a9a",
   "metadata": {},
   "outputs": [
    {
     "name": "stdout",
     "output_type": "stream",
     "text": [
      "1999\n",
      "0\n"
     ]
    }
   ],
   "source": [
    "a = int(input())\n",
    "\n",
    "if (a % 4 == 0 and (a % 100 != 0 or a % 400 == 0)):\n",
    "    print('1')\n",
    "else:\n",
    "    print('0')"
   ]
  },
  {
   "cell_type": "code",
   "execution_count": 58,
   "id": "02470abd",
   "metadata": {},
   "outputs": [
    {
     "name": "stdout",
     "output_type": "stream",
     "text": [
      "9\n",
      "-13\n",
      "4\n"
     ]
    }
   ],
   "source": [
    "a = int(input())\n",
    "b = int(input())\n",
    "\n",
    "if (a > 0 and b > 0):\n",
    "    print('1')\n",
    "elif (a < 0 and b > 0):\n",
    "    print('2')\n",
    "elif (a < 0 and b < 0):\n",
    "    print('3')\n",
    "elif (a > 0 and b < 0):\n",
    "    print('4')"
   ]
  },
  {
   "cell_type": "code",
   "execution_count": 63,
   "id": "3b582feb",
   "metadata": {},
   "outputs": [
    {
     "name": "stdout",
     "output_type": "stream",
     "text": [
      "0 30\n",
      "23 45\n"
     ]
    }
   ],
   "source": [
    "H, M = map(int, input().split(' '))\n",
    "\n",
    "if (M - 45 >= 0):\n",
    "    print(H, M - 45)\n",
    "elif (M - 45 < 0):\n",
    "    if H - 1 >= 0:\n",
    "        print(H - 1, M + 15)\n",
    "    else:\n",
    "        print(H + 23, M + 15)\n",
    "    "
   ]
  },
  {
   "cell_type": "code",
   "execution_count": 64,
   "id": "01e40d0a",
   "metadata": {},
   "outputs": [
    {
     "name": "stdout",
     "output_type": "stream",
     "text": [
      "10 10\n",
      "9 25\n"
     ]
    }
   ],
   "source": [
    "H, M = map(int, input().split(' '))\n",
    "\n",
    "if (M - 45 >= 0):\n",
    "    print(H, M - 45)\n",
    "elif (M - 45 < 0):\n",
    "    print(H - 1, M + 15)"
   ]
  },
  {
   "cell_type": "markdown",
   "id": "f01d6819",
   "metadata": {},
   "source": [
    "# 3 : for"
   ]
  },
  {
   "cell_type": "code",
   "execution_count": 6,
   "id": "8c403f78",
   "metadata": {},
   "outputs": [
    {
     "name": "stdout",
     "output_type": "stream",
     "text": [
      "2\n",
      "2  *  1  =  2\n",
      "2  *  2  =  4\n",
      "2  *  3  =  6\n",
      "2  *  4  =  8\n",
      "2  *  5  =  10\n",
      "2  *  6  =  12\n",
      "2  *  7  =  14\n",
      "2  *  8  =  16\n",
      "2  *  9  =  18\n"
     ]
    }
   ],
   "source": [
    "n = int(input())\n",
    "\n",
    "for i in range(1, 10):\n",
    "    print(n, \" * \", i, \" = \", n * i)"
   ]
  },
  {
   "cell_type": "code",
   "execution_count": 5,
   "id": "24306f53",
   "metadata": {},
   "outputs": [
    {
     "name": "stdout",
     "output_type": "stream",
     "text": [
      "5\n",
      "1 1\n",
      "2\n",
      "2 3\n",
      "5\n",
      "3 4\n",
      "7\n",
      "9 8\n",
      "17\n",
      "5 2\n",
      "7\n"
     ]
    }
   ],
   "source": [
    "n = int(input())\n",
    "\n",
    "for i in range(n):\n",
    "    a,b = map(int, input().split())\n",
    "    print(a+b)\n",
    "    i += 1\n",
    "    "
   ]
  },
  {
   "cell_type": "code",
   "execution_count": 12,
   "id": "42945293",
   "metadata": {},
   "outputs": [
    {
     "name": "stdout",
     "output_type": "stream",
     "text": [
      "3\n",
      "6\n"
     ]
    }
   ],
   "source": [
    "n = int(input())\n",
    "a = 0\n",
    "\n",
    "for i in range(0, n + 1):\n",
    "    a += i\n",
    "    i +=1\n",
    "print(a)"
   ]
  },
  {
   "cell_type": "code",
   "execution_count": null,
   "id": "b9dd58b3",
   "metadata": {},
   "outputs": [],
   "source": [
    "import sys\n",
    "\n",
    "n = int(input())\n",
    "for i in range(n):\n",
    "    a,b = map(int, sys.stdin.readline().split())\n",
    "    print(a+b)\n",
    "    i += 1"
   ]
  },
  {
   "cell_type": "code",
   "execution_count": 24,
   "id": "8dd84f2f",
   "metadata": {},
   "outputs": [
    {
     "name": "stdout",
     "output_type": "stream",
     "text": [
      "5\n",
      "1\n",
      "2\n",
      "3\n",
      "4\n",
      "5\n"
     ]
    }
   ],
   "source": [
    "n = int(input())\n",
    "for i in range(1, n + 1):\n",
    "    print(i)\n",
    "    i += 1"
   ]
  },
  {
   "cell_type": "code",
   "execution_count": 27,
   "id": "ba307f43",
   "metadata": {},
   "outputs": [
    {
     "name": "stdout",
     "output_type": "stream",
     "text": [
      "5\n",
      "5\n",
      "4\n",
      "3\n",
      "2\n",
      "1\n"
     ]
    }
   ],
   "source": [
    "n = int(input())\n",
    "for i in range(0, n):\n",
    "    print(n - i)\n",
    "    i += 1"
   ]
  },
  {
   "cell_type": "code",
   "execution_count": 29,
   "id": "a2521af8",
   "metadata": {},
   "outputs": [
    {
     "name": "stdout",
     "output_type": "stream",
     "text": [
      "5\n",
      "1 1\n",
      "Case #1:  2\n",
      "2 3\n",
      "Case #2:  5\n",
      "3 4\n",
      "Case #3:  7\n",
      "9 8\n",
      "Case #4:  17\n",
      "5 2\n",
      "Case #5:  7\n"
     ]
    }
   ],
   "source": [
    "n = int(input())\n",
    "\n",
    "for i in range(1, n+ 1):\n",
    "    a,b = map(int, input().split(' '))\n",
    "    print(\"Case #{0}: \".format(i), a + b)"
   ]
  },
  {
   "cell_type": "code",
   "execution_count": 31,
   "id": "3de962cd",
   "metadata": {},
   "outputs": [
    {
     "name": "stdout",
     "output_type": "stream",
     "text": [
      "5\n",
      "1 1\n",
      "Case #1: 1 + 1 = 2\n",
      "2 3\n",
      "Case #2: 2 + 3 = 5\n",
      "3 4\n",
      "Case #3: 3 + 4 = 7\n",
      "9 8\n",
      "Case #4: 9 + 8 = 17\n",
      "5 2\n",
      "Case #5: 5 + 2 = 7\n"
     ]
    }
   ],
   "source": [
    "n = int(input())\n",
    "\n",
    "for i in range(1, n+ 1):\n",
    "    a,b = map(int, input().split(' '))\n",
    "    print(\"Case #{0}: {1} + {2} = {3}\".format(i, a, b, a+b))"
   ]
  },
  {
   "cell_type": "code",
   "execution_count": 32,
   "id": "77f3e508",
   "metadata": {},
   "outputs": [
    {
     "name": "stdout",
     "output_type": "stream",
     "text": [
      "5\n",
      "*\n",
      "**\n",
      "***\n",
      "****\n",
      "*****\n"
     ]
    }
   ],
   "source": [
    "n = int(input())\n",
    "\n",
    "for i in range(1, n + 1):\n",
    "    print(\"*\" * i)"
   ]
  },
  {
   "cell_type": "code",
   "execution_count": 37,
   "id": "df41e13b",
   "metadata": {},
   "outputs": [
    {
     "name": "stdout",
     "output_type": "stream",
     "text": [
      "5\n",
      "    *\n",
      "   **\n",
      "  ***\n",
      " ****\n",
      "*****\n"
     ]
    }
   ],
   "source": [
    "n = int(input())\n",
    "\n",
    "for i in range(1, n + 1):\n",
    "    print(\" \" * (n - i) + \"*\" * i)"
   ]
  },
  {
   "cell_type": "code",
   "execution_count": 38,
   "id": "f5811976",
   "metadata": {},
   "outputs": [
    {
     "name": "stdout",
     "output_type": "stream",
     "text": [
      "5\n",
      "    *\n",
      "   **\n",
      "  ***\n",
      " ****\n",
      "*****\n"
     ]
    }
   ],
   "source": [
    "n = int(input())\n",
    "\n",
    "for i in range(1, n + 1):\n",
    "    print(\" \" * (n - i) , end = \"\")\n",
    "    print(\"*\" * i)"
   ]
  },
  {
   "cell_type": "code",
   "execution_count": 47,
   "id": "c3c32b27",
   "metadata": {},
   "outputs": [
    {
     "name": "stdout",
     "output_type": "stream",
     "text": [
      "10 5\n",
      "1 10 4 9 2 3 8 5 7 6\n",
      "1 4 2 3 "
     ]
    }
   ],
   "source": [
    "n, x = map(int, input().split(' '))\n",
    "num = list(map(int, input().split(' ')))\n",
    "\n",
    "for i in range (n):\n",
    "    if num[i] < x:\n",
    "        print(num[i], end=\" \")"
   ]
  },
  {
   "cell_type": "markdown",
   "id": "1b46300e",
   "metadata": {},
   "source": [
    "# 4 : while"
   ]
  },
  {
   "cell_type": "code",
   "execution_count": 68,
   "id": "abf83d2e",
   "metadata": {},
   "outputs": [
    {
     "name": "stdout",
     "output_type": "stream",
     "text": [
      "2 3\n",
      "5\n",
      "3 4\n",
      "7\n",
      "5 7\n",
      "12\n",
      "0 0\n"
     ]
    }
   ],
   "source": [
    "while (True):\n",
    "    a, b = map(int, input().split(' '))\n",
    "    if a != 0 and b != 0:\n",
    "        print(a + b)\n",
    "    \n",
    "    if a == 0 and b == 0:\n",
    "        break"
   ]
  },
  {
   "cell_type": "code",
   "execution_count": 74,
   "id": "1df461d2",
   "metadata": {},
   "outputs": [
    {
     "name": "stdout",
     "output_type": "stream",
     "text": [
      "1 1\n",
      "2\n",
      "2 3\n",
      "5\n",
      "9 8\n",
      "17\n",
      "5 2\n",
      "7\n",
      "0\n"
     ]
    }
   ],
   "source": [
    "while True:\n",
    "    try: #종속 문장 실행\n",
    "        a, b = map(int, input().split(' '))\n",
    "        print(a + b)\n",
    "    except: #종속 문장 외 실행\n",
    "        break \n",
    "        "
   ]
  },
  {
   "cell_type": "code",
   "execution_count": 79,
   "id": "b0f1326f",
   "metadata": {},
   "outputs": [
    {
     "name": "stdout",
     "output_type": "stream",
     "text": [
      "26\n",
      "4\n"
     ]
    }
   ],
   "source": [
    "n = int(input())\n",
    "temp = n\n",
    "count = 0\n",
    "\n",
    "while True :\n",
    "    left = temp // 10 #왼쪽자리 수 #한자리 수의 경우 10으로 나눈 몫이 0임\n",
    "    right = temp % 10 #오른쪽 자리 수 \n",
    "    add = (left + right) % 10 \n",
    "    temp = (right * 10) + add\n",
    "    \n",
    "    count += 1\n",
    "    if temp == n:\n",
    "        print(count)\n",
    "        break\n",
    "\n",
    "\n"
   ]
  },
  {
   "cell_type": "markdown",
   "id": "d6e8cab8",
   "metadata": {},
   "source": [
    "# 5 : 1차원 배열"
   ]
  },
  {
   "cell_type": "code",
   "execution_count": 80,
   "id": "2743121e",
   "metadata": {},
   "outputs": [
    {
     "name": "stdout",
     "output_type": "stream",
     "text": [
      "5\n",
      "20 10 35 30 7\n",
      "7 35\n"
     ]
    }
   ],
   "source": [
    "n = int(input())\n",
    "a = list(map(int, input().split()))\n",
    "\n",
    "print(min(a), max(a))"
   ]
  },
  {
   "cell_type": "code",
   "execution_count": 85,
   "id": "c6e92fbe",
   "metadata": {},
   "outputs": [
    {
     "name": "stdout",
     "output_type": "stream",
     "text": [
      "3\n",
      "29\n",
      "38\n",
      "12\n",
      "57\n",
      "74\n",
      "40\n",
      "85\n",
      "61\n",
      "85\n",
      "8\n"
     ]
    }
   ],
   "source": [
    "A = []\n",
    "\n",
    "for i in range(9):\n",
    "    a = int(input())\n",
    "    A.append(a)\n",
    "print(max(A))\n",
    "print(A.index(max(A)) + 1)"
   ]
  },
  {
   "cell_type": "code",
   "execution_count": 86,
   "id": "c05dbf66",
   "metadata": {},
   "outputs": [
    {
     "name": "stdout",
     "output_type": "stream",
     "text": [
      "150\n",
      "266\n",
      "427\n",
      "3\n",
      "1\n",
      "0\n",
      "2\n",
      "0\n",
      "0\n",
      "0\n",
      "2\n",
      "0\n",
      "0\n"
     ]
    }
   ],
   "source": [
    "a = int(input())\n",
    "b = int(input())\n",
    "c = int(input())\n",
    "\n",
    "d = a * b* c\n",
    "e = list(map(int, str(d)))\n",
    "\n",
    "for i in range(10):\n",
    "    f = 0\n",
    "    for j in e:\n",
    "        if (j == i):\n",
    "            f += 1\n",
    "            \n",
    "    print(f)\n",
    "\n"
   ]
  },
  {
   "cell_type": "code",
   "execution_count": 88,
   "id": "c024941d",
   "metadata": {},
   "outputs": [
    {
     "name": "stdout",
     "output_type": "stream",
     "text": [
      "1\n",
      "2\n",
      "3\n",
      "4\n",
      "5\n",
      "6\n",
      "7\n",
      "8\n",
      "9\n",
      "10\n",
      "10\n"
     ]
    }
   ],
   "source": [
    "nums = set()\n",
    "for i in range(10):\n",
    "    nums.add(int(input()) % 42)\n",
    "print(len(nums))"
   ]
  },
  {
   "cell_type": "code",
   "execution_count": 90,
   "id": "e477ea23",
   "metadata": {},
   "outputs": [
    {
     "name": "stdout",
     "output_type": "stream",
     "text": [
      "3\n",
      "40 80 60\n",
      "75.0\n"
     ]
    }
   ],
   "source": [
    "n = int(input(\"\"))\n",
    "score_w = input(\"\").split()\n",
    "score_n = [int(i) for i in score_w]\n",
    "total = 0\n",
    "\n",
    "for i in range(n):\n",
    "    total += score_n[i] / max(score_n) * 100\n",
    "    \n",
    "print(total / n)"
   ]
  },
  {
   "cell_type": "code",
   "execution_count": 95,
   "id": "3daf2ac1",
   "metadata": {},
   "outputs": [
    {
     "name": "stdout",
     "output_type": "stream",
     "text": [
      "5\n",
      "5 50 50 70 80 100\n",
      "40.000%\n",
      "7 100 95 90 80 70 60 50\n",
      "57.143%\n",
      "3 70 90 80\n",
      "33.333%\n",
      "3 70 90 81\n",
      "66.667%\n",
      "9 100 99 98 97 96 95 94 93 91\n",
      "55.556%\n"
     ]
    }
   ],
   "source": [
    "C = int(input())\n",
    "\n",
    "while C > 0:\n",
    "    n_good, percentage = 0, 0.0 #평균 넘는 학생 수 , 비율\n",
    "    \n",
    "    scores = v\n",
    "    n = scores.pop(0)\n",
    "    average = sum(scores) / n\n",
    "\n",
    "    for score in scores: \n",
    "        if score > average:\n",
    "            n_good += 1\n",
    "    percentage = n_good / n * 100\n",
    "\n",
    "    print(f\"{percentage:.3f}%\")\n",
    "    \n",
    "    C -= 1"
   ]
  },
  {
   "cell_type": "code",
   "execution_count": 97,
   "id": "62a83c71",
   "metadata": {},
   "outputs": [
    {
     "name": "stdout",
     "output_type": "stream",
     "text": [
      "5\n",
      "OOXXOXXOOO\n",
      "10\n",
      "OOXXOOXXOO\n",
      "9\n",
      "OXOXOXOXOXOXOX\n",
      "7\n",
      "OOOOOOOOOO\n",
      "55\n",
      "OOOOXOOOOXOOOOX\n",
      "30\n"
     ]
    }
   ],
   "source": [
    "for i in range(int(input())):\n",
    "    a = input()\n",
    "    score = 0\n",
    "    sumscore = 0\n",
    "    \n",
    "    for j in a:\n",
    "        if j == \"O\":\n",
    "            score += 1\n",
    "            sumscore += score\n",
    "        else:\n",
    "            score = 0\n",
    "    print(sumscore)"
   ]
  },
  {
   "cell_type": "code",
   "execution_count": null,
   "id": "f4b8c25f",
   "metadata": {},
   "outputs": [],
   "source": []
  }
 ],
 "metadata": {
  "kernelspec": {
   "display_name": "Python 3",
   "language": "python",
   "name": "python3"
  },
  "language_info": {
   "codemirror_mode": {
    "name": "ipython",
    "version": 3
   },
   "file_extension": ".py",
   "mimetype": "text/x-python",
   "name": "python",
   "nbconvert_exporter": "python",
   "pygments_lexer": "ipython3",
   "version": "3.8.8"
  }
 },
 "nbformat": 4,
 "nbformat_minor": 5
}
