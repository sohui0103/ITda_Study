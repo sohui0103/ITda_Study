{
 "cells": [
  {
   "cell_type": "markdown",
   "id": "01e0b43a",
   "metadata": {},
   "source": [
    "# 1\n",
    "\n",
    "다음 리스트에서 400, 500를 삭제하는 code를 입력하세요.\n",
    "\n",
    "```python\n",
    "nums = [100, 200, 300, 400, 500]\n",
    "```"
   ]
  },
  {
   "cell_type": "code",
   "execution_count": 5,
   "id": "74c1ef64",
   "metadata": {},
   "outputs": [
    {
     "name": "stdout",
     "output_type": "stream",
     "text": [
      "[100, 200, 300]\n"
     ]
    }
   ],
   "source": [
    "nums = [100, 200, 300, 400, 500]\n",
    "del nums[3:]\n",
    "print(nums)"
   ]
  },
  {
   "cell_type": "markdown",
   "id": "aa58c645",
   "metadata": {},
   "source": [
    "# 2\n",
    "```python\n",
    "l = [200, 100, 300]\n",
    "<pass>\n",
    "print(l)\n",
    "```\n",
    "\n",
    "<pass>부분에 리스트 내장함수를 insert를 이용하여 코드를 입력하고 다음과 같이 출력되게 하세요.\n",
    "\n",
    "\n",
    "```python\n",
    "[200, 100, 10000, 300]\n",
    "```"
   ]
  },
  {
   "cell_type": "code",
   "execution_count": 7,
   "id": "e7d43e16",
   "metadata": {},
   "outputs": [
    {
     "name": "stdout",
     "output_type": "stream",
     "text": [
      "[200, 100, 1000, 300]\n"
     ]
    }
   ],
   "source": [
    "l = [200, 100, 300]\n",
    "l.insert(2,1000)\n",
    "print(l)"
   ]
  },
  {
   "cell_type": "markdown",
   "id": "4047fa42",
   "metadata": {},
   "source": [
    "# 3\n",
    "- 다음 출력 값으로 올바른 것은?\n",
    "\n",
    "```python\n",
    "l = [100, 200, 300]\n",
    "print(type(l))\n",
    "```\n",
    "\n",
    "1)  class 'str'\n",
    "2)  class 'int'\n",
    "3)  class 'list'\n",
    "4)  class 'tuple'"
   ]
  },
  {
   "cell_type": "code",
   "execution_count": 8,
   "id": "e6e344b0",
   "metadata": {},
   "outputs": [],
   "source": [
    "# 답 : 3번"
   ]
  },
  {
   "cell_type": "markdown",
   "id": "0e641565",
   "metadata": {},
   "source": [
    "# 4\n",
    "다음 변수 a를 print(type(a))로 넣었을 때 출력될 값과의 연결이 알맞지 않은 것은?\n",
    "\n",
    "1)  입력 : a =1,   출력 : class 'int'\n",
    "\n",
    "2)  입력 : a = 2.22,   출력 : class 'float'\n",
    "\n",
    "3)  입력 : a = 'p',   출력 : class 'char'\n",
    "\n",
    "4)  입력 : a = [1, 2, 3],   출력 : class 'list'"
   ]
  },
  {
   "cell_type": "code",
   "execution_count": 9,
   "id": "ab578e27",
   "metadata": {},
   "outputs": [],
   "source": [
    "# 답 : 3번"
   ]
  },
  {
   "cell_type": "markdown",
   "id": "de897756",
   "metadata": {},
   "source": [
    "# 5\n",
    "- 다음 코드의 출력 값으로 알맞은 것은?\n",
    "\n",
    "```python\n",
    "a = 10\n",
    "b = 2\n",
    "for i in range(1, 5, 2):\n",
    "    a += i\n",
    "\n",
    "print(a+b)\n",
    "```\n",
    "\n",
    "1)  10\n",
    "2)  12\n",
    "3)  14\n",
    "4)  16"
   ]
  },
  {
   "cell_type": "code",
   "execution_count": 11,
   "id": "c8fdad2a",
   "metadata": {},
   "outputs": [],
   "source": [
    "# 답 : 4"
   ]
  },
  {
   "cell_type": "markdown",
   "id": "36e2b679",
   "metadata": {},
   "source": [
    "# 6\n",
    "다음은 파이썬 문법 중에서 False로 취급하는 것들 입니다.\n",
    "앗, False로 취급하지 않는 것이 하나 있네요! True를 찾아주세요.\n",
    "\n",
    "1)  None\n",
    "2)  1\n",
    "3)  \"\"\n",
    "4)  0\n",
    "5)  bool(0)\n"
   ]
  },
  {
   "cell_type": "code",
   "execution_count": 12,
   "id": "96e2214b",
   "metadata": {},
   "outputs": [],
   "source": [
    "# 답 : 2번"
   ]
  },
  {
   "cell_type": "markdown",
   "id": "3fbf5554",
   "metadata": {},
   "source": [
    "# 7\n",
    "다음 중 변수명으로 사용할 수 없는 것 2개를 고르시오.\n",
    "\n",
    "1)  age\n",
    "2)  a\n",
    "3)  as\n",
    "4)  _age\n",
    "5)  1age"
   ]
  },
  {
   "cell_type": "code",
   "execution_count": 13,
   "id": "01c0e41d",
   "metadata": {},
   "outputs": [],
   "source": [
    "# 3번, 5번"
   ]
  },
  {
   "cell_type": "markdown",
   "id": "9dc1d7d1",
   "metadata": {},
   "source": [
    "# 8\n",
    "딕셔너리를 다음과 같이 만들었다. \n",
    "출력값을 입력하시오. (출력값은 공백을 넣지 않습니다. )\n",
    "\n",
    "```python\n",
    "d = {'height':180,'weight':78,'weight':84,'temparture':36,'eyesight':1}\n",
    "print(d['weight'])\n",
    "```"
   ]
  },
  {
   "cell_type": "code",
   "execution_count": 16,
   "id": "08983de2",
   "metadata": {},
   "outputs": [
    {
     "data": {
      "text/plain": [
       "84"
      ]
     },
     "execution_count": 16,
     "metadata": {},
     "output_type": "execute_result"
    }
   ],
   "source": [
    "84"
   ]
  },
  {
   "cell_type": "markdown",
   "id": "40178170",
   "metadata": {},
   "source": [
    "# 9\n",
    "다음 소스 코드를 완성하여 날짜와 시간을 출력하시오.\n",
    "\n",
    "```python\n",
    "year = '2019'\n",
    "month = '04'\n",
    "day = '26'\n",
    "hour = '11'\n",
    "minute = '34'\n",
    "second = '27'\n",
    "\n",
    "print(year, month, day, )\n",
    "print(hour, minute, second, )\n",
    "```\n",
    "\n",
    "출력\n",
    "\n",
    "```python\n",
    "2019/04/26 11:34:27\n",
    "```"
   ]
  },
  {
   "cell_type": "code",
   "execution_count": 20,
   "id": "8977587b",
   "metadata": {},
   "outputs": [
    {
     "name": "stdout",
     "output_type": "stream",
     "text": [
      "2019/04/26 11:34:27\n"
     ]
    }
   ],
   "source": [
    "year = '2019'\n",
    "month = '04'\n",
    "day = '26'\n",
    "hour = '11'\n",
    "minute = '34'\n",
    "second = '27'\n",
    "\n",
    "print(year, month, day, sep = '/', end = ' ')\n",
    "print(hour, minute, second, sep = ':')"
   ]
  },
  {
   "cell_type": "markdown",
   "id": "642a6105",
   "metadata": {},
   "source": [
    "# 10\n",
    "### 입출력 예시\n",
    "\n",
    "입력\n",
    "\n",
    "```python\n",
    "5\n",
    "```\n",
    "\n",
    "출력\n",
    "\n",
    "```python\n",
    "    *\n",
    "   ***\n",
    "  *****\n",
    " *******\n",
    "*********\n",
    "```"
   ]
  },
  {
   "cell_type": "code",
   "execution_count": 22,
   "id": "0b626bd7",
   "metadata": {},
   "outputs": [
    {
     "name": "stdout",
     "output_type": "stream",
     "text": [
      "5\n",
      "    *\n",
      "   ***\n",
      "  *****\n",
      " *******\n",
      "*********\n"
     ]
    }
   ],
   "source": [
    "a = int(input())\n",
    "for i in range(1, a+1):\n",
    "    print(\" \"*(a-i)+\"*\"*(2*i-1))"
   ]
  },
  {
   "cell_type": "code",
   "execution_count": 2,
   "id": "a557e6ba",
   "metadata": {},
   "outputs": [
    {
     "name": "stdout",
     "output_type": "stream",
     "text": [
      "     * \n",
      "    *** \n",
      "   ***** \n",
      "  ******* \n",
      " ********* \n"
     ]
    }
   ],
   "source": [
    "for i in range(1,10,2):\n",
    "    for k in range(0, (12 - i) // 2):\n",
    "        print(\"{}\".format(\" \"), end = '')\n",
    "        \n",
    "    for j in range(0,i):\n",
    "        print('{}'.format('*'), end = '')\n",
    "        \n",
    "    print(\" \")\n",
    "    "
   ]
  },
  {
   "cell_type": "code",
   "execution_count": null,
   "id": "91e44636",
   "metadata": {},
   "outputs": [],
   "source": []
  }
 ],
 "metadata": {
  "kernelspec": {
   "display_name": "Python 3",
   "language": "python",
   "name": "python3"
  },
  "language_info": {
   "codemirror_mode": {
    "name": "ipython",
    "version": 3
   },
   "file_extension": ".py",
   "mimetype": "text/x-python",
   "name": "python",
   "nbconvert_exporter": "python",
   "pygments_lexer": "ipython3",
   "version": "3.8.8"
  }
 },
 "nbformat": 4,
 "nbformat_minor": 5
}
