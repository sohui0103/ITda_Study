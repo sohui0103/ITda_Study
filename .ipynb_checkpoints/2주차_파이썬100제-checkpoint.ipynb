{
 "cells": [
  {
   "cell_type": "markdown",
   "id": "d6433f50",
   "metadata": {},
   "source": [
    "# 1\n",
    "1부터 100까지 모두 더하는 Code를 <pass> 부분에 완성하세요. for를 사용해야 합니다.\n",
    "\n",
    "```python\n",
    "s = 0\n",
    "\n",
    "<pass>\n",
    "\n",
    "print(s)\n",
    "```"
   ]
  },
  {
   "cell_type": "code",
   "execution_count": 1,
   "id": "50049140",
   "metadata": {},
   "outputs": [
    {
     "name": "stdout",
     "output_type": "stream",
     "text": [
      "5050\n"
     ]
    }
   ],
   "source": [
    "s = 0\n",
    "for i in range(101):\n",
    "    s += i\n",
    "    i += 1\n",
    "print(s)    "
   ]
  },
  {
   "cell_type": "markdown",
   "id": "b1f4856c",
   "metadata": {},
   "source": [
    "# *12\n",
    "\n",
    "다음 소스코드에서 클래스를 작성하여 게임 캐릭터의 능력치와 '파이어볼'이 출력되게 만드시오.\n",
    "\n",
    "**주어진 소스 코드를 수정해선 안됩니다.**\n",
    "\n",
    "```python\n",
    "<여기에 class를 작성하세요.>\n",
    "\n",
    "x = Wizard(health = 545, mana = 210, armor = 10)\n",
    "print(x.health, x.mana, x.armor)\n",
    "x.attack()\n",
    "```\n",
    "\n",
    ">> 출력예시\n",
    "\n",
    "```python\n",
    "545 210 10\n",
    "파이어볼\n",
    "```"
   ]
  },
  {
   "cell_type": "code",
   "execution_count": 6,
   "id": "f1451a2a",
   "metadata": {},
   "outputs": [
    {
     "ename": "TypeError",
     "evalue": "Wizard() takes no arguments",
     "output_type": "error",
     "traceback": [
      "\u001b[1;31m---------------------------------------------------------------------------\u001b[0m",
      "\u001b[1;31mTypeError\u001b[0m                                 Traceback (most recent call last)",
      "\u001b[1;32m<ipython-input-6-ef9016420ffb>\u001b[0m in \u001b[0;36m<module>\u001b[1;34m\u001b[0m\n\u001b[0;32m      8\u001b[0m         \u001b[0mprint\u001b[0m\u001b[1;33m(\u001b[0m\u001b[1;34m'파이어볼'\u001b[0m\u001b[1;33m)\u001b[0m\u001b[1;33m\u001b[0m\u001b[1;33m\u001b[0m\u001b[0m\n\u001b[0;32m      9\u001b[0m \u001b[1;33m\u001b[0m\u001b[0m\n\u001b[1;32m---> 10\u001b[1;33m \u001b[0mx\u001b[0m \u001b[1;33m=\u001b[0m \u001b[0mWizard\u001b[0m\u001b[1;33m(\u001b[0m\u001b[0mhealth\u001b[0m \u001b[1;33m=\u001b[0m \u001b[1;36m545\u001b[0m\u001b[1;33m,\u001b[0m \u001b[0mmana\u001b[0m \u001b[1;33m=\u001b[0m \u001b[1;36m210\u001b[0m\u001b[1;33m,\u001b[0m \u001b[0marmor\u001b[0m \u001b[1;33m=\u001b[0m \u001b[1;36m10\u001b[0m\u001b[1;33m)\u001b[0m\u001b[1;33m\u001b[0m\u001b[1;33m\u001b[0m\u001b[0m\n\u001b[0m\u001b[0;32m     11\u001b[0m \u001b[0mprint\u001b[0m\u001b[1;33m(\u001b[0m\u001b[0mx\u001b[0m\u001b[1;33m.\u001b[0m\u001b[0mhealth\u001b[0m\u001b[1;33m,\u001b[0m \u001b[0mx\u001b[0m\u001b[1;33m.\u001b[0m\u001b[0mmana\u001b[0m\u001b[1;33m,\u001b[0m \u001b[0mx\u001b[0m\u001b[1;33m.\u001b[0m\u001b[0marmor\u001b[0m\u001b[1;33m)\u001b[0m\u001b[1;33m\u001b[0m\u001b[1;33m\u001b[0m\u001b[0m\n\u001b[0;32m     12\u001b[0m \u001b[0mx\u001b[0m\u001b[1;33m.\u001b[0m\u001b[0mattack\u001b[0m\u001b[1;33m(\u001b[0m\u001b[1;33m)\u001b[0m\u001b[1;33m\u001b[0m\u001b[1;33m\u001b[0m\u001b[0m\n",
      "\u001b[1;31mTypeError\u001b[0m: Wizard() takes no arguments"
     ]
    }
   ],
   "source": [
    "class Wizard:\n",
    "    def info(self, health, mana, armor):\n",
    "        self.health = health\n",
    "        self.mana = mana\n",
    "        self.armor = armor\n",
    "    \n",
    "    def attack(self):\n",
    "        print('파이어볼')\n",
    "\n",
    "x = Wizard(health = 545, mana = 210, armor = 10)\n",
    "print(x.health, x.mana, x.armor)\n",
    "x.attack()"
   ]
  },
  {
   "cell_type": "markdown",
   "id": "99e1ddeb",
   "metadata": {},
   "source": [
    "# 13\n",
    "우리 태양계를 이루고 있는 행성은 수성, 금성, 지구, 화성, 목성, 토성, 천왕성, 해왕성으로 총 8개 입니다. 저희는 우리 태양계의 n번째 행성이 무엇인지 알고 싶습니다.\n",
    "\n",
    "입력으로 행성의 순서를 나타내는 숫자 n이 입력됩니다. 예를들어 수성은 첫번째 행성입니다.\n",
    "\n",
    "```python\n",
    "1\n",
    "```\n",
    "\n",
    "출력으로 그 순서에 해당하는 행성의 이름을 출력해 주세요.\n",
    "\n",
    "```python\n",
    "수성\n",
    "```"
   ]
  },
  {
   "cell_type": "code",
   "execution_count": 9,
   "id": "76f9279e",
   "metadata": {},
   "outputs": [
    {
     "name": "stdout",
     "output_type": "stream",
     "text": [
      "1\n",
      "수성\n"
     ]
    }
   ],
   "source": [
    "planet = ['수성', '금성', '지구', '화성', '목성', '토성', '천왕성', '해왕성']\n",
    "\n",
    "a = int(input())\n",
    "print(planet[a-1])"
   ]
  },
  {
   "cell_type": "markdown",
   "id": "c5e0de0a",
   "metadata": {},
   "source": [
    "# 14\n",
    "영희는 친구와 게임을 하고 있습니다. 서로 돌아가며 랜덤으로 숫자를 하나 말하고 그게 3의 배수이면 박수를 치고 아니면 그 숫자를 그대로 말하는 게임입니다.\n",
    "\n",
    "입력으로 랜덤한 숫자 n이 주어집니다.\n",
    "\n",
    "만약 그 수가 **3의 배수라면 '짝'이라는 글자를, 3의 배수가 아니라면 n을 그대로 출력**해 주세요.\n",
    "\n",
    ">> 입력\n",
    "\n",
    "```python\n",
    "3\n",
    "```\n",
    "\n",
    ">> 출력\n",
    "\n",
    "```python\n",
    "짝\n",
    "```\n",
    "\n",
    ">> 입력\n",
    "\n",
    "```python\n",
    "2\n",
    "```\n",
    "\n",
    ">> 출력\n",
    "\n",
    "```python\n",
    "2\n",
    "```"
   ]
  },
  {
   "cell_type": "code",
   "execution_count": 12,
   "id": "afe934fd",
   "metadata": {},
   "outputs": [
    {
     "name": "stdout",
     "output_type": "stream",
     "text": [
      "4\n",
      "4\n"
     ]
    }
   ],
   "source": [
    "a = int(input())\n",
    "\n",
    "if a % 3 == 0:\n",
    "    print('짝')\n",
    "else:\n",
    "    print(a)\n",
    "    "
   ]
  },
  {
   "cell_type": "markdown",
   "id": "935295e8",
   "metadata": {},
   "source": [
    "# 15\n",
    "신학기가 시작되고, 아이들이 돌아가면서 자기소개를 하기로 했습니다.\n",
    "\n",
    "만약 입력으로 `김다정`이라는 이름이 주어지면\n",
    "\n",
    "```python\n",
    "안녕하세요. 저는 김다정입니다.\n",
    "```\n",
    "\n",
    "라고 출력하게 해주세요."
   ]
  },
  {
   "cell_type": "code",
   "execution_count": 13,
   "id": "9f3a4d84",
   "metadata": {},
   "outputs": [
    {
     "name": "stdout",
     "output_type": "stream",
     "text": [
      "김소희\n",
      "안녕하세요. 저는 김소희입니다.\n"
     ]
    }
   ],
   "source": [
    "name = input()\n",
    "print(\"안녕하세요. 저는 {}입니다.\".format(name))"
   ]
  },
  {
   "cell_type": "markdown",
   "id": "eb28f130",
   "metadata": {},
   "source": [
    "# 16\n",
    "문장이 입력되면 거꾸로 출력하는 프로그램을 만들어 봅시다.\n",
    "\n",
    ">> 입력\n",
    "\n",
    "```python\n",
    "거꾸로\n",
    "```\n",
    "\n",
    ">> 출력\n",
    "\n",
    "```python\n",
    "로꾸거\n",
    "```"
   ]
  },
  {
   "cell_type": "code",
   "execution_count": 15,
   "id": "403a8a5b",
   "metadata": {},
   "outputs": [
    {
     "name": "stdout",
     "output_type": "stream",
     "text": [
      "안녕하세요\n",
      "요세하녕안\n"
     ]
    }
   ],
   "source": [
    "a = input()\n",
    "print(a[::-1])"
   ]
  },
  {
   "cell_type": "markdown",
   "id": "df06c868",
   "metadata": {},
   "source": [
    "# 17\n",
    "유주는 놀이공원 아르바이트 중입니다. 그런데 놀이기구마다 키 제한이 있습니다.\n",
    "유주가 담당하는 놀이기구는 키가 150 이상만 탈 수 있습니다.\n",
    "\n",
    "입력으로 키가 주어지면\n",
    "키가 150이 이상이면 **YES**를 틀리면 **NO**를 출력하는 프로그램을 작성하세요."
   ]
  },
  {
   "cell_type": "code",
   "execution_count": 16,
   "id": "ffca1763",
   "metadata": {},
   "outputs": [
    {
     "name": "stdout",
     "output_type": "stream",
     "text": [
      "155\n",
      "YES\n"
     ]
    }
   ],
   "source": [
    "n = int(input())\n",
    "\n",
    "if n >= 150:\n",
    "    print(\"YES\")\n",
    "    \n",
    "else:\n",
    "    print(\"NO\")"
   ]
  },
  {
   "cell_type": "markdown",
   "id": "1f484ac1",
   "metadata": {},
   "source": [
    "# 18\n",
    "영하네 반은 국어, 수학, 영어 시험을 보았습니다. 영하는 친구들의 평균 점수를 구해주기로 했습니다.\n",
    "\n",
    "공백으로 구분하여 세 과목의 점수가 주어지면\n",
    "**전체 평균 점수**를 구하는 프로그램을 작성하세요. **단, 소숫점 자리는 모두 버립니다.**\n",
    "\n",
    ">> 입력\n",
    "\n",
    "```python\n",
    "20 30 40\n",
    "```\n",
    "\n",
    ">> 출력\n",
    "\n",
    "```python\n",
    "30\n",
    "```"
   ]
  },
  {
   "cell_type": "code",
   "execution_count": 17,
   "id": "2b005fbb",
   "metadata": {},
   "outputs": [
    {
     "name": "stdout",
     "output_type": "stream",
     "text": [
      "20 30 40\n",
      "30\n"
     ]
    }
   ],
   "source": [
    "a = list(map(int, input().split()))\n",
    "\n",
    "print(int(sum(a)/3))"
   ]
  },
  {
   "cell_type": "markdown",
   "id": "495abb2e",
   "metadata": {},
   "source": [
    "# 19\n",
    "공백으로 구분하여 두 숫자 a와 b가 주어지면, a의 b승을 구하는 프로그램을 작성하세요."
   ]
  },
  {
   "cell_type": "code",
   "execution_count": 20,
   "id": "656cc5bd",
   "metadata": {},
   "outputs": [
    {
     "name": "stdout",
     "output_type": "stream",
     "text": [
      "2 4\n",
      "16\n"
     ]
    }
   ],
   "source": [
    "a,b = map(int, input().split())\n",
    "print(a ** b)"
   ]
  },
  {
   "cell_type": "markdown",
   "id": "7c2d69f3",
   "metadata": {},
   "source": [
    "#  20\n",
    "공백으로 구분하여 두 숫자가 주어집니다.\n",
    "첫번째 숫자로 두번째 숫자를 나누었을 때 **그 몫과 나머지를 공백으로 구분하여 출력하세요.**\n",
    "\n",
    ">> 입력\n",
    "\n",
    "```python\n",
    "10 2\n",
    "```\n",
    "\n",
    ">> 출력\n",
    "\n",
    "```python\n",
    "5 0\n",
    "```"
   ]
  },
  {
   "cell_type": "code",
   "execution_count": 22,
   "id": "68b85d8b",
   "metadata": {},
   "outputs": [
    {
     "name": "stdout",
     "output_type": "stream",
     "text": [
      "10 2\n",
      "5 0\n"
     ]
    }
   ],
   "source": [
    "a, b = map(int, input().split())\n",
    "\n",
    "print(a // b, a % b)"
   ]
  },
  {
   "cell_type": "markdown",
   "id": "31bb82a9",
   "metadata": {},
   "source": [
    "# 21 \n",
    "다음 중 set을 만드는 방법이 아닌 것?\n",
    "\n",
    "1)  x = {1, 2, 3, 5, 6, 7}\n",
    "\n",
    "2)  x = {}\n",
    "\n",
    "3)  x = set('python')\n",
    "\n",
    "4)  x = set(range(5))\n",
    "\n",
    "5)  x = set()"
   ]
  },
  {
   "cell_type": "code",
   "execution_count": 23,
   "id": "1bdee45b",
   "metadata": {},
   "outputs": [],
   "source": [
    "#답 : 2번"
   ]
  },
  {
   "cell_type": "markdown",
   "id": "a28a08db",
   "metadata": {},
   "source": [
    "# 22 \n",
    "다음 중 변수 i가 6의 배수인지 확인하는 방법으로 올바른 것은?\n",
    "\n",
    "1)  i / 6 == 0\n",
    "\n",
    "2)  i % 6 == 0\n",
    "\n",
    "3)  i & 6 == 0\n",
    "\n",
    "4)  i | 6 == 0\n",
    "\n",
    "5)  i // 6 == 0"
   ]
  },
  {
   "cell_type": "code",
   "execution_count": 24,
   "id": "6cfac9d8",
   "metadata": {},
   "outputs": [],
   "source": [
    "#답 : 2번"
   ]
  },
  {
   "cell_type": "markdown",
   "id": "2d6c275d",
   "metadata": {},
   "source": [
    "# 23\n",
    "print(10/2)의 출력 결과는 5이다."
   ]
  },
  {
   "cell_type": "code",
   "execution_count": 25,
   "id": "274cfc75",
   "metadata": {},
   "outputs": [],
   "source": [
    "#답 : x"
   ]
  },
  {
   "cell_type": "markdown",
   "id": "6e076890",
   "metadata": {},
   "source": [
    "# 24\n",
    "민지는 국제 포럼에서 아르바이트를 하게 되었습니다. 민지는 각 국에서 온 참가자들의 명단을 엑셀로 정리하고 있는데 참가자들 이름이 어떤 이는 전부 소문자, 어떤 이는 전부 대문자로 써져 있는 등 형식이 제각각이었습니다.\n",
    "\n",
    "민지를 위해 **이름이 입력되면 전부 대문자로 출력되는 프로그램**을 만들어주세요.\n",
    "\n",
    ">> 입력\n",
    "\n",
    "```python\n",
    "mary\n",
    "```\n",
    "\n",
    ">> 출력\n",
    "\n",
    "```python\n",
    "MARY\n",
    "```"
   ]
  },
  {
   "cell_type": "code",
   "execution_count": 29,
   "id": "66b3c5b1",
   "metadata": {},
   "outputs": [
    {
     "name": "stdout",
     "output_type": "stream",
     "text": [
      "mary\n",
      "MARY\n"
     ]
    }
   ],
   "source": [
    "a = input()\n",
    "print(a.upper())"
   ]
  },
  {
   "cell_type": "markdown",
   "id": "fb63d264",
   "metadata": {},
   "source": [
    "# 25\n",
    "원의 넓이는 `반지름의 길이 x 반지름의 길이 x 3.14`로 구할 수 있습니다.\n",
    "함수를 사용하여 원의 넓이를 구하는 코드를 작성해봅시다.\n",
    "\n",
    "**입력을 반지름의 길이로 정수 n이 주어지면 원의 넓이를 반환하는 함수**를 만들어 주세요.\n",
    "(입력을 해야하기 때문에 input을 반드시 사용해야합니다)"
   ]
  },
  {
   "cell_type": "code",
   "execution_count": 31,
   "id": "d9c23a4b",
   "metadata": {},
   "outputs": [
    {
     "name": "stdout",
     "output_type": "stream",
     "text": [
      "3\n",
      "28.26\n"
     ]
    }
   ],
   "source": [
    "def area(a):\n",
    "    return a * a * 3.14\n",
    "\n",
    "a= int(input())\n",
    "\n",
    "print(area(a))"
   ]
  },
  {
   "cell_type": "markdown",
   "id": "a4a5ecfd",
   "metadata": {},
   "source": [
    "# 26\n",
    "우리 태양계를 이루는 행성은 수성, 금성, 지구, 화성, 목성, 토성, 천왕성, 해왕성이 있습니다.\n",
    "이 행성들의 영어 이름은 Mercury, Venus, Earth, Mars, Jupiter, Saturn, Uranus, Neptune입니다.\n",
    "\n",
    "행성의 한글 이름을 입력하면 영어 이름을 반환하는 프로그램을 만들어 주세요.\n"
   ]
  },
  {
   "cell_type": "code",
   "execution_count": 34,
   "id": "b84d7be9",
   "metadata": {},
   "outputs": [
    {
     "name": "stdout",
     "output_type": "stream",
     "text": [
      "지구\n",
      "Earth\n"
     ]
    }
   ],
   "source": [
    "planets = {\n",
    "    '수성' : 'Mercury',\n",
    "    '금성' : 'Venus',\n",
    "    '지구' : 'Earth',\n",
    "    '화성' : 'Mars',\n",
    "    '목성' : 'Jupiter',\n",
    "    '토성' : 'Saturn',\n",
    "    '천왕성' : 'Uranus',\n",
    "    '해왕성' : 'Neptune',\n",
    "}\n",
    "\n",
    "a = input()\n",
    "print(planets[a])"
   ]
  },
  {
   "cell_type": "markdown",
   "id": "56e25342",
   "metadata": {},
   "source": [
    "# 27\n",
    "첫 줄에는 학생의 이름이 공백으로 구분되어 입력되고, 두번째 줄에는 그 학생의 수학 점수가 공백으로 구분되어 주어집니다.\n",
    "\n",
    "두 개를 합쳐 **학생의 이름이 key**이고 **value가 수학 점수**인 딕셔너리를 출력해주세요.\n",
    "\n",
    ">> 입력\n",
    "\n",
    "```python\n",
    "Yujin Hyewon\n",
    "70 100\n",
    "```\n",
    "\n",
    ">> 출력\n",
    "\n",
    "```python\n",
    "{'Yujin': 70, 'Hyewon': 100}\n",
    "```"
   ]
  },
  {
   "cell_type": "code",
   "execution_count": 35,
   "id": "e20f4e9c",
   "metadata": {},
   "outputs": [
    {
     "name": "stdout",
     "output_type": "stream",
     "text": [
      "Yujin Hyewon\n",
      "70 100\n",
      "{'Yujin': 70, 'Hyewon': 100}\n"
     ]
    }
   ],
   "source": [
    "keys = input().split()\n",
    "values = map(int, input().split())\n",
    "\n",
    "mathdict = dict(zip(keys, values))\n",
    "\n",
    "print(mathdict)"
   ]
  },
  {
   "cell_type": "markdown",
   "id": "b3b1bc98",
   "metadata": {},
   "source": [
    "# 28\n",
    "**2-gram**이란 문자열에서 2개의 연속된 요소를 출력하는 방법입니다. \n",
    "예를 들어 '**Python**'을 2-gram으로 반복해 본다면 다음과 같은 결과가 나옵니다.\n",
    "\n",
    "```python\n",
    "Py\n",
    "yt\n",
    "th\n",
    "ho\n",
    "on\n",
    "```\n",
    "\n",
    "입력으로 문자열이 주어지면 **2-gram**으로 출력하는 프로그램을 작성해 주세요."
   ]
  },
  {
   "cell_type": "code",
   "execution_count": 39,
   "id": "024c7c2a",
   "metadata": {},
   "outputs": [
    {
     "name": "stdout",
     "output_type": "stream",
     "text": [
      "python\n",
      "py\n",
      "yt\n",
      "th\n",
      "ho\n",
      "on\n"
     ]
    }
   ],
   "source": [
    "a = input()\n",
    "\n",
    "for i in range(len(a) -1):\n",
    "    print(a[i], a[i + 1], sep = \"\")\n",
    "    i += 1"
   ]
  },
  {
   "cell_type": "markdown",
   "id": "81118b0d",
   "metadata": {},
   "source": [
    "# 29 \n",
    "진구는 영어 학원 아르바이트를 하고 있습니다. 반 아이들은 알파벳을 공부하는 학생들인데 오늘은 대문자 쓰기 시험을 봤습니다.\n",
    "\n",
    "알파벳 하나만을 입력하고 그 알파벳이 대문자이면 YES를 아니면 NO를 출력하는 프로그램을 만들어 주세요.\n",
    "\n",
    "→ 알파벳 여러개를 입력하고 여러개 입력한 것 중 대문자만 출력해주는 프로그램도 만들어보세요."
   ]
  },
  {
   "cell_type": "code",
   "execution_count": 40,
   "id": "99cc0afc",
   "metadata": {},
   "outputs": [
    {
     "name": "stdout",
     "output_type": "stream",
     "text": [
      "a\n",
      "NO\n"
     ]
    }
   ],
   "source": [
    "a = input()\n",
    "\n",
    "if a.isupper():\n",
    "    print('YES')\n",
    "else:\n",
    "    print('NO')"
   ]
  },
  {
   "cell_type": "markdown",
   "id": "a475c9e0",
   "metadata": {},
   "source": [
    "# 30\n",
    "문자 pineapple에는 apple이라는 문자가 숨어 있습니다. 원범이는 이렇듯 문자열 속에 숨어있는 문자를 찾아보려고 합니다.\n",
    "\n",
    "입력으로 첫 줄에 문자열이 주어지고 둘째 줄에 찾을 문자가 주어지면 \n",
    "**그 문자가 시작하는 index를 반환하는 프로그램**을 만들어 주세요\n",
    "\n",
    "```python\n",
    "**입력**\n",
    "\n",
    "pineapple is yummy\n",
    "apple\n",
    "\n",
    "**출력**\n",
    "4\n",
    "```"
   ]
  },
  {
   "cell_type": "code",
   "execution_count": 41,
   "id": "b7cfc7ac",
   "metadata": {},
   "outputs": [
    {
     "name": "stdout",
     "output_type": "stream",
     "text": [
      "pineapple is yummy\n",
      "apple\n",
      "4\n"
     ]
    }
   ],
   "source": [
    "word1 = input()\n",
    "word2 = input()\n",
    "\n",
    "print(word1.find(word2))"
   ]
  },
  {
   "cell_type": "code",
   "execution_count": 42,
   "id": "ec5b9698",
   "metadata": {},
   "outputs": [
    {
     "name": "stdout",
     "output_type": "stream",
     "text": [
      "pineapple is yummy\n",
      "apple\n",
      "4\n"
     ]
    }
   ],
   "source": [
    "word1 = input()\n",
    "word2 = input()\n",
    "\n",
    "print(word1.index(word2))"
   ]
  },
  {
   "cell_type": "markdown",
   "id": "fd7ac314",
   "metadata": {},
   "source": [
    "### find 와 index 차이점\n",
    "\n",
    "- 찾는 문자열이 없을 때 index는 오류발생"
   ]
  },
  {
   "cell_type": "code",
   "execution_count": null,
   "id": "e95f6631",
   "metadata": {},
   "outputs": [],
   "source": []
  }
 ],
 "metadata": {
  "kernelspec": {
   "display_name": "Python 3",
   "language": "python",
   "name": "python3"
  },
  "language_info": {
   "codemirror_mode": {
    "name": "ipython",
    "version": 3
   },
   "file_extension": ".py",
   "mimetype": "text/x-python",
   "name": "python",
   "nbconvert_exporter": "python",
   "pygments_lexer": "ipython3",
   "version": "3.8.8"
  }
 },
 "nbformat": 4,
 "nbformat_minor": 5
}
